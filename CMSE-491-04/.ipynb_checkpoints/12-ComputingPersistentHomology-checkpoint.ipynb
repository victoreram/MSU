{
 "cells": [
  {
   "cell_type": "markdown",
   "metadata": {
    "collapsed": true
   },
   "source": [
    "# Lecture 12: Computing persistent homology\n",
    "\n",
    "Last time, you got ripser and teaspoon installed, so now we will use them to compute persistent homology (way faster than we did in your homework....).\n",
    "\n",
    "If you run into trouble, the documentation for teaspoon is here: http://elizabethmunch.com/math/teaspoon/index.html\n",
    "\n",
    "Teaspoon provides wrapers for ripser, so you won't need to ever directly call ripser from this jupyter notebook.  However, there is more functionality in ripser than has been wrapped yet in teaspoon.  Further info on ripser is here: https://github.com/Ripser/ripser\n",
    "\n",
    "First, we will import the needed modules.  Please note that those first few lines are necessary if you've done the workaround for jupyterhub described in the previous module."
   ]
  },
  {
   "cell_type": "code",
   "execution_count": null,
   "metadata": {
    "collapsed": true
   },
   "outputs": [],
   "source": [
    "# import sys, os\n",
    "# os.environ['PATH']+= ':/home/YOUR_USERNAME/PersistenceCode/ripser/'\n",
    "# sys.path.append('/home/YOUR_USERNAME/PersistenceCode/teaspoon')"
   ]
  },
  {
   "cell_type": "code",
   "execution_count": null,
   "metadata": {
    "collapsed": true
   },
   "outputs": [],
   "source": [
    "import teaspoon.TDA.Persistence as pP\n",
    "import teaspoon.MakeData.PointCloud as gPC\n",
    "import teaspoon.TDA.Draw as Draw\n",
    "\n",
    "import matplotlib.pyplot as plt\n",
    "import numpy as np\n",
    "\n",
    "%matplotlib inline"
   ]
  },
  {
   "cell_type": "markdown",
   "metadata": {},
   "source": [
    "The `teaspoon.MakeData.PointCloud` has code for creating random point clouds for testing purposes.  In particular, we have the `Annulus` command which generates a point cloud from an annulus.  See the [documentation](http://elizabethmunch.com/math/teaspoon/namespaceteaspoon_1_1_make_data_1_1_point_cloud.html) for specific usage.\n",
    "\n",
    "Generate a point cloud with 200 points from an annulus which has inside radius 2 and outside radius 3. Use `plt.scatter` to draw the point cloud."
   ]
  },
  {
   "cell_type": "code",
   "execution_count": null,
   "metadata": {
    "collapsed": false
   },
   "outputs": [],
   "source": []
  },
  {
   "cell_type": "markdown",
   "metadata": {},
   "source": [
    "The `pP.VR_Ripser` command uses Ripser to compute persistence of the point cloud for the Rips (aka Vietoris-Rips) complex.  Again, see the [documentation](http://elizabethmunch.com/math/teaspoon/namespaceteaspoon_1_1_t_d_a_1_1_persistence.html#ae3954f45636c5f88b8e7cb7b422eea3d).\n",
    "\n",
    "The output is a dictionary with integer keys representing each of the dimensions of homology.  Use this to compute 1-dimensional persistent homology, then use `plt.scatter` again to draw the persistence diagram.  "
   ]
  },
  {
   "cell_type": "code",
   "execution_count": null,
   "metadata": {
    "collapsed": false
   },
   "outputs": [],
   "source": []
  },
  {
   "cell_type": "code",
   "execution_count": null,
   "metadata": {
    "collapsed": false
   },
   "outputs": [],
   "source": []
  },
  {
   "cell_type": "markdown",
   "metadata": {},
   "source": [
    "Psssst, if we want to be lazy, there are commands `Draw.drawDgm` and `Draw.drawPtCloud` which can do that last bit for us a little easier (however, there's a bug in the drawDgm command for the 0-dimensional diagrams...... I'll fix that eventually)."
   ]
  },
  {
   "cell_type": "code",
   "execution_count": null,
   "metadata": {
    "collapsed": false
   },
   "outputs": [],
   "source": []
  },
  {
   "cell_type": "code",
   "execution_count": null,
   "metadata": {
    "collapsed": false
   },
   "outputs": [],
   "source": []
  },
  {
   "cell_type": "markdown",
   "metadata": {},
   "source": [
    "Does this fit with your expectation of the 1-dimensional homology of the annulus?"
   ]
  },
  {
   "cell_type": "markdown",
   "metadata": {},
   "source": [
    "Now, use the `gPC.Torus` command to get a point cloud of a torus.  Try the same thing again to draw the 0, 1, and 2-dimensional persistence diagrams. (Note: you might need about 300 points before the big classes become clear....)"
   ]
  },
  {
   "cell_type": "code",
   "execution_count": null,
   "metadata": {
    "collapsed": false
   },
   "outputs": [],
   "source": []
  },
  {
   "cell_type": "code",
   "execution_count": null,
   "metadata": {
    "collapsed": false,
    "scrolled": true
   },
   "outputs": [],
   "source": []
  },
  {
   "cell_type": "code",
   "execution_count": null,
   "metadata": {
    "collapsed": true
   },
   "outputs": [],
   "source": []
  },
  {
   "cell_type": "code",
   "execution_count": null,
   "metadata": {
    "collapsed": false
   },
   "outputs": [],
   "source": []
  },
  {
   "cell_type": "code",
   "execution_count": null,
   "metadata": {
    "collapsed": false
   },
   "outputs": [],
   "source": []
  },
  {
   "cell_type": "code",
   "execution_count": null,
   "metadata": {
    "collapsed": false
   },
   "outputs": [],
   "source": []
  },
  {
   "cell_type": "code",
   "execution_count": null,
   "metadata": {
    "collapsed": false
   },
   "outputs": [],
   "source": []
  },
  {
   "cell_type": "markdown",
   "metadata": {},
   "source": [
    "## Persistence for different point clouds\n",
    "\n",
    "If we generate a bunch of random point clouds, we can see how the differences give us differen persistence diagrams.  \n",
    "\n",
    "Make two point point clouds, each pulled from an annulus with $N = 200, r = 1, R = 2$ and draw their one-dimensional persistence diagrams on top of each other."
   ]
  },
  {
   "cell_type": "code",
   "execution_count": null,
   "metadata": {
    "collapsed": false
   },
   "outputs": [],
   "source": []
  },
  {
   "cell_type": "code",
   "execution_count": null,
   "metadata": {
    "collapsed": false
   },
   "outputs": [],
   "source": []
  },
  {
   "cell_type": "markdown",
   "metadata": {},
   "source": [
    "What do you notice about the two persistence diagrams?\n",
    "\n",
    "\n",
    "Now overlay your 1-dimensional torus diagram from earlier.  What do you see?"
   ]
  },
  {
   "cell_type": "code",
   "execution_count": null,
   "metadata": {
    "collapsed": false
   },
   "outputs": [],
   "source": []
  },
  {
   "cell_type": "markdown",
   "metadata": {},
   "source": [
    "Back to thinking about the annulus, what happens to the diagrams if you change the inside radius? What if you change the outside radius? What if you change the number of points?"
   ]
  },
  {
   "cell_type": "code",
   "execution_count": null,
   "metadata": {
    "collapsed": true
   },
   "outputs": [],
   "source": []
  }
 ],
 "metadata": {
  "anaconda-cloud": {},
  "kernelspec": {
   "display_name": "Python [default]",
   "language": "python",
   "name": "python3"
  },
  "language_info": {
   "codemirror_mode": {
    "name": "ipython",
    "version": 3
   },
   "file_extension": ".py",
   "mimetype": "text/x-python",
   "name": "python",
   "nbconvert_exporter": "python",
   "pygments_lexer": "ipython3",
   "version": "3.5.2"
  }
 },
 "nbformat": 4,
 "nbformat_minor": 2
}

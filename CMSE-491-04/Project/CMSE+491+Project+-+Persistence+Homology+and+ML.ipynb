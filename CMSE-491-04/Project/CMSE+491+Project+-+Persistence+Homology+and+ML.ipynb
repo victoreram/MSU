{
 "cells": [
  {
   "cell_type": "markdown",
   "metadata": {},
   "source": [
    "Victor Ramirez"
   ]
  },
  {
   "cell_type": "code",
   "execution_count": 1,
   "metadata": {
    "collapsed": true
   },
   "outputs": [],
   "source": [
    "%matplotlib inline\n",
    "import matplotlib.pylab as plt\n",
    "\n",
    "import numpy as np\n",
    "import pandas as pd\n",
    "from sklearn.datasets import fetch_lfw_people, load_digits\n",
    "\n",
    "sk_data = load_digits()\n"
   ]
  },
  {
   "cell_type": "markdown",
   "metadata": {},
   "source": [
    "Loading in the data..."
   ]
  },
  {
   "cell_type": "code",
   "execution_count": 2,
   "metadata": {
    "collapsed": true
   },
   "outputs": [],
   "source": [
    "feature_vectors = sk_data.data\n",
    "class_labels = sk_data.target\n",
    "categories = sk_data.target_names\n",
    "\n",
    "\n",
    "n_samples, n_features = feature_vectors.shape\n",
    "N, h, w = sk_data.images.shape\n",
    "n_classes = len(categories)"
   ]
  },
  {
   "cell_type": "code",
   "execution_count": 3,
   "metadata": {},
   "outputs": [
    {
     "name": "stdout",
     "output_type": "stream",
     "text": [
      "Number of samples: 1797; Number of features: 64; Number of classes: 10; Shape: 1797; 8 x 8\n"
     ]
    }
   ],
   "source": [
    "print(\"Number of samples: {}; Number of features: {}; Number of classes: {}; Shape: {}; {} x {}\".format\n",
    "      (n_samples,n_features,n_classes, N,h,w))"
   ]
  },
  {
   "cell_type": "markdown",
   "metadata": {},
   "source": [
    "1. **n_samples:** Total number of images in the digits dataset. \n",
    "2. **n_features:**: Number of points; each point is measure din some gray scale \n",
    "3. **n_classes:**: Number of different numbers we have, 0-9\n",
    "4. **N:**: The number of images produced \n",
    "5. **h:** Height\n",
    "6. **w:** Width\n"
   ]
  },
  {
   "cell_type": "markdown",
   "metadata": {},
   "source": [
    "Displaying the digits"
   ]
  },
  {
   "cell_type": "code",
   "execution_count": 4,
   "metadata": {},
   "outputs": [
    {
     "data": {
      "text/plain": [
       "<matplotlib.text.Text at 0x7f3b63b036a0>"
      ]
     },
     "execution_count": 4,
     "metadata": {},
     "output_type": "execute_result"
    },
    {
     "data": {
      "image/png": "[encoded data removed]",
      "text/plain": [
       "<matplotlib.figure.Figure at 0x7f3b638d7cc0>"
      ]
     },
     "metadata": {},
     "output_type": "display_data"
    }
   ],
   "source": [
    "plt.figure(1, figsize=(6, 6))\n",
    "plt.imshow(sk_data.images[1], cmap=plt.cm.gray_r, interpolation='nearest')\n",
    "plt.colorbar()\n",
    "plt.title(sk_data.target[1])\n",
    "#plt.show()\n",
    "#plt.savefig(\"sample_digit.png\")"
   ]
  },
  {
   "cell_type": "code",
   "execution_count": 5,
   "metadata": {},
   "outputs": [
    {
     "data": {
      "image/png": "[encoded data removed]",
      "text/plain": [
       "<matplotlib.figure.Figure at 0x7f3b638d7b38>"
      ]
     },
     "metadata": {},
     "output_type": "display_data"
    }
   ],
   "source": [
    "def plot_gallery(images, titles, h, w, n_row=2, n_col=5):\n",
    "    \"\"\"Helper function to plot a gallery of portraits\"\"\"\n",
    "    plt.figure(figsize=(3 * n_col, 3 * n_row))\n",
    "    plt.subplots_adjust(bottom=0, left=.01, right=.99, top=.90, hspace=.35)\n",
    "    for i in range(n_row * n_col):\n",
    "        plt.subplot(n_row, n_col, i + 1)\n",
    "        plt.imshow(images[i].reshape((h, w)), cmap=plt.cm.gray)\n",
    "        plt.title(titles[i], size=12)\n",
    "        #plt.xticks(())\n",
    "        #plt.yticks(())\n",
    "        plt.colorbar()\n",
    "        \n",
    "    #plt.savefig(\"sample_digits.png\")\n",
    "\n",
    "    \n",
    "plot_gallery(sk_data.images, sk_data.target, h,w)\n",
    "\n",
    "#plt.figure(1, figsize=(6, 6))\n",
    "#plt.imshow(sk_data.images[1], cmap=plt.cm.gray_r, interpolation='nearest')\n",
    "#plt.colorbar()\n",
    "#plt.title(sk_data.target[1])\n",
    "#plt.show()\n"
   ]
  },
  {
   "cell_type": "code",
   "execution_count": 6,
   "metadata": {
    "collapsed": true
   },
   "outputs": [],
   "source": [
    "from ipywidgets import interact\n",
    "\n",
    "def browse_images(images, labels, categories):\n",
    "    n = len(images)\n",
    "    def view_image(i):\n",
    "        plt.imshow(images[i], cmap=plt.cm.gray_r, interpolation='nearest')\n",
    "        plt.title('%s' % categories[labels[i]])\n",
    "        plt.axis('off')\n",
    "        plt.show()\n",
    "    interact(view_image, i=(0,n-1))"
   ]
  },
  {
   "cell_type": "code",
   "execution_count": 7,
   "metadata": {},
   "outputs": [
    {
     "data": {
      "application/vnd.jupyter.widget-view+json": {
       "model_id": "67554fbb860246d4979be8749272d35b"
      }
     },
     "metadata": {},
     "output_type": "display_data"
    }
   ],
   "source": [
    "browse_images(sk_data.images, sk_data.target, sk_data.target_names)\n"
   ]
  },
  {
   "cell_type": "code",
   "execution_count": 8,
   "metadata": {},
   "outputs": [
    {
     "name": "stdout",
     "output_type": "stream",
     "text": [
      "[[  0.   0.   0.  12.  13.   5.   0.   0.]\n",
      " [  0.   0.   0.  11.  16.   9.   0.   0.]\n",
      " [  0.   0.   3.  15.  16.   6.   0.   0.]\n",
      " [  0.   7.  15.  16.  16.   2.   0.   0.]\n",
      " [  0.   0.   1.  16.  16.   3.   0.   0.]\n",
      " [  0.   0.   1.  16.  16.   6.   0.   0.]\n",
      " [  0.   0.   1.  16.  16.   6.   0.   0.]\n",
      " [  0.   0.   0.  11.  16.  10.   0.   0.]]\n"
     ]
    },
    {
     "data": {
      "text/plain": [
       "array([[0, 3],\n",
       "       [0, 4],\n",
       "       [0, 5],\n",
       "       [1, 3],\n",
       "       [1, 4],\n",
       "       [1, 5],\n",
       "       [2, 3],\n",
       "       [2, 4],\n",
       "       [2, 5],\n",
       "       [3, 1],\n",
       "       [3, 2],\n",
       "       [3, 3],\n",
       "       [3, 4],\n",
       "       [4, 3],\n",
       "       [4, 4],\n",
       "       [5, 3],\n",
       "       [5, 4],\n",
       "       [5, 5],\n",
       "       [6, 3],\n",
       "       [6, 4],\n",
       "       [6, 5],\n",
       "       [7, 3],\n",
       "       [7, 4],\n",
       "       [7, 5]])"
      ]
     },
     "execution_count": 8,
     "metadata": {},
     "output_type": "execute_result"
    }
   ],
   "source": [
    "### Generate point cloud for first digit matrix\n",
    "### I set the cut-off to 5 so I can read all data sets.\n",
    "#P_1 = []#np.zeros((h*w,2))\n",
    "label_1 = sk_data.target[1]\n",
    "digit_1 = sk_data.images[1]\n",
    "print(digit_1)\n",
    "\n",
    "def pixel_point_cloud(digit_matrix, threshold = 1):\n",
    "    P = []\n",
    "    for row in range(h):\n",
    "        for col in range(w):\n",
    "            if digit_matrix[row][col] >= threshold:\n",
    "                P.append((row,col))\n",
    "                \n",
    "    return np.array(P)\n",
    "\n",
    "P_1 = pixel_point_cloud(digit_1, threshold = 5)\n",
    "P_1"
   ]
  },
  {
   "cell_type": "code",
   "execution_count": 9,
   "metadata": {},
   "outputs": [
    {
     "data": {
      "text/plain": [
       "<matplotlib.collections.PathCollection at 0x7f3b5fb533c8>"
      ]
     },
     "execution_count": 9,
     "metadata": {},
     "output_type": "execute_result"
    },
    {
     "data": {
      "image/png": "[encoded data removed]",
      "text/plain": [
       "<matplotlib.figure.Figure at 0x7f3b5fcd82e8>"
      ]
     },
     "metadata": {},
     "output_type": "display_data"
    }
   ],
   "source": [
    "x,y = zip(*P_1)\n",
    "plt.scatter(x,y)"
   ]
  },
  {
   "cell_type": "code",
   "execution_count": 10,
   "metadata": {
    "collapsed": true
   },
   "outputs": [],
   "source": [
    "import sys, os\n",
    "os.environ['PATH']+= ':/home/ramir193/ripser/'\n",
    "sys.path.append('/home/ramir193/teaspoon/')\n",
    "import teaspoon.TDA.Persistence as pP\n",
    "import teaspoon.MakeData.PointCloud as gPC\n",
    "import teaspoon.TDA.Draw as Draw"
   ]
  },
  {
   "cell_type": "code",
   "execution_count": 11,
   "metadata": {
    "collapsed": true
   },
   "outputs": [],
   "source": [
    "D_1 = pP.VR_Ripser(P_1,1)\n",
    "pd_0d_1 = D_1[0]\n",
    "pd_1d_1 = D_1[1]\n",
    "pd_0d_1_lst = list(pd_0d_1)\n",
    "pd_1d_1_lst = list(pd_1d_1)\n"
   ]
  },
  {
   "cell_type": "code",
   "execution_count": 12,
   "metadata": {},
   "outputs": [
    {
     "data": {
      "text/plain": [
       "array([ 0.41421,  0.41421,  0.41421,  0.41421,  0.41421,  0.41421,\n",
       "        0.41421,  0.41421,  0.41421,  0.41421,  0.41421])"
      ]
     },
     "execution_count": 12,
     "metadata": {},
     "output_type": "execute_result"
    }
   ],
   "source": [
    "lifetime_1 = pd_1d_1[:,1] - pd_1d_1[:,0]\n",
    "lifetime_1"
   ]
  },
  {
   "cell_type": "code",
   "execution_count": 13,
   "metadata": {},
   "outputs": [
    {
     "data": {
      "image/png": "[encoded data removed]",
      "text/plain": [
       "<matplotlib.figure.Figure at 0x7f3b5fb2aa90>"
      ]
     },
     "metadata": {},
     "output_type": "display_data"
    }
   ],
   "source": [
    "Draw.drawDgm(pd_1d_1)"
   ]
  },
  {
   "cell_type": "code",
   "execution_count": 14,
   "metadata": {},
   "outputs": [
    {
     "data": {
      "text/html": [
       "<div>\n",
       "<style>\n",
       "    .dataframe thead tr:only-child th {\n",
       "        text-align: right;\n",
       "    }\n",
       "\n",
       "    .dataframe thead th {\n",
       "        text-align: left;\n",
       "    }\n",
       "\n",
       "    .dataframe tbody tr th {\n",
       "        vertical-align: top;\n",
       "    }\n",
       "</style>\n",
       "<table border=\"1\" class=\"dataframe\">\n",
       "  <thead>\n",
       "    <tr style=\"text-align: right;\">\n",
       "      <th></th>\n",
       "      <th>label</th>\n",
       "      <th>0-D</th>\n",
       "      <th>1-D</th>\n",
       "      <th>Lifetimes</th>\n",
       "    </tr>\n",
       "  </thead>\n",
       "  <tbody>\n",
       "    <tr>\n",
       "      <th>0</th>\n",
       "      <td>1</td>\n",
       "      <td>[[0.0, 1.0], [0.0, 1.0], [0.0, 1.0], [0.0, 1.0...</td>\n",
       "      <td>[[1.0, 1.41421], [1.0, 1.41421], [1.0, 1.41421...</td>\n",
       "      <td>[0.41421, 0.41421, 0.41421, 0.41421, 0.41421, ...</td>\n",
       "    </tr>\n",
       "  </tbody>\n",
       "</table>\n",
       "</div>"
      ],
      "text/plain": [
       "   label                                                0-D  \\\n",
       "0      1  [[0.0, 1.0], [0.0, 1.0], [0.0, 1.0], [0.0, 1.0...   \n",
       "\n",
       "                                                 1-D  \\\n",
       "0  [[1.0, 1.41421], [1.0, 1.41421], [1.0, 1.41421...   \n",
       "\n",
       "                                           Lifetimes  \n",
       "0  [0.41421, 0.41421, 0.41421, 0.41421, 0.41421, ...  "
      ]
     },
     "execution_count": 14,
     "metadata": {},
     "output_type": "execute_result"
    }
   ],
   "source": [
    "D_1_df = pd.DataFrame([[label_1,pd_0d_1,pd_1d_1,lifetime_1]],columns=[\"label\", \"0-D\", \"1-D\", \"Lifetimes\"])\n",
    "\n",
    "D_1_df"
   ]
  },
  {
   "cell_type": "code",
   "execution_count": 15,
   "metadata": {},
   "outputs": [
    {
     "data": {
      "text/html": [
       "<div>\n",
       "<style>\n",
       "    .dataframe thead tr:only-child th {\n",
       "        text-align: right;\n",
       "    }\n",
       "\n",
       "    .dataframe thead th {\n",
       "        text-align: left;\n",
       "    }\n",
       "\n",
       "    .dataframe tbody tr th {\n",
       "        vertical-align: top;\n",
       "    }\n",
       "</style>\n",
       "<table border=\"1\" class=\"dataframe\">\n",
       "  <thead>\n",
       "    <tr style=\"text-align: right;\">\n",
       "      <th></th>\n",
       "      <th>label</th>\n",
       "      <th>PD 1-D</th>\n",
       "      <th>Max Lifetimes 1-D</th>\n",
       "    </tr>\n",
       "  </thead>\n",
       "  <tbody>\n",
       "    <tr>\n",
       "      <th>0</th>\n",
       "      <td>0</td>\n",
       "      <td>[[1.0, 1.41421], [1.0, 1.41421], [1.0, 3.16228...</td>\n",
       "      <td>2.16228</td>\n",
       "    </tr>\n",
       "    <tr>\n",
       "      <th>1</th>\n",
       "      <td>1</td>\n",
       "      <td>[[1.0, 1.41421], [1.0, 1.41421], [1.0, 1.41421...</td>\n",
       "      <td>0.41421</td>\n",
       "    </tr>\n",
       "    <tr>\n",
       "      <th>2</th>\n",
       "      <td>2</td>\n",
       "      <td>[[1.0, 1.41421], [1.0, 1.41421], [1.0, 1.41421...</td>\n",
       "      <td>0.41421</td>\n",
       "    </tr>\n",
       "    <tr>\n",
       "      <th>3</th>\n",
       "      <td>3</td>\n",
       "      <td>[[1.0, 1.41421], [1.0, 1.41421], [1.0, 1.41421...</td>\n",
       "      <td>0.41421</td>\n",
       "    </tr>\n",
       "    <tr>\n",
       "      <th>4</th>\n",
       "      <td>4</td>\n",
       "      <td>[[1.41421, 2.23607], [1.0, 1.41421], [1.0, 1.4...</td>\n",
       "      <td>0.82186</td>\n",
       "    </tr>\n",
       "    <tr>\n",
       "      <th>5</th>\n",
       "      <td>5</td>\n",
       "      <td>[[1.0, 1.41421], [1.0, 1.41421], [1.0, 1.41421...</td>\n",
       "      <td>0.41421</td>\n",
       "    </tr>\n",
       "    <tr>\n",
       "      <th>6</th>\n",
       "      <td>6</td>\n",
       "      <td>[[1.0, 1.41421], [1.0, 1.41421], [1.0, 1.41421...</td>\n",
       "      <td>0.41421</td>\n",
       "    </tr>\n",
       "    <tr>\n",
       "      <th>7</th>\n",
       "      <td>7</td>\n",
       "      <td>[[2.0, 2.23607], [1.41421, 2.0], [1.0, 1.41421...</td>\n",
       "      <td>0.58579</td>\n",
       "    </tr>\n",
       "    <tr>\n",
       "      <th>8</th>\n",
       "      <td>8</td>\n",
       "      <td>[[1.0, 1.41421], [1.0, 1.41421], [1.0, 1.41421...</td>\n",
       "      <td>1.23607</td>\n",
       "    </tr>\n",
       "    <tr>\n",
       "      <th>9</th>\n",
       "      <td>9</td>\n",
       "      <td>[[1.0, 1.41421], [1.0, 1.41421], [1.0, 1.41421...</td>\n",
       "      <td>1.00000</td>\n",
       "    </tr>\n",
       "  </tbody>\n",
       "</table>\n",
       "</div>"
      ],
      "text/plain": [
       "   label                                             PD 1-D  Max Lifetimes 1-D\n",
       "0      0  [[1.0, 1.41421], [1.0, 1.41421], [1.0, 3.16228...            2.16228\n",
       "1      1  [[1.0, 1.41421], [1.0, 1.41421], [1.0, 1.41421...            0.41421\n",
       "2      2  [[1.0, 1.41421], [1.0, 1.41421], [1.0, 1.41421...            0.41421\n",
       "3      3  [[1.0, 1.41421], [1.0, 1.41421], [1.0, 1.41421...            0.41421\n",
       "4      4  [[1.41421, 2.23607], [1.0, 1.41421], [1.0, 1.4...            0.82186\n",
       "5      5  [[1.0, 1.41421], [1.0, 1.41421], [1.0, 1.41421...            0.41421\n",
       "6      6  [[1.0, 1.41421], [1.0, 1.41421], [1.0, 1.41421...            0.41421\n",
       "7      7  [[2.0, 2.23607], [1.41421, 2.0], [1.0, 1.41421...            0.58579\n",
       "8      8  [[1.0, 1.41421], [1.0, 1.41421], [1.0, 1.41421...            1.23607\n",
       "9      9  [[1.0, 1.41421], [1.0, 1.41421], [1.0, 1.41421...            1.00000"
      ]
     },
     "execution_count": 15,
     "metadata": {},
     "output_type": "execute_result"
    }
   ],
   "source": [
    "### Generate homology info for each digit ###\n",
    "n = n_samples\n",
    "labels = sk_data.target[:n]\n",
    "digits = sk_data.images[:n]\n",
    "digit_clouds = []\n",
    "rows = []\n",
    "column_names = [\"label\",  \"PD 1-D\", \"Max Lifetimes 1-D\"]\n",
    "for i in range(n):\n",
    "    try:\n",
    "        digit = digits[i]\n",
    "        P = pixel_point_cloud(digit, threshold = 5)\n",
    "        digit_clouds.append(P)\n",
    "        persistence_diagrams = pP.VR_Ripser(P,1)\n",
    "        pd_1d = persistence_diagrams[1]\n",
    "        max_lifetime_1d = max(pd_1d[:,1] - pd_1d[:,0])\n",
    "        rows.append([labels[i],pd_1d,max_lifetime_1d])\n",
    "    except IndexError:\n",
    "        continue\n",
    "\n",
    "persistence_df = pd.DataFrame(rows, columns = column_names)\n",
    "persistence_df.head(10)"
   ]
  },
  {
   "cell_type": "markdown",
   "metadata": {},
   "source": [
    "#### Compute Carlsson coordinates\n"
   ]
  },
  {
   "cell_type": "code",
   "execution_count": 16,
   "metadata": {},
   "outputs": [
    {
     "data": {
      "text/html": [
       "<div>\n",
       "<style>\n",
       "    .dataframe thead tr:only-child th {\n",
       "        text-align: right;\n",
       "    }\n",
       "\n",
       "    .dataframe thead th {\n",
       "        text-align: left;\n",
       "    }\n",
       "\n",
       "    .dataframe tbody tr th {\n",
       "        vertical-align: top;\n",
       "    }\n",
       "</style>\n",
       "<table border=\"1\" class=\"dataframe\">\n",
       "  <thead>\n",
       "    <tr style=\"text-align: right;\">\n",
       "      <th></th>\n",
       "      <th>label</th>\n",
       "      <th>PD 1-D</th>\n",
       "      <th>Max Lifetimes 1-D</th>\n",
       "      <th>f1</th>\n",
       "      <th>f2</th>\n",
       "      <th>f3</th>\n",
       "      <th>f4</th>\n",
       "    </tr>\n",
       "  </thead>\n",
       "  <tbody>\n",
       "    <tr>\n",
       "      <th>0</th>\n",
       "      <td>0</td>\n",
       "      <td>[[1.0, 1.41421], [1.0, 1.41421], [1.0, 3.16228...</td>\n",
       "      <td>2.16228</td>\n",
       "      <td>5.475960</td>\n",
       "      <td>5.792545</td>\n",
       "      <td>22.095367</td>\n",
       "      <td>0.719598</td>\n",
       "    </tr>\n",
       "    <tr>\n",
       "      <th>1</th>\n",
       "      <td>1</td>\n",
       "      <td>[[1.0, 1.41421], [1.0, 1.41421], [1.0, 1.41421...</td>\n",
       "      <td>0.41421</td>\n",
       "      <td>4.556310</td>\n",
       "      <td>0.000000</td>\n",
       "      <td>0.323799</td>\n",
       "      <td>0.000000</td>\n",
       "    </tr>\n",
       "    <tr>\n",
       "      <th>2</th>\n",
       "      <td>2</td>\n",
       "      <td>[[1.0, 1.41421], [1.0, 1.41421], [1.0, 1.41421...</td>\n",
       "      <td>0.41421</td>\n",
       "      <td>4.970520</td>\n",
       "      <td>0.000000</td>\n",
       "      <td>0.353235</td>\n",
       "      <td>0.000000</td>\n",
       "    </tr>\n",
       "    <tr>\n",
       "      <th>3</th>\n",
       "      <td>3</td>\n",
       "      <td>[[1.0, 1.41421], [1.0, 1.41421], [1.0, 1.41421...</td>\n",
       "      <td>0.41421</td>\n",
       "      <td>2.485260</td>\n",
       "      <td>0.000000</td>\n",
       "      <td>0.176617</td>\n",
       "      <td>0.000000</td>\n",
       "    </tr>\n",
       "    <tr>\n",
       "      <th>4</th>\n",
       "      <td>4</td>\n",
       "      <td>[[1.41421, 2.23607], [1.0, 1.41421], [1.0, 1.4...</td>\n",
       "      <td>0.82186</td>\n",
       "      <td>3.233333</td>\n",
       "      <td>1.702113</td>\n",
       "      <td>1.059652</td>\n",
       "      <td>0.099414</td>\n",
       "    </tr>\n",
       "    <tr>\n",
       "      <th>5</th>\n",
       "      <td>5</td>\n",
       "      <td>[[1.0, 1.41421], [1.0, 1.41421], [1.0, 1.41421...</td>\n",
       "      <td>0.41421</td>\n",
       "      <td>4.142100</td>\n",
       "      <td>0.000000</td>\n",
       "      <td>0.294362</td>\n",
       "      <td>0.000000</td>\n",
       "    </tr>\n",
       "    <tr>\n",
       "      <th>6</th>\n",
       "      <td>6</td>\n",
       "      <td>[[1.0, 1.41421], [1.0, 1.41421], [1.0, 1.41421...</td>\n",
       "      <td>0.41421</td>\n",
       "      <td>4.556310</td>\n",
       "      <td>0.000000</td>\n",
       "      <td>0.323799</td>\n",
       "      <td>0.000000</td>\n",
       "    </tr>\n",
       "    <tr>\n",
       "      <th>7</th>\n",
       "      <td>7</td>\n",
       "      <td>[[2.0, 2.23607], [1.41421, 2.0], [1.0, 1.41421...</td>\n",
       "      <td>0.58579</td>\n",
       "      <td>4.200040</td>\n",
       "      <td>2.521246</td>\n",
       "      <td>0.453979</td>\n",
       "      <td>0.145742</td>\n",
       "    </tr>\n",
       "    <tr>\n",
       "      <th>8</th>\n",
       "      <td>8</td>\n",
       "      <td>[[1.0, 1.41421], [1.0, 1.41421], [1.0, 1.41421...</td>\n",
       "      <td>1.23607</td>\n",
       "      <td>4.307120</td>\n",
       "      <td>1.938183</td>\n",
       "      <td>3.481565</td>\n",
       "      <td>0.155143</td>\n",
       "    </tr>\n",
       "    <tr>\n",
       "      <th>9</th>\n",
       "      <td>9</td>\n",
       "      <td>[[1.0, 1.41421], [1.0, 1.41421], [1.0, 1.41421...</td>\n",
       "      <td>1.00000</td>\n",
       "      <td>3.485260</td>\n",
       "      <td>1.455840</td>\n",
       "      <td>1.176617</td>\n",
       "      <td>0.060606</td>\n",
       "    </tr>\n",
       "  </tbody>\n",
       "</table>\n",
       "</div>"
      ],
      "text/plain": [
       "   label                                             PD 1-D  \\\n",
       "0      0  [[1.0, 1.41421], [1.0, 1.41421], [1.0, 3.16228...   \n",
       "1      1  [[1.0, 1.41421], [1.0, 1.41421], [1.0, 1.41421...   \n",
       "2      2  [[1.0, 1.41421], [1.0, 1.41421], [1.0, 1.41421...   \n",
       "3      3  [[1.0, 1.41421], [1.0, 1.41421], [1.0, 1.41421...   \n",
       "4      4  [[1.41421, 2.23607], [1.0, 1.41421], [1.0, 1.4...   \n",
       "5      5  [[1.0, 1.41421], [1.0, 1.41421], [1.0, 1.41421...   \n",
       "6      6  [[1.0, 1.41421], [1.0, 1.41421], [1.0, 1.41421...   \n",
       "7      7  [[2.0, 2.23607], [1.41421, 2.0], [1.0, 1.41421...   \n",
       "8      8  [[1.0, 1.41421], [1.0, 1.41421], [1.0, 1.41421...   \n",
       "9      9  [[1.0, 1.41421], [1.0, 1.41421], [1.0, 1.41421...   \n",
       "\n",
       "   Max Lifetimes 1-D        f1        f2         f3        f4  \n",
       "0            2.16228  5.475960  5.792545  22.095367  0.719598  \n",
       "1            0.41421  4.556310  0.000000   0.323799  0.000000  \n",
       "2            0.41421  4.970520  0.000000   0.353235  0.000000  \n",
       "3            0.41421  2.485260  0.000000   0.176617  0.000000  \n",
       "4            0.82186  3.233333  1.702113   1.059652  0.099414  \n",
       "5            0.41421  4.142100  0.000000   0.294362  0.000000  \n",
       "6            0.41421  4.556310  0.000000   0.323799  0.000000  \n",
       "7            0.58579  4.200040  2.521246   0.453979  0.145742  \n",
       "8            1.23607  4.307120  1.938183   3.481565  0.155143  \n",
       "9            1.00000  3.485260  1.455840   1.176617  0.060606  "
      ]
     },
     "execution_count": 16,
     "metadata": {},
     "output_type": "execute_result"
    }
   ],
   "source": [
    "\n",
    "def f_1(x,y):\n",
    "    return np.sum(x*(y-x))\n",
    "\n",
    "def f_2(x,y):\n",
    "    y_max = max(y)\n",
    "    return np.sum((y_max-y)*(y-x))\n",
    "\n",
    "def f_3(x,y):\n",
    "    return np.sum(x**2*(y-x)**4)\n",
    "    \n",
    "def f_4(x,y):\n",
    "    y_max = max(y)\n",
    "    return np.sum((y_max-y)**2*(y-x)**4)\n",
    "                  \n",
    "    \n",
    "coordinates = []\n",
    "sample_dgms = persistence_df['PD 1-D']\n",
    "for i in range(n):\n",
    "    dgm = sample_dgms[i]\n",
    "    x,y = zip(*dgm)\n",
    "    x = np.array(x)\n",
    "    y = np.array(y)\n",
    "    coordinates.append([f_1(x,y),f_2(x,y),f_3(x,y),f_4(x,y)])\n",
    "\n",
    "coordinates_df = pd.DataFrame(coordinates, columns=['f1','f2','f3','f4'],dtype='float')\n",
    "persistence_df = pd.concat([persistence_df,coordinates_df],axis=1)\n",
    "persistence_df.head(10)\n"
   ]
  },
  {
   "cell_type": "markdown",
   "metadata": {},
   "source": [
    "### Machine Learning using SVM"
   ]
  },
  {
   "cell_type": "markdown",
   "metadata": {},
   "source": [
    "#### Features = Carlsson Coordinates"
   ]
  },
  {
   "cell_type": "code",
   "execution_count": 17,
   "metadata": {},
   "outputs": [],
   "source": [
    "from sklearn import svm\n",
    "from sklearn.model_selection import train_test_split\n",
    "\n",
    "X = persistence_df.filter(regex='f[1-4]')\n",
    "y = persistence_df['label']\n",
    "X_train, X_test, y_train, y_test = train_test_split(\n",
    "    X, y, test_size=0.2, random_state=1349)\n",
    "\n",
    "lin_clf = svm.LinearSVC()\n",
    "lin_clf.fit(X_train, y_train)\n",
    "y_pred = lin_clf.predict(X_test)\n",
    "score = lin_clf.score(X_test,y_test)\n"
   ]
  },
  {
   "cell_type": "code",
   "execution_count": 20,
   "metadata": {},
   "outputs": [
    {
     "name": "stdout",
     "output_type": "stream",
     "text": [
      "             precision    recall  f1-score   support\n",
      "\n",
      "          0       0.90      0.93      0.91        28\n",
      "          1       0.29      0.81      0.43        42\n",
      "          2       0.14      0.14      0.14        36\n",
      "          3       0.21      0.11      0.14        37\n",
      "          4       0.00      0.00      0.00        38\n",
      "          5       0.12      0.03      0.05        36\n",
      "          6       0.47      0.51      0.49        39\n",
      "          7       0.28      0.52      0.36        31\n",
      "          8       0.43      0.40      0.42        40\n",
      "          9       0.60      0.27      0.37        33\n",
      "\n",
      "avg / total       0.33      0.36      0.32       360\n",
      "\n",
      "Confusion matrix:\n",
      "[[26  0  0  0  0  0  0  0  2  0]\n",
      " [ 0 34  7  0  0  0  0  0  1  0]\n",
      " [ 0 18  5  4  0  0  1  7  1  0]\n",
      " [ 0 11  6  4  0  2  0 12  1  1]\n",
      " [ 1  6  4  5  0  1  2 12  7  0]\n",
      " [ 0 14  5  3  0  1  0  8  0  5]\n",
      " [ 1 12  1  1  0  1 20  0  3  0]\n",
      " [ 0  7  5  0  0  1  1 16  1  0]\n",
      " [ 1  8  0  1  0  0 12  2 16  0]\n",
      " [ 0  6  2  1  0  2  7  1  5  9]]\n"
     ]
    },
    {
     "name": "stderr",
     "output_type": "stream",
     "text": [
      "/opt/anaconda3/lib/python3.6/site-packages/sklearn/metrics/classification.py:1113: UndefinedMetricWarning: Precision and F-score are ill-defined and being set to 0.0 in labels with no predicted samples.\n",
      "  'precision', 'predicted', average, warn_for)\n"
     ]
    }
   ],
   "source": [
    "from sklearn.metrics import classification_report\n",
    "from sklearn.metrics import confusion_matrix\n",
    "from sklearn.metrics import precision_recall_fscore_support\n",
    "\n",
    "\n",
    "print(classification_report(y_test, y_pred))\n",
    "print(\"Confusion matrix:\\n%s\" % confusion_matrix(y_test, y_pred))\n",
    "precision, recall, fscore, support = precision_recall_fscore_support(y_test,y_pred)"
   ]
  },
  {
   "cell_type": "code",
   "execution_count": 21,
   "metadata": {},
   "outputs": [
    {
     "name": "stderr",
     "output_type": "stream",
     "text": [
      "/opt/anaconda3/lib/python3.6/site-packages/sklearn/metrics/classification.py:1113: UndefinedMetricWarning: Precision and F-score are ill-defined and being set to 0.0 in labels with no predicted samples.\n",
      "  'precision', 'predicted', average, warn_for)\n"
     ]
    }
   ],
   "source": [
    "precision, recall, fscore, support = precision_recall_fscore_support(y_test,y_pred)\n",
    "x = np.arange(0,10)"
   ]
  },
  {
   "cell_type": "code",
   "execution_count": 22,
   "metadata": {},
   "outputs": [
    {
     "data": {
      "text/plain": [
       "([<matplotlib.axis.XTick at 0x7f3b604c5128>,\n",
       "  <matplotlib.axis.XTick at 0x7f3b604c5390>,\n",
       "  <matplotlib.axis.XTick at 0x7f3b5fb93320>,\n",
       "  <matplotlib.axis.XTick at 0x7f3b5ff11c18>,\n",
       "  <matplotlib.axis.XTick at 0x7f3b5ff23550>,\n",
       "  <matplotlib.axis.XTick at 0x7f3b5ff02048>,\n",
       "  <matplotlib.axis.XTick at 0x7f3b5ff02a20>,\n",
       "  <matplotlib.axis.XTick at 0x7f3b5ff14438>,\n",
       "  <matplotlib.axis.XTick at 0x7f3b5ff14e10>,\n",
       "  <matplotlib.axis.XTick at 0x7f3b5ff01828>],\n",
       " <a list of 10 Text xticklabel objects>)"
      ]
     },
     "execution_count": 22,
     "metadata": {},
     "output_type": "execute_result"
    },
    {
     "data": {
      "image/png": "[encoded data removed]",
      "text/plain": [
       "<matplotlib.figure.Figure at 0x7f3b60057710>"
      ]
     },
     "metadata": {},
     "output_type": "display_data"
    }
   ],
   "source": [
    "\n",
    "f, (ax1, ax2, ax3, ax4) = plt.subplots(4, 1, sharex=True,figsize=(10,10))\n",
    "ax1.bar(x, precision, color='r')\n",
    "ax1.set_title('Precision')\n",
    "ax2.bar(x, recall, color = 'b')\n",
    "ax2.set_title('Recall')\n",
    "ax3.bar(x, fscore, color = 'g')\n",
    "ax3.set_title('fscore')\n",
    "ax4.bar(x, support, color='y')\n",
    "ax4.set_title('Support')\n",
    "plt.xticks(x)\n"
   ]
  },
  {
   "cell_type": "code",
   "execution_count": 23,
   "metadata": {},
   "outputs": [
    {
     "name": "stdout",
     "output_type": "stream",
     "text": [
      "Classification report for classifier LinearSVC(C=1.0, class_weight=None, dual=True, fit_intercept=True,\n",
      "     intercept_scaling=1, loss='squared_hinge', max_iter=1000,\n",
      "     multi_class='ovr', penalty='l2', random_state=None, tol=0.0001,\n",
      "     verbose=0):\n",
      "             precision    recall  f1-score   support\n",
      "\n",
      "          0       1.00      1.00      1.00        28\n",
      "          1       0.93      0.90      0.92        42\n",
      "          2       0.97      0.94      0.96        36\n",
      "          3       0.97      0.84      0.90        37\n",
      "          4       1.00      0.95      0.97        38\n",
      "          5       0.95      1.00      0.97        36\n",
      "          6       0.97      0.95      0.96        39\n",
      "          7       1.00      0.94      0.97        31\n",
      "          8       0.83      0.95      0.88        40\n",
      "          9       0.89      1.00      0.94        33\n",
      "\n",
      "avg / total       0.95      0.94      0.94       360\n",
      "\n",
      "\n",
      "Confusion matrix:\n",
      "[[28  0  0  0  0  0  0  0  0  0]\n",
      " [ 0 38  0  1  0  0  0  0  3  0]\n",
      " [ 0  1 34  0  0  0  0  0  1  0]\n",
      " [ 0  0  1 31  0  1  0  0  2  2]\n",
      " [ 0  1  0  0 36  0  1  0  0  0]\n",
      " [ 0  0  0  0  0 36  0  0  0  0]\n",
      " [ 0  0  0  0  0  0 37  0  2  0]\n",
      " [ 0  0  0  0  0  0  0 29  0  2]\n",
      " [ 0  1  0  0  0  1  0  0 38  0]\n",
      " [ 0  0  0  0  0  0  0  0  0 33]]\n"
     ]
    },
    {
     "data": {
      "text/plain": [
       "([<matplotlib.axis.XTick at 0x7f3b60224320>,\n",
       "  <matplotlib.axis.XTick at 0x7f3b601ff940>,\n",
       "  <matplotlib.axis.XTick at 0x7f3b6399d438>,\n",
       "  <matplotlib.axis.XTick at 0x7f3b63a432e8>,\n",
       "  <matplotlib.axis.XTick at 0x7f3b63a8ab38>,\n",
       "  <matplotlib.axis.XTick at 0x7f3b6025fcc0>,\n",
       "  <matplotlib.axis.XTick at 0x7f3b5fc990f0>,\n",
       "  <matplotlib.axis.XTick at 0x7f3b601450b8>,\n",
       "  <matplotlib.axis.XTick at 0x7f3b60145160>,\n",
       "  <matplotlib.axis.XTick at 0x7f3b5fcaaac8>],\n",
       " <a list of 10 Text xticklabel objects>)"
      ]
     },
     "execution_count": 23,
     "metadata": {},
     "output_type": "execute_result"
    },
    {
     "data": {
      "image/png": "[encoded data removed]",
      "text/plain": [
       "<matplotlib.figure.Figure at 0x7f3b5fd17668>"
      ]
     },
     "metadata": {},
     "output_type": "display_data"
    }
   ],
   "source": [
    "# Author: Gael Varoquaux <gael dot varoquaux at normalesup dot org>\n",
    "# License: BSD 3 clause\n",
    "\n",
    "# Standard scientific Python imports\n",
    "import matplotlib.pyplot as plt\n",
    "\n",
    "# Import datasets, classifiers and performance metrics\n",
    "from sklearn import datasets, svm, metrics\n",
    "\n",
    "# The digits dataset\n",
    "digits = datasets.load_digits()\n",
    "\n",
    "# The data that we are interested in is made of 8x8 images of digits, let's\n",
    "# have a look at the first 4 images, stored in the `images` attribute of the\n",
    "# dataset.  If we were working from image files, we could load them using\n",
    "# matplotlib.pyplot.imread.  Note that each image must have the same size. For these\n",
    "# images, we know which digit they represent: it is given in the 'target' of\n",
    "# the dataset.\n",
    "images_and_labels = list(zip(digits.images, digits.target))\n",
    "# for index, (image, label) in enumerate(images_and_labels[:4]):\n",
    "#     plt.subplot(2, 4, index + 1)\n",
    "#     plt.axis('off')\n",
    "#     plt.imshow(image, cmap=plt.cm.gray_r, interpolation='nearest')\n",
    "#     plt.title('Training: %i' % label)\n",
    "\n",
    "# To apply a classifier on this data, we need to flatten the image, to\n",
    "# turn the data in a (samples, feature) matrix:\n",
    "#n_samples = len(digits.images)\n",
    "X = digits.images.reshape((n, -1))\n",
    "y = persistence_df['label']\n",
    "X_train, X_test, y_train, y_test = train_test_split(\n",
    "    X, y, test_size=0.2, random_state=1349)\n",
    "\n",
    "# Create a classifier: a support vector classifier\n",
    "#classifier = svm.SVC(gamma=0.001)\n",
    "classifier = svm.LinearSVC()\n",
    "classifier.fit(X_train, y_train)\n",
    "\n",
    "# Now predict the value of the digit\n",
    "y_pred = classifier.predict(X_test)\n",
    "\n",
    "print(\"Classification report for classifier %s:\\n%s\\n\"\n",
    "      % (classifier, metrics.classification_report(y_test, y_pred)))\n",
    "print(\"Confusion matrix:\\n%s\" % metrics.confusion_matrix(y_test, y_pred))\n",
    "precision, recall, fscore, support = precision_recall_fscore_support(y_test,y_pred)\n",
    "x = np.arange(0,10)\n",
    "f, (ax1, ax2, ax3, ax4) = plt.subplots(4, 1, sharex=True,figsize=(10,10))\n",
    "ax1.bar(x, precision, color='r')\n",
    "ax1.set_title('Precision')\n",
    "ax2.bar(x, recall, color = 'b')\n",
    "ax2.set_title('Recall')\n",
    "ax3.bar(x, fscore, color = 'g')\n",
    "ax3.set_title('fscore')\n",
    "ax4.bar(x, support, color='y')\n",
    "ax4.set_title('Support')\n",
    "plt.xticks(x)"
   ]
  },
  {
   "cell_type": "markdown",
   "metadata": {},
   "source": [
    "# End of Project Notebook. Below is scratch code"
   ]
  },
  {
   "cell_type": "markdown",
   "metadata": {},
   "source": [
    "Let's have a look at the repartition among target classes:"
   ]
  },
  {
   "cell_type": "code",
   "execution_count": null,
   "metadata": {},
   "outputs": [],
   "source": [
    "plt.figure(figsize=(14, 3))\n",
    "\n",
    "y_unique = np.unique(class_labels)\n",
    "counts = [(class_labels == i).sum() for i in y_unique]\n",
    "\n",
    "plt.xticks(y_unique,  categories[y_unique])\n",
    "locs, labels = plt.xticks()\n",
    "plt.setp(labels, rotation=45, size=20)\n",
    "_ = plt.bar(y_unique, counts)"
   ]
  },
  {
   "cell_type": "markdown",
   "metadata": {},
   "source": [
    "## Step B: Splitting the dataset for model development and then evaluation\n",
    "\n",
    "Let's split the data in a development set and final evaluation set."
   ]
  },
  {
   "cell_type": "code",
   "execution_count": null,
   "metadata": {
    "collapsed": true
   },
   "outputs": [],
   "source": [
    "from sklearn.cross_validation import train_test_split\n",
    "\n",
    "train_vectors, test_vectors, train_labels, test_labels = train_test_split(feature_vectors, class_labels, test_size=0.25)\n",
    "print(len(train_vectors))\n",
    "print(len(test_vectors))"
   ]
  },
  {
   "cell_type": "markdown",
   "metadata": {},
   "source": [
    "&#9989; Do This - As a group and then as a class. Discuss why we need to separate our samples into a training and testing set. "
   ]
  },
  {
   "cell_type": "markdown",
   "metadata": {},
   "source": [
    "## Step C: Calculate PCA transform and select feature subset. \n",
    "\n",
    "To train a model we will first reduce the dimensionality of the original picture to a 4 PCA space. This is often called unsupervised feature extraction."
   ]
  },
  {
   "cell_type": "code",
   "execution_count": null,
   "metadata": {
    "collapsed": true
   },
   "outputs": [],
   "source": [
    "from sklearn.decomposition import RandomizedPCA\n",
    "\n",
    "n_components = 4 # This is much less than the original n_features\n",
    "\n",
    "print(\"Extracting the top %d eigenfaces from %d faces\" % (\n",
    "    n_components, train_vectors.shape[0]))\n",
    "\n",
    "pca = RandomizedPCA(n_components=n_components, whiten=True)\n",
    "\n",
    "%time pca.fit(train_vectors)\n",
    "\n",
    "eigenfaces = pca.components_.reshape((n_components, h, w))"
   ]
  },
  {
   "cell_type": "code",
   "execution_count": null,
   "metadata": {
    "collapsed": true
   },
   "outputs": [],
   "source": [
    "pca.components_.shape"
   ]
  },
  {
   "cell_type": "markdown",
   "metadata": {},
   "source": [
    "Notice that the length of these new vectors are the same size as the original data. Let's plot the gallery of the most significant eigenfaces:"
   ]
  },
  {
   "cell_type": "code",
   "execution_count": null,
   "metadata": {
    "collapsed": true
   },
   "outputs": [],
   "source": [
    "def plot_gallery(images, titles, h, w, n_row=3, n_col=5):\n",
    "    \"\"\"Helper function to plot a gallery of portraits\"\"\"\n",
    "    plt.figure(figsize=(1.7 * n_col, 2.3 * n_row))\n",
    "    plt.subplots_adjust(bottom=0, left=.01, right=.99, top=.90, hspace=.35)\n",
    "    for i in range(n_row * n_col):\n",
    "        plt.subplot(n_row, n_col, i + 1)\n",
    "        plt.imshow(images[i].reshape((h, w)), cmap=plt.cm.gray_r)\n",
    "        plt.title(titles[i], size=12)\n",
    "        plt.xticks(())\n",
    "        plt.yticks(())\n",
    "        \n",
    "\n",
    "eigenface_titles = [\"eigenface %d\" % i for i in range(eigenfaces.shape[0])]\n",
    "plot_gallery(eigenfaces, eigenface_titles, h, w, n_row=1, n_col=4)"
   ]
  },
  {
   "cell_type": "markdown",
   "metadata": {},
   "source": [
    "## Step D: transform the training and testing sets into the new feature space"
   ]
  },
  {
   "cell_type": "code",
   "execution_count": null,
   "metadata": {
    "collapsed": true
   },
   "outputs": [],
   "source": [
    "from sklearn.grid_search import GridSearchCV\n",
    "from sklearn.grid_search import GridSearchCV\n",
    "from sklearn.metrics import classification_report\n",
    "from sklearn.metrics import confusion_matrix\n",
    "from sklearn.svm import SVC\n",
    "\n",
    "train_pca = pca.transform(train_vectors)\n",
    "test_pca = pca.transform(test_vectors)\n",
    "\n",
    "\n",
    "print(\"Training set changed from a size of: \", train_vectors.shape, ' to: ', train_pca.shape)\n",
    "print(\"Testing set changed from a size of: \", test_vectors.shape, ' to: ', test_pca.shape)"
   ]
  },
  {
   "cell_type": "markdown",
   "metadata": {},
   "source": [
    "## Step E: Train an SVM Classifier based on the training dataset."
   ]
  },
  {
   "cell_type": "code",
   "execution_count": null,
   "metadata": {
    "collapsed": true
   },
   "outputs": [],
   "source": [
    "###############################################################################\n",
    "# Train a SVM classification model\n",
    "\n",
    "#make some temporary variablse so you can change this easily\n",
    "tmp_vectors = train_pca\n",
    "tmp_labels = train_labels\n",
    "\n",
    "print(\"Fitting the classifier to the training set\")\n",
    "param_grid = {'C': [1e3, 5e3, 1e4, 5e4, 1e5],\n",
    "              'gamma': [0.0001, 0.0005, 0.001, 0.005, 0.01, 0.1], }\n",
    "clf = GridSearchCV(SVC(kernel='rbf', class_weight='balanced'), param_grid)\n",
    "clf = clf.fit(tmp_vectors, tmp_labels)\n",
    "print(\"Best estimator found by grid search:\")\n",
    "print(clf.best_estimator_)"
   ]
  },
  {
   "cell_type": "markdown",
   "metadata": {},
   "source": [
    "## Step F: Show the results of the classification on the testing dataset."
   ]
  },
  {
   "cell_type": "code",
   "execution_count": null,
   "metadata": {
    "collapsed": true,
    "scrolled": true
   },
   "outputs": [],
   "source": [
    "###############################################################################\n",
    "# Quantitative evaluation of the model quality on the test set\n",
    "\n",
    "#make some temporary variablse so you can change this easily\n",
    "predict_vectors = test_pca\n",
    "true_lables = test_labels\n",
    "\n",
    "print(\"Predicting people's names on the test set\")\n",
    "pred_labels = clf.predict(predict_vectors)\n",
    "\n",
    "print(classification_report(true_lables, pred_labels))\n",
    "print(confusion_matrix(true_lables, pred_labels, labels=range(n_classes)))\n"
   ]
  },
  {
   "cell_type": "code",
   "execution_count": null,
   "metadata": {
    "collapsed": true,
    "scrolled": true
   },
   "outputs": [],
   "source": [
    "def plot_gallery(images, true_titles, pred_titles, h, w, n_row=5, n_col=5):\n",
    "    \"\"\"Helper function to plot a gallery of portraits\"\"\"\n",
    "    plt.figure(figsize=(1.8 * n_col, 2.4 * n_row))\n",
    "    plt.subplots_adjust(bottom=0, left=.01, right=.99, top=.90, hspace=.35)\n",
    "    for i in range(n_row * n_col):\n",
    "        plt.subplot(n_row, n_col, i + 1)\n",
    "        plt.imshow(images[i].reshape((h, w)), cmap=plt.cm.gray)\n",
    "        plt.title([true_titles[i],pred_titles[i]], size=12)\n",
    "        plt.xticks(())\n",
    "        plt.yticks(())\n",
    "\n",
    "plot_gallery(test_vectors, test_labels, pred_labels, h,w)"
   ]
  }
 ],
 "metadata": {
  "anaconda-cloud": {},
  "kernelspec": {
   "display_name": "Python 3",
   "language": "python",
   "name": "python3"
  },
  "language_info": {
   "codemirror_mode": {
    "name": "ipython",
    "version": 3
   },
   "file_extension": ".py",
   "mimetype": "text/x-python",
   "name": "python",
   "nbconvert_exporter": "python",
   "pygments_lexer": "ipython3",
   "version": "3.6.1"
  }
 },
 "nbformat": 4,
 "nbformat_minor": 1
}

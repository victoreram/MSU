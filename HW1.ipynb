{
 "cells": [
  {
   "cell_type": "markdown",
   "metadata": {},
   "source": [
    "# Victor Ramirez #\n",
    "CMSE 491 <br/>\n",
    "Fall 2017 <br/>\n",
    "Homework 1 <br/>"
   ]
  },
  {
   "cell_type": "markdown",
   "metadata": {},
   "source": [
    "Disclaimer: I worked with Kyle Zimmer in problems 1, 3 and 5. "
   ]
  },
  {
   "cell_type": "markdown",
   "metadata": {},
   "source": [
    "### 1. \n",
    "Let $G$ be a simple (no loops), undirected graph with adjacency matrix $A$. <br/>\n",
    "a) Prove that the degree of vertex $v_{i}$ is the ith diagonal entry in $A^{2}$ <br/>\n",
    "b) What is in entry $(i, j)$ of $A^{2}$ in terms of the graph? Generalize this statement to entry\n",
    "$(i, j)$ of $A^{n}$ and prove the statement."
   ]
  },
  {
   "cell_type": "markdown",
   "metadata": {},
   "source": [
    "### Solution:\n",
    "   \n",
    "\n",
    "\n",
    "\n",
    "The $k \\times k$ adjacency matrix $A$ is defined as:\n",
    "\n",
    "\n",
    "$$\n",
    "\\mathbf{A} = \\left[\\begin{array}\n",
    "{rrr}\n",
    "A_{11} & A_{12} & \\dots & A_{1k} \\\\\n",
    "A_{21} & A_{22} & \\dots & A_{2k} \\\\\n",
    "\\vdots & \\vdots & \\ddots & \\vdots \\\\\n",
    "A_{k1} & A_{k2} & \\dots & A_{kk}\n",
    "\\end{array}\\right]\n",
    "$$\n",
    "\n",
    "\n",
    "\n",
    "The elements $A_{ij}$ of the Adjacency Matrix $A$ are defined as:\n",
    "\n",
    "$$\n",
    "v_iv_j = A_{ij} = \\left\\{\\begin{array}{lr}\n",
    "\t1, & \\text{when $v_{i}$ and $v_{j}$ are adjacent}\\\\\n",
    "\t0, & \\text{otherwise}\\\\\n",
    "\t\\end{array}\\right\\} [1]\n",
    "$$\n",
    "\n",
    "\n",
    "where each element in the row vector $\\vec{v_i}$ containing the vertex $v_i$ $\\times$ the row vector of the vertices in the graph, $\\vec{v}$. \n",
    "\n",
    "$$\\mathbf{\\vec{{v_i}}} = v_i\n",
    "\\left[\\begin{array}\n",
    "{rrr}\n",
    "v_1 & v_2 & \\dots & v_k\n",
    "\\end{array}\\right]\n",
    "= v_i\n",
    " \\left[\\begin{array}\n",
    "{rrr}\n",
    "A_{11} & A_{12} & \\dots & A_{1k}\n",
    "\\end{array}\\right]\n",
    "$$\n",
    "\n",
    "Likewise, $\\vec{v_i}^{T}$ = $v_i$ $\\times$ the column vector of the vertices in the graph, $\\vec{v}^{T}$. \n",
    "\n",
    "The vector $\\vec{v_i}$ contains elements which signal whether $v_i$ is adjacent to $v_j$ or not as defined by [1]. The degree is defined as the sum of the adjacent vertices for any given vertex. Thus, for vertex $v_i$ the degree $deg(v_i)$ is the sum of the elements in $\\vec{v_i}$. This is expressed as:\n",
    "\n",
    "$$\n",
    "\\sum_{j=1}^{k} v_{i}v_{j} = deg(v_{i})\n",
    "$$\n",
    "\n",
    "The sum on the lefthand side for j is just the vector $\\vec{v}$. This can thus be rewritten as:\n",
    "$$\n",
    "deg(v_{i}) = \\vec{v_i}\\vec{{v}^{T}}\n",
    "$$\n",
    "Calculating the ith diagonal of the Adjacency matrix squared gives:\n",
    "\n",
    "$$\n",
    "A^{2}_{ii} = A_{i1}A_{1i} + A_{i2}A_{2i} + \\dots + A_{ik}A_{ki} \\\\\n",
    "= \\vec{v_i}\\vec{{v}^{T}} \\\\\n",
    "= deg(v_{i})\n",
    "$$\n",
    "\n",
    "\n",
    "\n"
   ]
  },
  {
   "cell_type": "markdown",
   "metadata": {},
   "source": [
    "b) Definition [1] contains $A_{ij}^1$. $A_{ij}^2$ is thus:\n",
    "$$\n",
    "A_{ij} \\times A_{ij}\n",
    "$$\n",
    "\n",
    "For $v_i$ adjacent to $v_j$, this will equal to 1 by [1]. For $v_i$ not adjacent to $v_j$, this will equal 0. Raising it to the kth power will yield the same thing. Thus we can generalize [1] as:\n",
    "\n",
    "$$\n",
    "A_{ij}^{k} = \\left\\{\\begin{array}{lr}\n",
    "\t1, & \\text{when $v_{i}$ and $v_{j}$ are adjacent}\\\\\n",
    "\t0, & \\text{otherwise}\\\\\n",
    "\t\\end{array}\\right\\}\n",
    "$$"
   ]
  },
  {
   "cell_type": "markdown",
   "metadata": {},
   "source": [
    "### 3.\n",
    "\n",
    "Let $K$ be a simplicial complex. Prove that $K$ is a geometric realization of the nerve of the collection of vertex stars in $K$.\n",
    "\n",
    "Key definitions:\n",
    "\n",
    "\n",
    "[1] $St(\\sigma)$ = the union of interiors of simplices with $\\sigma$ as a face = the collection of simplices that connect to $\\sigma$ <br/>\n",
    "[2] $Nrv(F) = \\{X \\subseteq{F} | \\cap{X} \\ne \\emptyset\\} $ <br/>\n",
    "[3] (Nerve Lemma) Let $F$ be a finite collection of closed, convex sets in Euclidean space.\n",
    "Then the nerve of $F$, $Nrv(F)$, and the union of the sets in $F$, $\\cup{F}$ have the same\n",
    "homotopy type.\n",
    "\n",
    "### Solution\n",
    "\n",
    "Define a vertex $v$ that is equivalently defined as a 0-simplex, or point, such that v $\\in$ $\\sigma$, $\\sigma$ $\\in$ $K$. \n",
    "\n",
    "Because $v$ is a face of itself, $v \\in St(v)$, where $St(v)$ is:\n",
    "\n",
    "$$\n",
    "St(v) = \\{\\sigma \\in K | v \\in \\sigma\\}\n",
    "$$\n",
    "\n",
    "by [1]. Now introduce a set $F$ that contains the $St(v)$ for all $v$ in $K$:\n",
    "$$\n",
    "F = \\{St(v) \\forall{v} \\in K\\} = \\{\\{\\sigma \\in K | v \\in \\sigma\\} \\forall{v} \\in K\\}\n",
    "$$\n",
    "\n",
    "and $K$ is the collection of vertex stars:\n",
    "\n",
    "$$\n",
    "K = \\cup{F} =  \\cup{ \\{St(v) \\forall{v} \\in K\\} }\n",
    "$$\n",
    "\n",
    "Using [2], $Nrv(F)$ is an abstract simplicial complex and has a geometric representation because:\n",
    "\n",
    "$$\n",
    "\\cap{X} \\subseteq{F} \\ne \\emptyset \\implies Y \\subseteq X \\ne \\emptyset\n",
    "$$\n",
    "\n",
    "Given that  $Nrv(F)$ is an abstract simplicial complex  and the equality $K = \\cup{F}$, we can thus state that $K$ is a geometric realization of the nerve of the collection of vertex stars in $K$."
   ]
  },
  {
   "cell_type": "markdown",
   "metadata": {},
   "source": [
    "### 5.\n",
    "Write code for the function $RipsGraph(P,d)$ as follows. <br/>\n",
    "Inputs:\n",
    "- a set of points $P$ $\\subset$ $\\mathbb{R}^{2}$ given as a $k \\times 2$ numpy matrix \n",
    "- a diameter $d \\ge 0$ \n",
    "<br/>\n",
    "\n",
    "Output:\n",
    "- networkx graph which is the 1-skeleton of the Rips complex $V R(P, d)$.\n",
    "        \n",
    "        \n",
    "Create a point set of 15 random points in the box $[0, 1]\\times[0; 1]$. Draw this graph as an overlay\n",
    "on the points (even though there will likely be crossings)."
   ]
  },
  {
   "cell_type": "markdown",
   "metadata": {},
   "source": []
  },
  {
   "cell_type": "code",
   "execution_count": 34,
   "metadata": {
    "collapsed": false
   },
   "outputs": [],
   "source": [
    "%matplotlib inline\n",
    "import networkx as nx\n",
    "import numpy as np\n",
    "import matplotlib.pyplot as plt\n"
   ]
  },
  {
   "cell_type": "code",
   "execution_count": 168,
   "metadata": {
    "collapsed": false
   },
   "outputs": [],
   "source": [
    "def mag(x,y):\n",
    "    return (x**2+y**2)**0.5\n",
    "\n",
    "def RipsGraph(P,d):\n",
    "    dim = len(P)\n",
    "    g = nx.Graph()    \n",
    "    #add node at a given position\n",
    "    for i in range(dim):\n",
    "        xi,yi= P[i]        \n",
    "        g.add_node(i,pos=(xi,yi),label=str(i))\n",
    "\n",
    "    #check to see if it meets Rips complex conditions in a ridiculously inefficient way\n",
    "    for i in range(dim):\n",
    "        xi,yi= P[i]        \n",
    "\n",
    "        for j in range(dim):\n",
    "            #don't count vertices \"incident\" to each other. Again there's a much better way of doing this\n",
    "            if i == j:\n",
    "                continue\n",
    "            xj,yj = P[j]\n",
    "            # add edge if it meets the Rips Complex definition\n",
    "            if mag(xi-xj,yi-yj) <= d:\n",
    "                g.add_edge(i,j)\n",
    "\n",
    "    return g #nx graph 1 skeleton Rips complex"
   ]
  },
  {
   "cell_type": "code",
   "execution_count": 169,
   "metadata": {
    "collapsed": false
   },
   "outputs": [],
   "source": [
    "#setup\n",
    "k = 15\n",
    "d = 0.25\n",
    "P = np.random.random((k,2))\n",
    "VR = RipsGraph(P,d)\n",
    "pos=nx.get_node_attributes(VR,'pos')\n",
    "labels=nx.get_node_attributes(VR,'label')\n"
   ]
  },
  {
   "cell_type": "code",
   "execution_count": 170,
   "metadata": {
    "collapsed": false
   },
   "outputs": [
    {
     "data": {
      "image/png": "[encoded data removed]",
      "text/plain": [
       "<matplotlib.figure.Figure at 0x1ca881269e8>"
      ]
     },
     "metadata": {},
     "output_type": "display_data"
    }
   ],
   "source": [
    "#print(VR.nodes())\n",
    "#nx.draw(VR,pos)\n",
    "nx.draw(VR,pos,ax=None,labels=labels)\n",
    "#plt.show()\n",
    "#plt.draw(VR)\n",
    "# plt.xlim(0,1)\n",
    "# plt.ylim(0,1)\n",
    "# plt.xlabel(\"X\")\n",
    "# plt.ylabel(\"Y\")"
   ]
  },
  {
   "cell_type": "markdown",
   "metadata": {},
   "source": [
    "If I knew a networkx more, I would have code that takes in the dictionary of edges incident to a cluster of nodes within the Rips complex, and have networkx overlay those clusters of nodes. Also, I would like to have the grids labeled but I was totally confused by the networkx documentation and how it integrates matplotlib."
   ]
  },
  {
   "cell_type": "markdown",
   "metadata": {
    "collapsed": true
   },
   "source": [
    "### 6.\n",
    "Write code for the function `RipsGraph(P,d)` as follows. <br/>\n",
    "Inputs:\n",
    "- a set of points $P$ $\\subset$ $\\mathbb{R}^{2}$ given as a $k \\times 2$ numpy matrix \n",
    "- a diameter $d \\ge 0$ \n",
    "<br/>\n",
    "\n",
    "Output:\n",
    "- The boundary matrix representing the Rips complex $V R(P, d)$."
   ]
  },
  {
   "cell_type": "markdown",
   "metadata": {},
   "source": [
    "Some of the foundation of this code is from a blog post by stephenhky found here: <br/>\n",
    "\n",
    "https://datawarrior.wordpress.com/2015/09/14/tda-2-constructing-connectivities/\n",
    "\n",
    "I made some changes in order to fit the specifications of this assignment"
   ]
  },
  {
   "cell_type": "code",
   "execution_count": 7,
   "metadata": {
    "collapsed": true
   },
   "outputs": [],
   "source": [
    "import numpy as np\n",
    "import networkx as nx\n",
    "from itertools import combinations\n",
    "from scipy.sparse import dok_matrix\n",
    "from operator import add\n",
    "from itertools import combinations"
   ]
  },
  {
   "cell_type": "code",
   "execution_count": 8,
   "metadata": {
    "collapsed": true
   },
   "outputs": [],
   "source": [
    "#From DataWarrior\n",
    "#I barely used the code directly for this assignment, but I kept it handy for writing my code\n",
    "\n",
    "class SimplicialComplex:\n",
    "    '''Simplicial Complex class that takes a list of simplicies'''\n",
    "    def __init__(self, simplices=[]):\n",
    "        self.import_simplices(simplices=simplices)\n",
    "        #self.faceset = faces(simplices)\n",
    "\n",
    "    def import_simplices(self, simplices=[]):\n",
    "        self.simplices = map(lambda simplex: tuple(sorted(simplex)), simplices)\n",
    "        self.face_set = self.faces()\n",
    "        \n",
    "    def faces(self):\n",
    "        faceset = set()\n",
    "        for simplex in self.simplices:\n",
    "            numnodes = len(simplex)\n",
    "            for r in range(numnodes, 0, -1):\n",
    "                for face in combinations(simplex, r):\n",
    "                    faceset.add(face)\n",
    "        #print(faceset)\n",
    "        return faceset\n",
    "\n",
    "    def n_faces(self, n):\n",
    "        return filter(lambda face: len(face)==n+1, self.face_set)"
   ]
  },
  {
   "cell_type": "code",
   "execution_count": 13,
   "metadata": {
    "collapsed": false
   },
   "outputs": [],
   "source": [
    "def mag(x,y):\n",
    "    return (x**2+y**2)**0.5\n",
    "\n",
    "def build_bd_matrix(adjacency_dict, incident_edges):\n",
    "    '''Takes in adjacent_vertices dictionary built from RipsGraph and incident edges'''\n",
    "    simplex_set = set()\n",
    "    #iterate through vertices\n",
    "    for vertex, adjacent_vertices in adjacency_dict.items():\n",
    "        num_vertices = 1 + len(adjacent_vertices) \n",
    "        total_vertices = adjacent_vertices.copy()\n",
    "        total_vertices.append(vertex) \n",
    "        \n",
    "        #Find all possible complex combinations\n",
    "        for r in range(num_vertices,0,-1):\n",
    "            for face in combinations(total_vertices,r):\n",
    "                simplex_set.add(face)\n",
    "                \n",
    "    #Now the building starts\n",
    "    n = len(simplex_set)\n",
    "    bd_matrix = np.zeros(shape=(n,n))\n",
    "    #sort list\n",
    "    simplex_list = list(simplex_set)\n",
    "    simplex_list.sort()\n",
    "    simplex_list.sort(key = lambda s: len(s))\n",
    "    #iterate through row, column\n",
    "    row = 0\n",
    "    for row_bd_matrix in simplex_list:\n",
    "        col = 0\n",
    "\n",
    "        for col_bd_matrix in simplex_list:\n",
    "            #check for codimensionality\n",
    "            if (len(col_bd_matrix)-len(row_bd_matrix)) == 1:\n",
    "                bd_matrix[row][col] = 1\n",
    "                \n",
    "            col += 1\n",
    "            \n",
    "        row += 1\n",
    "                \n",
    "    #pardon the inefficiency, I'm scrambling to get this done!\n",
    "    return bd_matrix\n",
    "\n",
    "\n",
    "def RipsGraph(P,d):\n",
    "    dim = len(P)\n",
    "    g = nx.Graph()    \n",
    "    #add node at a given position\n",
    "    for i in range(dim):\n",
    "        xi,yi= P[i][0], P[i][1]\n",
    "        g.add_node(i,pos=(xi,yi),label=str(i))\n",
    "        \n",
    "    #Define a dictionary with key: vertex, value: adjacent vertices\n",
    "    adjacent_vertices = {}\n",
    "\n",
    "    #check to see if it meets Rips complex conditions in a ridiculously inefficient way\n",
    "    for i in range(dim):\n",
    "        xi,yi= P[i]\n",
    "        adjacent_vertices[i] = []\n",
    "\n",
    "        for j in range(dim):\n",
    "            #don't count vertices \"incident\" to each other. Again there's a much better way of doing this\n",
    "            if i == j:\n",
    "                continue\n",
    "            xj,yj = P[j]\n",
    "            # add edge if it meets the Rips Complex definition\n",
    "            if mag(xi-xj,yi-yj) <= d:\n",
    "                g.add_edge(i,j)\n",
    "                adjacent_vertices[i].append(j)\n",
    "                \n",
    "    bd_matrix = build_bd_matrix(adjacent_vertices, g.edges())\n",
    "\n",
    "    return g, bd_matrix #nx graph 1 skeleton Rips complex"
   ]
  },
  {
   "cell_type": "code",
   "execution_count": 14,
   "metadata": {
    "collapsed": false
   },
   "outputs": [],
   "source": [
    "### Test case ###\n",
    "k = 4\n",
    "d = 1\n",
    "P = np.array([[0.0,0.0], [1.0,0],[0.0,1.0], [0.5,0.5]])\n",
    "VR, bd_matrix = RipsGraph(P,d)\n",
    "pos=nx.get_node_attributes(VR,'pos')\n",
    "labels=nx.get_node_attributes(VR,'label')"
   ]
  },
  {
   "cell_type": "code",
   "execution_count": 15,
   "metadata": {
    "collapsed": false
   },
   "outputs": [],
   "source": [
    "nx.draw(VR)"
   ]
  },
  {
   "cell_type": "code",
   "execution_count": 16,
   "metadata": {
    "collapsed": false
   },
   "outputs": [
    {
     "data": {
      "text/plain": [
       "array([[ 0.,  0.,  0.,  0.,  1.,  1.,  1.,  1.,  1.,  1.,  1.,  1.,  1.,\n",
       "         1.,  1.,  0.,  0.,  0.,  0.,  0.,  0.,  0.,  0.,  0.,  0.,  0.],\n",
       "       [ 0.,  0.,  0.,  0.,  1.,  1.,  1.,  1.,  1.,  1.,  1.,  1.,  1.,\n",
       "         1.,  1.,  0.,  0.,  0.,  0.,  0.,  0.,  0.,  0.,  0.,  0.,  0.],\n",
       "       [ 0.,  0.,  0.,  0.,  1.,  1.,  1.,  1.,  1.,  1.,  1.,  1.,  1.,\n",
       "         1.,  1.,  0.,  0.,  0.,  0.,  0.,  0.,  0.,  0.,  0.,  0.,  0.],\n",
       "       [ 0.,  0.,  0.,  0.,  1.,  1.,  1.,  1.,  1.,  1.,  1.,  1.,  1.,\n",
       "         1.,  1.,  0.,  0.,  0.,  0.,  0.,  0.,  0.,  0.,  0.,  0.,  0.],\n",
       "       [ 0.,  0.,  0.,  0.,  0.,  0.,  0.,  0.,  0.,  0.,  0.,  0.,  0.,\n",
       "         0.,  0.,  1.,  1.,  1.,  1.,  1.,  1.,  1.,  1.,  1.,  0.,  0.],\n",
       "       [ 0.,  0.,  0.,  0.,  0.,  0.,  0.,  0.,  0.,  0.,  0.,  0.,  0.,\n",
       "         0.,  0.,  1.,  1.,  1.,  1.,  1.,  1.,  1.,  1.,  1.,  0.,  0.],\n",
       "       [ 0.,  0.,  0.,  0.,  0.,  0.,  0.,  0.,  0.,  0.,  0.,  0.,  0.,\n",
       "         0.,  0.,  1.,  1.,  1.,  1.,  1.,  1.,  1.,  1.,  1.,  0.,  0.],\n",
       "       [ 0.,  0.,  0.,  0.,  0.,  0.,  0.,  0.,  0.,  0.,  0.,  0.,  0.,\n",
       "         0.,  0.,  1.,  1.,  1.,  1.,  1.,  1.,  1.,  1.,  1.,  0.,  0.],\n",
       "       [ 0.,  0.,  0.,  0.,  0.,  0.,  0.,  0.,  0.,  0.,  0.,  0.,  0.,\n",
       "         0.,  0.,  1.,  1.,  1.,  1.,  1.,  1.,  1.,  1.,  1.,  0.,  0.],\n",
       "       [ 0.,  0.,  0.,  0.,  0.,  0.,  0.,  0.,  0.,  0.,  0.,  0.,  0.,\n",
       "         0.,  0.,  1.,  1.,  1.,  1.,  1.,  1.,  1.,  1.,  1.,  0.,  0.],\n",
       "       [ 0.,  0.,  0.,  0.,  0.,  0.,  0.,  0.,  0.,  0.,  0.,  0.,  0.,\n",
       "         0.,  0.,  1.,  1.,  1.,  1.,  1.,  1.,  1.,  1.,  1.,  0.,  0.],\n",
       "       [ 0.,  0.,  0.,  0.,  0.,  0.,  0.,  0.,  0.,  0.,  0.,  0.,  0.,\n",
       "         0.,  0.,  1.,  1.,  1.,  1.,  1.,  1.,  1.,  1.,  1.,  0.,  0.],\n",
       "       [ 0.,  0.,  0.,  0.,  0.,  0.,  0.,  0.,  0.,  0.,  0.,  0.,  0.,\n",
       "         0.,  0.,  1.,  1.,  1.,  1.,  1.,  1.,  1.,  1.,  1.,  0.,  0.],\n",
       "       [ 0.,  0.,  0.,  0.,  0.,  0.,  0.,  0.,  0.,  0.,  0.,  0.,  0.,\n",
       "         0.,  0.,  1.,  1.,  1.,  1.,  1.,  1.,  1.,  1.,  1.,  0.,  0.],\n",
       "       [ 0.,  0.,  0.,  0.,  0.,  0.,  0.,  0.,  0.,  0.,  0.,  0.,  0.,\n",
       "         0.,  0.,  1.,  1.,  1.,  1.,  1.,  1.,  1.,  1.,  1.,  0.,  0.],\n",
       "       [ 0.,  0.,  0.,  0.,  0.,  0.,  0.,  0.,  0.,  0.,  0.,  0.,  0.,\n",
       "         0.,  0.,  0.,  0.,  0.,  0.,  0.,  0.,  0.,  0.,  0.,  1.,  1.],\n",
       "       [ 0.,  0.,  0.,  0.,  0.,  0.,  0.,  0.,  0.,  0.,  0.,  0.,  0.,\n",
       "         0.,  0.,  0.,  0.,  0.,  0.,  0.,  0.,  0.,  0.,  0.,  1.,  1.],\n",
       "       [ 0.,  0.,  0.,  0.,  0.,  0.,  0.,  0.,  0.,  0.,  0.,  0.,  0.,\n",
       "         0.,  0.,  0.,  0.,  0.,  0.,  0.,  0.,  0.,  0.,  0.,  1.,  1.],\n",
       "       [ 0.,  0.,  0.,  0.,  0.,  0.,  0.,  0.,  0.,  0.,  0.,  0.,  0.,\n",
       "         0.,  0.,  0.,  0.,  0.,  0.,  0.,  0.,  0.,  0.,  0.,  1.,  1.],\n",
       "       [ 0.,  0.,  0.,  0.,  0.,  0.,  0.,  0.,  0.,  0.,  0.,  0.,  0.,\n",
       "         0.,  0.,  0.,  0.,  0.,  0.,  0.,  0.,  0.,  0.,  0.,  1.,  1.],\n",
       "       [ 0.,  0.,  0.,  0.,  0.,  0.,  0.,  0.,  0.,  0.,  0.,  0.,  0.,\n",
       "         0.,  0.,  0.,  0.,  0.,  0.,  0.,  0.,  0.,  0.,  0.,  1.,  1.],\n",
       "       [ 0.,  0.,  0.,  0.,  0.,  0.,  0.,  0.,  0.,  0.,  0.,  0.,  0.,\n",
       "         0.,  0.,  0.,  0.,  0.,  0.,  0.,  0.,  0.,  0.,  0.,  1.,  1.],\n",
       "       [ 0.,  0.,  0.,  0.,  0.,  0.,  0.,  0.,  0.,  0.,  0.,  0.,  0.,\n",
       "         0.,  0.,  0.,  0.,  0.,  0.,  0.,  0.,  0.,  0.,  0.,  1.,  1.],\n",
       "       [ 0.,  0.,  0.,  0.,  0.,  0.,  0.,  0.,  0.,  0.,  0.,  0.,  0.,\n",
       "         0.,  0.,  0.,  0.,  0.,  0.,  0.,  0.,  0.,  0.,  0.,  1.,  1.],\n",
       "       [ 0.,  0.,  0.,  0.,  0.,  0.,  0.,  0.,  0.,  0.,  0.,  0.,  0.,\n",
       "         0.,  0.,  0.,  0.,  0.,  0.,  0.,  0.,  0.,  0.,  0.,  0.,  0.],\n",
       "       [ 0.,  0.,  0.,  0.,  0.,  0.,  0.,  0.,  0.,  0.,  0.,  0.,  0.,\n",
       "         0.,  0.,  0.,  0.,  0.,  0.,  0.,  0.,  0.,  0.,  0.,  0.,  0.]])"
      ]
     },
     "execution_count": 16,
     "metadata": {},
     "output_type": "execute_result"
    }
   ],
   "source": [
    "#Warning: Doesn't output very well\n",
    "bd_matrix"
   ]
  },
  {
   "cell_type": "markdown",
   "metadata": {},
   "source": [
    "# STOP HERE!! Below is unintelligible scratch code"
   ]
  },
  {
   "cell_type": "code",
   "execution_count": 241,
   "metadata": {
    "collapsed": false
   },
   "outputs": [
    {
     "name": "stdout",
     "output_type": "stream",
     "text": [
      "(2,)\n"
     ]
    },
    {
     "ename": "TypeError",
     "evalue": "'tuple' object cannot be interpreted as an integer",
     "output_type": "error",
     "traceback": [
      "\u001b[0;31m---------------------------------------------------------------------------\u001b[0m",
      "\u001b[0;31mTypeError\u001b[0m                                 Traceback (most recent call last)",
      "\u001b[0;32m<ipython-input-241-c6444146bd22>\u001b[0m in \u001b[0;36m<module>\u001b[0;34m()\u001b[0m\n\u001b[0;32m----> 1\u001b[0;31m \u001b[0msc\u001b[0m \u001b[1;33m=\u001b[0m \u001b[0mSimplicialComplex\u001b[0m\u001b[1;33m(\u001b[0m\u001b[0mP\u001b[0m\u001b[1;33m)\u001b[0m\u001b[1;33m\u001b[0m\u001b[0m\n\u001b[0m\u001b[1;32m      2\u001b[0m \u001b[0mprint\u001b[0m\u001b[1;33m(\u001b[0m\u001b[0msc\u001b[0m\u001b[1;33m.\u001b[0m\u001b[0mface_set\u001b[0m\u001b[1;33m)\u001b[0m\u001b[1;33m\u001b[0m\u001b[0m\n",
      "\u001b[0;32m<ipython-input-229-515a1a68d2d2>\u001b[0m in \u001b[0;36m__init__\u001b[0;34m(self, simplices)\u001b[0m\n\u001b[1;32m      2\u001b[0m     \u001b[1;34m'''Simplicial Complex class that takes a list of simplicies'''\u001b[0m\u001b[1;33m\u001b[0m\u001b[0m\n\u001b[1;32m      3\u001b[0m     \u001b[1;32mdef\u001b[0m \u001b[0m__init__\u001b[0m\u001b[1;33m(\u001b[0m\u001b[0mself\u001b[0m\u001b[1;33m,\u001b[0m \u001b[0msimplices\u001b[0m\u001b[1;33m=\u001b[0m\u001b[1;33m[\u001b[0m\u001b[1;33m]\u001b[0m\u001b[1;33m)\u001b[0m\u001b[1;33m:\u001b[0m\u001b[1;33m\u001b[0m\u001b[0m\n\u001b[0;32m----> 4\u001b[0;31m         \u001b[0mself\u001b[0m\u001b[1;33m.\u001b[0m\u001b[0mimport_simplices\u001b[0m\u001b[1;33m(\u001b[0m\u001b[0msimplices\u001b[0m\u001b[1;33m=\u001b[0m\u001b[0msimplices\u001b[0m\u001b[1;33m)\u001b[0m\u001b[1;33m\u001b[0m\u001b[0m\n\u001b[0m\u001b[1;32m      5\u001b[0m         \u001b[1;31m#self.faceset = faces(simplices)\u001b[0m\u001b[1;33m\u001b[0m\u001b[1;33m\u001b[0m\u001b[0m\n\u001b[1;32m      6\u001b[0m \u001b[1;33m\u001b[0m\u001b[0m\n",
      "\u001b[0;32m<ipython-input-229-515a1a68d2d2>\u001b[0m in \u001b[0;36mimport_simplices\u001b[0;34m(self, simplices)\u001b[0m\n\u001b[1;32m      7\u001b[0m     \u001b[1;32mdef\u001b[0m \u001b[0mimport_simplices\u001b[0m\u001b[1;33m(\u001b[0m\u001b[0mself\u001b[0m\u001b[1;33m,\u001b[0m \u001b[0msimplices\u001b[0m\u001b[1;33m=\u001b[0m\u001b[1;33m[\u001b[0m\u001b[1;33m]\u001b[0m\u001b[1;33m)\u001b[0m\u001b[1;33m:\u001b[0m\u001b[1;33m\u001b[0m\u001b[0m\n\u001b[1;32m      8\u001b[0m         \u001b[0mself\u001b[0m\u001b[1;33m.\u001b[0m\u001b[0msimplices\u001b[0m \u001b[1;33m=\u001b[0m \u001b[0mmap\u001b[0m\u001b[1;33m(\u001b[0m\u001b[1;32mlambda\u001b[0m \u001b[0msimplex\u001b[0m\u001b[1;33m:\u001b[0m \u001b[0mtuple\u001b[0m\u001b[1;33m(\u001b[0m\u001b[0msorted\u001b[0m\u001b[1;33m(\u001b[0m\u001b[0msimplex\u001b[0m\u001b[1;33m)\u001b[0m\u001b[1;33m)\u001b[0m\u001b[1;33m,\u001b[0m \u001b[0msimplices\u001b[0m\u001b[1;33m)\u001b[0m\u001b[1;33m\u001b[0m\u001b[0m\n\u001b[0;32m----> 9\u001b[0;31m         \u001b[0mself\u001b[0m\u001b[1;33m.\u001b[0m\u001b[0mface_set\u001b[0m \u001b[1;33m=\u001b[0m \u001b[0mself\u001b[0m\u001b[1;33m.\u001b[0m\u001b[0mfaces\u001b[0m\u001b[1;33m(\u001b[0m\u001b[1;33m)\u001b[0m\u001b[1;33m\u001b[0m\u001b[0m\n\u001b[0m\u001b[1;32m     10\u001b[0m \u001b[1;33m\u001b[0m\u001b[0m\n\u001b[1;32m     11\u001b[0m     \u001b[1;32mdef\u001b[0m \u001b[0mfaces\u001b[0m\u001b[1;33m(\u001b[0m\u001b[0mself\u001b[0m\u001b[1;33m)\u001b[0m\u001b[1;33m:\u001b[0m\u001b[1;33m\u001b[0m\u001b[0m\n",
      "\u001b[0;32m<ipython-input-229-515a1a68d2d2>\u001b[0m in \u001b[0;36mfaces\u001b[0;34m(self)\u001b[0m\n\u001b[1;32m     14\u001b[0m             \u001b[0mnumnodes\u001b[0m \u001b[1;33m=\u001b[0m \u001b[0mnp\u001b[0m\u001b[1;33m.\u001b[0m\u001b[0mshape\u001b[0m\u001b[1;33m(\u001b[0m\u001b[0msimplex\u001b[0m\u001b[1;33m)\u001b[0m\u001b[1;33m\u001b[0m\u001b[0m\n\u001b[1;32m     15\u001b[0m             \u001b[0mprint\u001b[0m\u001b[1;33m(\u001b[0m\u001b[0mnumnodes\u001b[0m\u001b[1;33m)\u001b[0m\u001b[1;33m\u001b[0m\u001b[0m\n\u001b[0;32m---> 16\u001b[0;31m             \u001b[1;32mfor\u001b[0m \u001b[0mr\u001b[0m \u001b[1;32min\u001b[0m \u001b[0mrange\u001b[0m\u001b[1;33m(\u001b[0m\u001b[0mnumnodes\u001b[0m\u001b[1;33m,\u001b[0m \u001b[1;36m0\u001b[0m\u001b[1;33m,\u001b[0m \u001b[1;33m-\u001b[0m\u001b[1;36m1\u001b[0m\u001b[1;33m)\u001b[0m\u001b[1;33m:\u001b[0m\u001b[1;33m\u001b[0m\u001b[0m\n\u001b[0m\u001b[1;32m     17\u001b[0m                 \u001b[1;32mfor\u001b[0m \u001b[0mface\u001b[0m \u001b[1;32min\u001b[0m \u001b[0mcombinations\u001b[0m\u001b[1;33m(\u001b[0m\u001b[0msimplex\u001b[0m\u001b[1;33m,\u001b[0m \u001b[0mr\u001b[0m\u001b[1;33m)\u001b[0m\u001b[1;33m:\u001b[0m\u001b[1;33m\u001b[0m\u001b[0m\n\u001b[1;32m     18\u001b[0m                     \u001b[0mfaceset\u001b[0m\u001b[1;33m.\u001b[0m\u001b[0madd\u001b[0m\u001b[1;33m(\u001b[0m\u001b[0mface\u001b[0m\u001b[1;33m)\u001b[0m\u001b[1;33m\u001b[0m\u001b[0m\n",
      "\u001b[0;31mTypeError\u001b[0m: 'tuple' object cannot be interpreted as an integer"
     ]
    }
   ],
   "source": [
    "# sc = SimplicialComplex(P)\n",
    "# print(sc.face_set)"
   ]
  },
  {
   "cell_type": "code",
   "execution_count": null,
   "metadata": {
    "collapsed": false
   },
   "outputs": [],
   "source": []
  },
  {
   "cell_type": "code",
   "execution_count": 195,
   "metadata": {
    "collapsed": false
   },
   "outputs": [
    {
     "name": "stdout",
     "output_type": "stream",
     "text": [
      "  (0, 0)\t1.0\n",
      "  (1, 0)\t1.0\n",
      "  (0, 1)\t1.0\n",
      "  (2, 1)\t1.0\n",
      "  (0, 2)\t1.0\n",
      "  (3, 2)\t1.0\n",
      "  (1, 3)\t1.0\n",
      "  (3, 3)\t1.0\n",
      "  (2, 4)\t1.0\n",
      "  (3, 4)\t1.0\n"
     ]
    }
   ],
   "source": [
    "#bd_matrix = np.zeros((n,n))\n",
    "A = nx.incidence_matrix(VR)\n",
    "print(A)\n",
    "#edge_list = VR.edges().copy()\n",
    "#edge_list"
   ]
  },
  {
   "cell_type": "code",
   "execution_count": 2,
   "metadata": {
    "collapsed": true
   },
   "outputs": [],
   "source": [
    "import numpy as np\n",
    "from itertools import combinations\n",
    "from scipy.sparse import dok_matrix\n",
    "from operator import add"
   ]
  },
  {
   "cell_type": "code",
   "execution_count": 19,
   "metadata": {
    "collapsed": true
   },
   "outputs": [],
   "source": [
    "# def faces(simplices):\n",
    "#     faceset = set()\n",
    "#     for simplex in simplices:\n",
    "#         numnodes = len(simplex)\n",
    "#         for r in range(numnodes, 0, -1):\n",
    "#             for face in combinations(simplex, r):\n",
    "#                 faceset.add(face)\n",
    "#     #print(faceset)\n",
    "#     return faceset\n",
    "\n",
    "class SimplicialComplex:\n",
    "    '''Simplicial Complex class that takes a list of simplicies'''\n",
    "    def __init__(self, simplices=[]):\n",
    "        self.import_simplices(simplices=simplices)\n",
    "        #self.faceset = faces(simplices)\n",
    "\n",
    "    def import_simplices(self, simplices=[]):\n",
    "        self.simplices = map(lambda simplex: tuple(sorted(simplex)), simplices)\n",
    "        self.face_set = self.faces()\n",
    "        \n",
    "    def faces(self):\n",
    "        faceset = set()\n",
    "        for simplex in self.simplices:\n",
    "            numnodes = len(simplex)\n",
    "            for r in range(numnodes, 0, -1):\n",
    "                for face in combinations(simplex, r):\n",
    "                    faceset.add(face)\n",
    "        #print(faceset)\n",
    "        return faceset\n",
    "\n",
    "    def n_faces(self, n):\n",
    "        return filter(lambda face: len(face)==n+1, self.face_set)"
   ]
  },
  {
   "cell_type": "code",
   "execution_count": 20,
   "metadata": {
    "collapsed": true
   },
   "outputs": [],
   "source": [
    "import networkx as nx\n",
    "from scipy.spatial import distance\n",
    "from itertools import product\n",
    "\n",
    "\n",
    "class RipsGraph(SimplicialComplex):\n",
    "    '''Main Rips complex class. Takes in points [k x 2 numpy matrix] epsilon (aka diameter) [float]'''\n",
    "    def __init__(self, points, epsilon, labels=None, distfcn=distance.euclidean):\n",
    "        self.pts = points\n",
    "        self.labels = range(len(self.pts)) if labels==None or len(labels)!=len(self.pts) else labels\n",
    "        self.epsilon = epsilon\n",
    "        self.distfcn = distfcn\n",
    "        self.network = self.construct_network(self.pts, self.labels, self.epsilon, self.distfcn)\n",
    "        self.import_simplices(map(tuple, list(nx.find_cliques(self.network))))\n",
    " \n",
    "    def construct_network(self, points, labels, epsilon, distfcn):\n",
    "        g = nx.Graph()\n",
    "        g.add_nodes_from(labels)\n",
    "        zips = zip(points, labels)\n",
    "        for pair in product(zips, zips):\n",
    "            if pair[0][1]!=pair[1][1]:\n",
    "                dist = distfcn(pair[0][0], pair[1][0])\n",
    "            if dist<epsilon:\n",
    "                g.add_edge(pair[0][1], pair[1][1])\n",
    "        return g"
   ]
  },
  {
   "cell_type": "code",
   "execution_count": 25,
   "metadata": {
    "collapsed": false
   },
   "outputs": [
    {
     "name": "stdout",
     "output_type": "stream",
     "text": [
      "[[ 0.98755571  0.55049392]\n",
      " [ 0.92487665  0.27596724]\n",
      " [ 0.19513789  0.72776201]\n",
      " [ 0.10027851  0.31313413]\n",
      " [ 0.09222967  0.02820615]\n",
      " [ 0.23399411  0.91388256]\n",
      " [ 0.56914593  0.08409709]\n",
      " [ 0.2698529   0.99297778]\n",
      " [ 0.80885336  0.85904541]\n",
      " [ 0.70812128  0.93601662]\n",
      " [ 0.47907451  0.19355198]\n",
      " [ 0.03816229  0.59030163]\n",
      " [ 0.75879256  0.04529054]\n",
      " [ 0.2984449   0.89088115]\n",
      " [ 0.31943399  0.57789498]]\n"
     ]
    }
   ],
   "source": [
    "k = 15\n",
    "d = 0.25\n",
    "P = np.random.random((k,2))\n",
    "print(P)\n",
    "VR = RipsGraph(P,d)"
   ]
  },
  {
   "cell_type": "code",
   "execution_count": 246,
   "metadata": {
    "collapsed": false
   },
   "outputs": [
    {
     "name": "stdout",
     "output_type": "stream",
     "text": [
      "(4,)\n"
     ]
    },
    {
     "ename": "TypeError",
     "evalue": "'tuple' object cannot be interpreted as an integer",
     "output_type": "error",
     "traceback": [
      "\u001b[0;31m---------------------------------------------------------------------------\u001b[0m",
      "\u001b[0;31mTypeError\u001b[0m                                 Traceback (most recent call last)",
      "\u001b[0;32m<ipython-input-246-8acde7f8d193>\u001b[0m in \u001b[0;36m<module>\u001b[0;34m()\u001b[0m\n\u001b[0;32m----> 1\u001b[0;31m \u001b[0msc\u001b[0m \u001b[1;33m=\u001b[0m \u001b[0mSimplicialComplex\u001b[0m\u001b[1;33m(\u001b[0m\u001b[0msimplices\u001b[0m\u001b[1;33m=\u001b[0m\u001b[1;33m[\u001b[0m\u001b[1;33m(\u001b[0m\u001b[1;36m1\u001b[0m\u001b[1;33m,\u001b[0m\u001b[1;36m2\u001b[0m\u001b[1;33m,\u001b[0m\u001b[1;36m3\u001b[0m\u001b[1;33m,\u001b[0m\u001b[1;36m4\u001b[0m\u001b[1;33m)\u001b[0m\u001b[1;33m]\u001b[0m\u001b[1;33m)\u001b[0m\u001b[1;33m\u001b[0m\u001b[0m\n\u001b[0m\u001b[1;32m      2\u001b[0m \u001b[0msc\u001b[0m\u001b[1;33m.\u001b[0m\u001b[0mface_set\u001b[0m\u001b[1;33m\u001b[0m\u001b[0m\n",
      "\u001b[0;32m<ipython-input-229-515a1a68d2d2>\u001b[0m in \u001b[0;36m__init__\u001b[0;34m(self, simplices)\u001b[0m\n\u001b[1;32m      2\u001b[0m     \u001b[1;34m'''Simplicial Complex class that takes a list of simplicies'''\u001b[0m\u001b[1;33m\u001b[0m\u001b[0m\n\u001b[1;32m      3\u001b[0m     \u001b[1;32mdef\u001b[0m \u001b[0m__init__\u001b[0m\u001b[1;33m(\u001b[0m\u001b[0mself\u001b[0m\u001b[1;33m,\u001b[0m \u001b[0msimplices\u001b[0m\u001b[1;33m=\u001b[0m\u001b[1;33m[\u001b[0m\u001b[1;33m]\u001b[0m\u001b[1;33m)\u001b[0m\u001b[1;33m:\u001b[0m\u001b[1;33m\u001b[0m\u001b[0m\n\u001b[0;32m----> 4\u001b[0;31m         \u001b[0mself\u001b[0m\u001b[1;33m.\u001b[0m\u001b[0mimport_simplices\u001b[0m\u001b[1;33m(\u001b[0m\u001b[0msimplices\u001b[0m\u001b[1;33m=\u001b[0m\u001b[0msimplices\u001b[0m\u001b[1;33m)\u001b[0m\u001b[1;33m\u001b[0m\u001b[0m\n\u001b[0m\u001b[1;32m      5\u001b[0m         \u001b[1;31m#self.faceset = faces(simplices)\u001b[0m\u001b[1;33m\u001b[0m\u001b[1;33m\u001b[0m\u001b[0m\n\u001b[1;32m      6\u001b[0m \u001b[1;33m\u001b[0m\u001b[0m\n",
      "\u001b[0;32m<ipython-input-229-515a1a68d2d2>\u001b[0m in \u001b[0;36mimport_simplices\u001b[0;34m(self, simplices)\u001b[0m\n\u001b[1;32m      7\u001b[0m     \u001b[1;32mdef\u001b[0m \u001b[0mimport_simplices\u001b[0m\u001b[1;33m(\u001b[0m\u001b[0mself\u001b[0m\u001b[1;33m,\u001b[0m \u001b[0msimplices\u001b[0m\u001b[1;33m=\u001b[0m\u001b[1;33m[\u001b[0m\u001b[1;33m]\u001b[0m\u001b[1;33m)\u001b[0m\u001b[1;33m:\u001b[0m\u001b[1;33m\u001b[0m\u001b[0m\n\u001b[1;32m      8\u001b[0m         \u001b[0mself\u001b[0m\u001b[1;33m.\u001b[0m\u001b[0msimplices\u001b[0m \u001b[1;33m=\u001b[0m \u001b[0mmap\u001b[0m\u001b[1;33m(\u001b[0m\u001b[1;32mlambda\u001b[0m \u001b[0msimplex\u001b[0m\u001b[1;33m:\u001b[0m \u001b[0mtuple\u001b[0m\u001b[1;33m(\u001b[0m\u001b[0msorted\u001b[0m\u001b[1;33m(\u001b[0m\u001b[0msimplex\u001b[0m\u001b[1;33m)\u001b[0m\u001b[1;33m)\u001b[0m\u001b[1;33m,\u001b[0m \u001b[0msimplices\u001b[0m\u001b[1;33m)\u001b[0m\u001b[1;33m\u001b[0m\u001b[0m\n\u001b[0;32m----> 9\u001b[0;31m         \u001b[0mself\u001b[0m\u001b[1;33m.\u001b[0m\u001b[0mface_set\u001b[0m \u001b[1;33m=\u001b[0m \u001b[0mself\u001b[0m\u001b[1;33m.\u001b[0m\u001b[0mfaces\u001b[0m\u001b[1;33m(\u001b[0m\u001b[1;33m)\u001b[0m\u001b[1;33m\u001b[0m\u001b[0m\n\u001b[0m\u001b[1;32m     10\u001b[0m \u001b[1;33m\u001b[0m\u001b[0m\n\u001b[1;32m     11\u001b[0m     \u001b[1;32mdef\u001b[0m \u001b[0mfaces\u001b[0m\u001b[1;33m(\u001b[0m\u001b[0mself\u001b[0m\u001b[1;33m)\u001b[0m\u001b[1;33m:\u001b[0m\u001b[1;33m\u001b[0m\u001b[0m\n",
      "\u001b[0;32m<ipython-input-229-515a1a68d2d2>\u001b[0m in \u001b[0;36mfaces\u001b[0;34m(self)\u001b[0m\n\u001b[1;32m     14\u001b[0m             \u001b[0mnumnodes\u001b[0m \u001b[1;33m=\u001b[0m \u001b[0mnp\u001b[0m\u001b[1;33m.\u001b[0m\u001b[0mshape\u001b[0m\u001b[1;33m(\u001b[0m\u001b[0msimplex\u001b[0m\u001b[1;33m)\u001b[0m\u001b[1;33m\u001b[0m\u001b[0m\n\u001b[1;32m     15\u001b[0m             \u001b[0mprint\u001b[0m\u001b[1;33m(\u001b[0m\u001b[0mnumnodes\u001b[0m\u001b[1;33m)\u001b[0m\u001b[1;33m\u001b[0m\u001b[0m\n\u001b[0;32m---> 16\u001b[0;31m             \u001b[1;32mfor\u001b[0m \u001b[0mr\u001b[0m \u001b[1;32min\u001b[0m \u001b[0mrange\u001b[0m\u001b[1;33m(\u001b[0m\u001b[0mnumnodes\u001b[0m\u001b[1;33m,\u001b[0m \u001b[1;36m0\u001b[0m\u001b[1;33m,\u001b[0m \u001b[1;33m-\u001b[0m\u001b[1;36m1\u001b[0m\u001b[1;33m)\u001b[0m\u001b[1;33m:\u001b[0m\u001b[1;33m\u001b[0m\u001b[0m\n\u001b[0m\u001b[1;32m     17\u001b[0m                 \u001b[1;32mfor\u001b[0m \u001b[0mface\u001b[0m \u001b[1;32min\u001b[0m \u001b[0mcombinations\u001b[0m\u001b[1;33m(\u001b[0m\u001b[0msimplex\u001b[0m\u001b[1;33m,\u001b[0m \u001b[0mr\u001b[0m\u001b[1;33m)\u001b[0m\u001b[1;33m:\u001b[0m\u001b[1;33m\u001b[0m\u001b[0m\n\u001b[1;32m     18\u001b[0m                     \u001b[0mfaceset\u001b[0m\u001b[1;33m.\u001b[0m\u001b[0madd\u001b[0m\u001b[1;33m(\u001b[0m\u001b[0mface\u001b[0m\u001b[1;33m)\u001b[0m\u001b[1;33m\u001b[0m\u001b[0m\n",
      "\u001b[0;31mTypeError\u001b[0m: 'tuple' object cannot be interpreted as an integer"
     ]
    }
   ],
   "source": [
    "sc = SimplicialComplex(simplices=[(1,2,3,4)])\n",
    "sc.face_set"
   ]
  },
  {
   "cell_type": "code",
   "execution_count": 33,
   "metadata": {
    "collapsed": false
   },
   "outputs": [],
   "source": [
    "nx.draw(VR)"
   ]
  },
  {
   "cell_type": "code",
   "execution_count": 71,
   "metadata": {
    "collapsed": false
   },
   "outputs": [
    {
     "data": {
      "image/png": "[encoded data removed]",
      "text/plain": [
       "<matplotlib.figure.Figure at 0x1ca8811d5f8>"
      ]
     },
     "metadata": {},
     "output_type": "display_data"
    }
   ],
   "source": [
    "G = nx.path_graph(4)\n",
    "shells = [[0], [1, 2, 3]]\n",
    "pos = nx.shell_layout(G, shells)\n",
    "nx.draw(G,pos)"
   ]
  },
  {
   "cell_type": "code",
   "execution_count": null,
   "metadata": {
    "collapsed": false
   },
   "outputs": [],
   "source": []
  },
  {
   "cell_type": "code",
   "execution_count": 103,
   "metadata": {
    "collapsed": true
   },
   "outputs": [],
   "source": [
    "import numpy as np\n",
    "from itertools import combinations\n",
    "from scipy.sparse import dok_matrix\n",
    "from operator import add\n"
   ]
  },
  {
   "cell_type": "code",
   "execution_count": 104,
   "metadata": {
    "collapsed": true
   },
   "outputs": [],
   "source": [
    "class SimplicialComplex:\n",
    "    def __init__(self, simplices=[]):\n",
    "        self.import_simplices(simplices=simplices)\n",
    "\n",
    "    def import_simplices(self, simplices=[]):\n",
    "        self.simplices = map(lambda simplex: tuple(sorted(simplex)), simplices)\n",
    "        self.face_set = self.faces()"
   ]
  },
  {
   "cell_type": "code",
   "execution_count": 105,
   "metadata": {
    "collapsed": false
   },
   "outputs": [],
   "source": [
    "import networkx as nx\n",
    "from scipy.spatial import distance\n",
    "from itertools import product\n",
    "\n",
    " \n",
    "class VietorisRipsComplex(SimplicialComplex):\n",
    "    def __init__(self, points, epsilon, labels=None, distfcn=distance.euclidean):\n",
    "        self.pts = points\n",
    "        self.labels = range(len(self.pts)) if labels==None or len(labels)!=len(self.pts) else labels\n",
    "        self.epsilon = epsilon\n",
    "        self.distfcn = distfcn\n",
    "        self.network = self.construct_network(self.pts, self.labels, self.epsilon, self.distfcn)\n",
    "        self.import_simplices(map(tuple, list(nx.find_cliques(self.network))))\n",
    " \n",
    "    def construct_network(self, points, labels, epsilon, distfcn):\n",
    "        g = nx.Graph()\n",
    "        g.add_nodes_from(labels)\n",
    "        zips = zip(points, labels)\n",
    "        for pair in product(zips, zips):\n",
    "            if pair[0][1]!=pair[1][1]:\n",
    "                dist = distfcn(pair[0][0], pair[1][0])\n",
    "            if dist<epsilon:\n",
    "                g.add_edge(pair[0][1], pair[1][1])\n",
    "        return g"
   ]
  },
  {
   "cell_type": "code",
   "execution_count": null,
   "metadata": {
    "collapsed": true
   },
   "outputs": [],
   "source": [
    "A = "
   ]
  }
 ],
 "metadata": {
  "anaconda-cloud": {},
  "kernelspec": {
   "display_name": "Python [conda root]",
   "language": "python",
   "name": "conda-root-py"
  },
  "language_info": {
   "codemirror_mode": {
    "name": "ipython",
    "version": 3
   },
   "file_extension": ".py",
   "mimetype": "text/x-python",
   "name": "python",
   "nbconvert_exporter": "python",
   "pygments_lexer": "ipython3",
   "version": "3.5.2"
  }
 },
 "nbformat": 4,
 "nbformat_minor": 1
}

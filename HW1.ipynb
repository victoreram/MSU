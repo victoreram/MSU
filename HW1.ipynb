{
 "cells": [
  {
   "cell_type": "markdown",
   "metadata": {},
   "source": [
    "# Victor Ramirez #\n",
    "CMSE 491 <br/>\n",
    "Fall 2017 <br/>\n",
    "Homework 1 <br/>"
   ]
  },
  {
   "cell_type": "markdown",
   "metadata": {},
   "source": [
    "Disclaimer: I worked with Kyle Zimmer in problems 1, 3 and 5. "
   ]
  },
  {
   "cell_type": "markdown",
   "metadata": {},
   "source": [
    "### 1. \n",
    "Let $G$ be a simple (no loops), undirected graph with adjacency matrix $A$. <br/>\n",
    "a) Prove that the degree of vertex $v_{i}$ is the ith diagonal entry in $A^{2}$ <br/>\n",
    "b) What is in entry $(i, j)$ of $A^{2}$ in terms of the graph? Generalize this statement to entry\n",
    "$(i, j)$ of $A^{n}$ and prove the statement."
   ]
  },
  {
   "cell_type": "markdown",
   "metadata": {},
   "source": [
    "### Solution:\n",
    "   \n",
    "\n",
    "\n",
    "\n",
    "The $k \\times k$ adjacency matrix $A$ is defined as:\n",
    "\n",
    "\n",
    "$$\n",
    "\\mathbf{A} = \\left[\\begin{array}\n",
    "{rrr}\n",
    "A_{11} & A_{12} & \\dots & A_{1k} \\\\\n",
    "A_{21} & A_{22} & \\dots & A_{2k} \\\\\n",
    "\\vdots & \\vdots & \\ddots & \\vdots \\\\\n",
    "A_{k1} & A_{k2} & \\dots & A_{kk}\n",
    "\\end{array}\\right]\n",
    "$$\n",
    "\n",
    "\n",
    "\n",
    "The elements $A_{ij}$ of the Adjacency Matrix $A$ are defined as:\n",
    "\n",
    "$$\n",
    "v_iv_j = A_{ij} = \\left\\{\\begin{array}{lr}\n",
    "\t1, & \\text{when $v_{i}$ and $v_{j}$ are adjacent}\\\\\n",
    "\t0, & \\text{otherwise}\\\\\n",
    "\t\\end{array}\\right\\} [1]\n",
    "$$\n",
    "\n",
    "\n",
    "where each element in the row vector $\\vec{v_i}$ containing the vertex $v_i$ $\\times$ the row vector of the vertices in the graph, $\\vec{v}$. \n",
    "\n",
    "$$\\mathbf{\\vec{{v_i}}} = v_i\n",
    "\\left[\\begin{array}\n",
    "{rrr}\n",
    "v_1 & v_2 & \\dots & v_k\n",
    "\\end{array}\\right]\n",
    "= v_i\n",
    " \\left[\\begin{array}\n",
    "{rrr}\n",
    "A_{11} & A_{12} & \\dots & A_{1k}\n",
    "\\end{array}\\right]\n",
    "$$\n",
    "\n",
    "Likewise, $\\vec{v_i}^{T}$ = $v_i$ $\\times$ the column vector of the vertices in the graph, $\\vec{v}^{T}$. \n",
    "\n",
    "The vector $\\vec{v_i}$ contains elements which signal whether $v_i$ is adjacent to $v_j$ or not as defined by [1]. The degree is defined as the sum of the adjacent vertices for any given vertex. Thus, for vertex $v_i$ the degree $deg(v_i)$ is the sum of the elements in $\\vec{v_i}$. This is expressed as:\n",
    "\n",
    "$$\n",
    "\\sum_{j=1}^{k} v_{i}v_{j} = deg(v_{i})\n",
    "$$\n",
    "\n",
    "The sum on the lefthand side for j is just the vector $\\vec{v}$. This can thus be rewritten as:\n",
    "$$\n",
    "deg(v_{i}) = \\vec{v_i}\\vec{{v}^{T}}\n",
    "$$\n",
    "Calculating the ith diagonal of the Adjacency matrix squared gives:\n",
    "\n",
    "$$\n",
    "A^{2}_{ii} = A_{i1}A_{1i} + A_{i2}A_{2i} + \\dots + A_{ik}A_{ki} \\\\\n",
    "= \\vec{v_i}\\vec{{v}^{T}} \\\\\n",
    "= deg(v_{i})\n",
    "$$\n",
    "\n",
    "\n",
    "\n"
   ]
  },
  {
   "cell_type": "markdown",
   "metadata": {},
   "source": [
    "b) Definition [1] contains $A_{ij}^1$. $A_{ij}^2$ is thus:\n",
    "$$\n",
    "A_{ij} \\times A_{ij}\n",
    "$$\n",
    "\n",
    "For $v_i$ adjacent to $v_j$, this will equal to 1 by [1]. For $v_i$ not adjacent to $v_j$, this will equal 0. Raising it to the kth power will yield the same thing. Thus we can generalize [1] as:\n",
    "\n",
    "$$\n",
    "A_{ij}^{k} = \\left\\{\\begin{array}{lr}\n",
    "\t1, & \\text{when $v_{i}$ and $v_{j}$ are adjacent}\\\\\n",
    "\t0, & \\text{otherwise}\\\\\n",
    "\t\\end{array}\\right\\}\n",
    "$$"
   ]
  },
  {
   "cell_type": "markdown",
   "metadata": {},
   "source": [
    "### 3.\n",
    "\n",
    "Let $K$ be a simplicial complex. Prove that $K$ is a geometric realization of the nerve of the collection of vertex stars in $K$.\n",
    "\n",
    "Key definitions:\n",
    "\n",
    "\n",
    "[1] $St(\\sigma)$ = the union of interiors of simplices with $\\sigma$ as a face = the collection of simplices that connect to $\\sigma$ <br/>\n",
    "[2] $Nrv(F) = \\{X \\subseteq{F} | \\cap{X} \\ne \\emptyset\\} $ <br/>\n",
    "[3] (Nerve Lemma) Let $F$ be a finite collection of closed, convex sets in Euclidean space.\n",
    "Then the nerve of $F$, $Nrv(F)$, and the union of the sets in $F$, $\\cup{F}$ have the same\n",
    "homotopy type.\n",
    "\n",
    "### Solution\n",
    "\n",
    "Define a vertex $v$ that is equivalently defined as a 0-simplex, or point, such that v $\\in$ $\\sigma$, $\\sigma$ $\\in$ $K$. \n",
    "\n",
    "Because $v$ is a face of itself, $v \\in St(v)$, where $St(v)$ is:\n",
    "\n",
    "$$\n",
    "St(v) = \\{\\sigma \\in K | v \\in \\sigma\\}\n",
    "$$\n",
    "\n",
    "by [1]. Now introduce a set $F$ that contains the $St(v)$ for all $v$ in $K$:\n",
    "$$\n",
    "F = \\{St(v) \\forall{v} \\in K\\} = \\{\\{\\sigma \\in K | v \\in \\sigma\\} \\forall{v} \\in K\\}\n",
    "$$\n",
    "\n",
    "and $K$ is the collection of vertex stars:\n",
    "\n",
    "$$\n",
    "K = \\cup{F} =  \\cup{ \\{St(v) \\forall{v} \\in K\\} }\n",
    "$$\n",
    "\n",
    "Using [2], $Nrv(F)$ is an abstract simplicial complex and has a geometric representation because:\n",
    "\n",
    "$$\n",
    "\\cap{X} \\subseteq{F} \\ne \\emptyset \\implies Y \\subseteq X \\ne \\emptyset\n",
    "$$\n",
    "\n",
    "Given that  $Nrv(F)$ is an abstract simplicial complex  and the equality $K = \\cup{F}$, we can thus state that $K$ is a geometric realization of the nerve of the collection of vertex stars in $K$."
   ]
  },
  {
   "cell_type": "markdown",
   "metadata": {},
   "source": [
    "### 5.\n",
    "Write code for the function $RipsGraph(P,d)$ as follows. <br/>\n",
    "Inputs:\n",
    "- a set of points $P$ $\\subset$ $\\mathbb{R}^{2}$ given as a $k \\times 2$ numpy matrix \n",
    "- a diameter $d \\ge 0$ \n",
    "<br/>\n",
    "\n",
    "Output:\n",
    "- networkx graph which is the 1-skeleton of the Rips complex $V R(P, d)$.\n",
    "        \n",
    "        \n",
    "Create a point set of 15 random points in the box $[0, 1]\\times[0; 1]$. Draw this graph as an overlay\n",
    "on the points (even though there will likely be crossings)."
   ]
  },
  {
   "cell_type": "markdown",
   "metadata": {},
   "source": [
    "Much of the foundation of this code is from a blog post by stephenhky found here: <br/>\n",
    "\n",
    "https://datawarrior.wordpress.com/2015/09/14/tda-2-constructing-connectivities/\n",
    "\n",
    "I made some changes in order to fit the specifications of this assignment"
   ]
  },
  {
   "cell_type": "code",
   "execution_count": 34,
   "metadata": {
    "collapsed": false
   },
   "outputs": [],
   "source": [
    "%matplotlib inline\n",
    "import networkx as nx\n",
    "import numpy as np\n",
    "import matplotlib.pyplot as plt\n",
    "\n"
   ]
  },
  {
   "cell_type": "code",
   "execution_count": 158,
   "metadata": {
    "collapsed": false
   },
   "outputs": [],
   "source": [
    "def mag(x,y):\n",
    "    return (x**2+y**2)**0.5\n",
    "\n",
    "def RipsGraph(P,d):\n",
    "    dim = len(P)\n",
    "    g = nx.Graph()\n",
    "    xi,yi= P[0] \n",
    "    g.add_node(0,pos=(xi,yi),label=str(0))\n",
    "    \n",
    "    #add node at a given position\n",
    "    for i in range(1,dim):\n",
    "        xi,yi= P[i]        \n",
    "        g.add_node(i,pos=(xi,yi),label=str(i))\n",
    "        #then connect each node with the previous node                  \n",
    "        #g.add_edge(i,i-1)\n",
    "        \n",
    "    #check to see if it meets Rips complex conditions in a ridiculously inefficient way\n",
    "    incident_edges = {}\n",
    "    #incident_edges keeps track of what vertices are incident to another. Key: vertex, Value: adjacent vertices\n",
    "    for i in range(dim):\n",
    "        xi,yi= P[i]\n",
    "        incident_edges[i] = []\n",
    "        \n",
    "\n",
    "        for j in range(dim):\n",
    "            #don't count vertices \"incident\" to each other. Again there's a much better way of doing this\n",
    "            if i == j:\n",
    "                continue\n",
    "                \n",
    "            xj,yj = P[j]\n",
    "            if mag(xi-xj,yi-yj) <= d:\n",
    "                g.add_edge(i,j)\n",
    "                incident_edges[i].append(j)\n",
    "\n",
    "    return g #nx graph 1 skeleton Rips complex"
   ]
  },
  {
   "cell_type": "code",
   "execution_count": 159,
   "metadata": {
    "collapsed": false
   },
   "outputs": [],
   "source": [
    "#setup\n",
    "k = 15\n",
    "d = 0.25\n",
    "P = np.random.random((k,2))\n",
    "VR = RipsGraph(P,d)\n",
    "pos=nx.get_node_attributes(VR,'pos')\n",
    "labels=nx.get_node_attributes(VR,'label')\n"
   ]
  },
  {
   "cell_type": "code",
   "execution_count": 160,
   "metadata": {
    "collapsed": false
   },
   "outputs": [
    {
     "data": {
      "image/png": "[encoded data removed]",
      "text/plain": [
       "<matplotlib.figure.Figure at 0x1ca893f5390>"
      ]
     },
     "metadata": {},
     "output_type": "display_data"
    }
   ],
   "source": [
    "#print(VR.nodes())\n",
    "#nx.draw(VR,pos)\n",
    "nx.draw(VR,pos,ax=None,labels=labels)\n",
    "#plt.show()\n",
    "#plt.draw(VR)\n",
    "# plt.xlim(0,1)\n",
    "# plt.ylim(0,1)\n",
    "# plt.xlabel(\"X\")\n",
    "# plt.ylabel(\"Y\")"
   ]
  },
  {
   "cell_type": "markdown",
   "metadata": {},
   "source": [
    "If I knew a networkx more, I would have code that takes in the dictionary of edges incident to a cluster of nodes within the Rips complex, and have networkx overlay those clusters of nodes. Also, I would like to have the grids labeled but I was totally confused by the networkx documentation and how it integrates matplotlib."
   ]
  },
  {
   "cell_type": "markdown",
   "metadata": {
    "collapsed": true
   },
   "source": [
    "### 6.\n",
    "Write code for the function $RipsGraph(P,d)$ as follows. <br/>\n",
    "Inputs:\n",
    "- a set of points $P$ $\\subset$ $\\mathbb{R}^{2}$ given as a $k \\times 2$ numpy matrix \n",
    "- a diameter $d \\ge 0$ \n",
    "<br/>\n",
    "\n",
    "Output:\n",
    "- The boundary matrix representing the Rips complex $V R(P, d)$."
   ]
  },
  {
   "cell_type": "code",
   "execution_count": 162,
   "metadata": {
    "collapsed": false
   },
   "outputs": [
    {
     "name": "stdout",
     "output_type": "stream",
     "text": [
      "  (0, 0)\t1.0\n",
      "  (4, 0)\t1.0\n",
      "  (1, 1)\t1.0\n",
      "  (8, 1)\t1.0\n",
      "  (1, 2)\t1.0\n",
      "  (11, 2)\t1.0\n",
      "  (2, 3)\t1.0\n",
      "  (7, 3)\t1.0\n",
      "  (4, 4)\t1.0\n",
      "  (9, 4)\t1.0\n",
      "  (6, 5)\t1.0\n",
      "  (9, 5)\t1.0\n",
      "  (6, 6)\t1.0\n",
      "  (14, 6)\t1.0\n",
      "  (7, 7)\t1.0\n",
      "  (10, 7)\t1.0\n",
      "  (8, 8)\t1.0\n",
      "  (10, 8)\t1.0\n",
      "  (8, 9)\t1.0\n",
      "  (11, 9)\t1.0\n",
      "  (9, 10)\t1.0\n",
      "  (14, 10)\t1.0\n",
      "  (9, 11)\t1.0\n",
      "  (13, 11)\t1.0\n",
      "  (10, 12)\t1.0\n",
      "  (11, 12)\t1.0\n",
      "  (13, 13)\t1.0\n",
      "  (14, 13)\t1.0\n"
     ]
    }
   ],
   "source": [
    "#bd_matrix = np.zeros((n,n))\n",
    "A = nx.incidence_matrix(VR)\n",
    "print(A)\n",
    "#edge_list = VR.edges().copy()\n",
    "#edge_list"
   ]
  },
  {
   "cell_type": "code",
   "execution_count": 2,
   "metadata": {
    "collapsed": true
   },
   "outputs": [],
   "source": [
    "import numpy as np\n",
    "from itertools import combinations\n",
    "from scipy.sparse import dok_matrix\n",
    "from operator import add"
   ]
  },
  {
   "cell_type": "code",
   "execution_count": 19,
   "metadata": {
    "collapsed": true
   },
   "outputs": [],
   "source": [
    "# def faces(simplices):\n",
    "#     faceset = set()\n",
    "#     for simplex in simplices:\n",
    "#         numnodes = len(simplex)\n",
    "#         for r in range(numnodes, 0, -1):\n",
    "#             for face in combinations(simplex, r):\n",
    "#                 faceset.add(face)\n",
    "#     #print(faceset)\n",
    "#     return faceset\n",
    "\n",
    "class SimplicialComplex:\n",
    "    '''Simplicial Complex class that takes a list of simplicies'''\n",
    "    def __init__(self, simplices=[]):\n",
    "        self.import_simplices(simplices=simplices)\n",
    "        #self.faceset = faces(simplices)\n",
    "\n",
    "    def import_simplices(self, simplices=[]):\n",
    "        self.simplices = map(lambda simplex: tuple(sorted(simplex)), simplices)\n",
    "        self.face_set = self.faces()\n",
    "        \n",
    "    def faces(self):\n",
    "        faceset = set()\n",
    "        for simplex in self.simplices:\n",
    "            numnodes = len(simplex)\n",
    "            for r in range(numnodes, 0, -1):\n",
    "                for face in combinations(simplex, r):\n",
    "                    faceset.add(face)\n",
    "        #print(faceset)\n",
    "        return faceset\n",
    "\n",
    "    def n_faces(self, n):\n",
    "        return filter(lambda face: len(face)==n+1, self.face_set)"
   ]
  },
  {
   "cell_type": "code",
   "execution_count": 20,
   "metadata": {
    "collapsed": true
   },
   "outputs": [],
   "source": [
    "import networkx as nx\n",
    "from scipy.spatial import distance\n",
    "from itertools import product\n",
    "\n",
    "\n",
    "class RipsGraph(SimplicialComplex):\n",
    "    '''Main Rips complex class. Takes in points [k x 2 numpy matrix] epsilon (aka diameter) [float]'''\n",
    "    def __init__(self, points, epsilon, labels=None, distfcn=distance.euclidean):\n",
    "        self.pts = points\n",
    "        self.labels = range(len(self.pts)) if labels==None or len(labels)!=len(self.pts) else labels\n",
    "        self.epsilon = epsilon\n",
    "        self.distfcn = distfcn\n",
    "        self.network = self.construct_network(self.pts, self.labels, self.epsilon, self.distfcn)\n",
    "        self.import_simplices(map(tuple, list(nx.find_cliques(self.network))))\n",
    " \n",
    "    def construct_network(self, points, labels, epsilon, distfcn):\n",
    "        g = nx.Graph()\n",
    "        g.add_nodes_from(labels)\n",
    "        zips = zip(points, labels)\n",
    "        for pair in product(zips, zips):\n",
    "            if pair[0][1]!=pair[1][1]:\n",
    "                dist = distfcn(pair[0][0], pair[1][0])\n",
    "            if dist<epsilon:\n",
    "                g.add_edge(pair[0][1], pair[1][1])\n",
    "        return g"
   ]
  },
  {
   "cell_type": "code",
   "execution_count": 25,
   "metadata": {
    "collapsed": false
   },
   "outputs": [
    {
     "name": "stdout",
     "output_type": "stream",
     "text": [
      "[[ 0.98755571  0.55049392]\n",
      " [ 0.92487665  0.27596724]\n",
      " [ 0.19513789  0.72776201]\n",
      " [ 0.10027851  0.31313413]\n",
      " [ 0.09222967  0.02820615]\n",
      " [ 0.23399411  0.91388256]\n",
      " [ 0.56914593  0.08409709]\n",
      " [ 0.2698529   0.99297778]\n",
      " [ 0.80885336  0.85904541]\n",
      " [ 0.70812128  0.93601662]\n",
      " [ 0.47907451  0.19355198]\n",
      " [ 0.03816229  0.59030163]\n",
      " [ 0.75879256  0.04529054]\n",
      " [ 0.2984449   0.89088115]\n",
      " [ 0.31943399  0.57789498]]\n"
     ]
    }
   ],
   "source": [
    "k = 15\n",
    "d = 0.25\n",
    "P = np.random.random((k,2))\n",
    "print(P)\n",
    "VR = RipsGraph(P,d)"
   ]
  },
  {
   "cell_type": "code",
   "execution_count": 22,
   "metadata": {
    "collapsed": false
   },
   "outputs": [
    {
     "data": {
      "text/plain": [
       "{(1,),\n",
       " (1, 2),\n",
       " (1, 2, 3),\n",
       " (1, 2, 3, 4),\n",
       " (1, 2, 4),\n",
       " (1, 3),\n",
       " (1, 3, 4),\n",
       " (1, 4),\n",
       " (2,),\n",
       " (2, 3),\n",
       " (2, 3, 4),\n",
       " (2, 4),\n",
       " (3,),\n",
       " (3, 4),\n",
       " (4,)}"
      ]
     },
     "execution_count": 22,
     "metadata": {},
     "output_type": "execute_result"
    }
   ],
   "source": [
    "sc = SimplicialComplex(simplices=[(1,2,3,4)])\n",
    "sc.face_set"
   ]
  },
  {
   "cell_type": "code",
   "execution_count": 33,
   "metadata": {
    "collapsed": false
   },
   "outputs": [],
   "source": [
    "nx.draw(VR)"
   ]
  },
  {
   "cell_type": "code",
   "execution_count": 71,
   "metadata": {
    "collapsed": false
   },
   "outputs": [
    {
     "data": {
      "image/png": "[encoded data removed]",
      "text/plain": [
       "<matplotlib.figure.Figure at 0x1ca8811d5f8>"
      ]
     },
     "metadata": {},
     "output_type": "display_data"
    }
   ],
   "source": [
    "G = nx.path_graph(4)\n",
    "shells = [[0], [1, 2, 3]]\n",
    "pos = nx.shell_layout(G, shells)\n",
    "nx.draw(G,pos)"
   ]
  },
  {
   "cell_type": "code",
   "execution_count": 78,
   "metadata": {
    "collapsed": false
   },
   "outputs": [
    {
     "ename": "AttributeError",
     "evalue": "'AxesSubplot' object has no attribute 'xlim'",
     "output_type": "error",
     "traceback": [
      "\u001b[0;31m---------------------------------------------------------------------------\u001b[0m",
      "\u001b[0;31mAttributeError\u001b[0m                            Traceback (most recent call last)",
      "\u001b[0;32m<ipython-input-78-bbee6e24f0dd>\u001b[0m in \u001b[0;36m<module>\u001b[0;34m()\u001b[0m\n\u001b[1;32m      8\u001b[0m \u001b[1;33m\u001b[0m\u001b[0m\n\u001b[1;32m      9\u001b[0m \u001b[0max\u001b[0m\u001b[1;33m.\u001b[0m\u001b[0mset_title\u001b[0m\u001b[1;33m(\u001b[0m\u001b[1;34m\"My Plot Title\"\u001b[0m\u001b[1;33m)\u001b[0m\u001b[1;33m\u001b[0m\u001b[0m\n\u001b[0;32m---> 10\u001b[0;31m \u001b[0max\u001b[0m\u001b[1;33m.\u001b[0m\u001b[0mxlim\u001b[0m\u001b[1;33m(\u001b[0m\u001b[1;36m0\u001b[0m\u001b[1;33m,\u001b[0m\u001b[1;36m1\u001b[0m\u001b[1;33m)\u001b[0m\u001b[1;33m\u001b[0m\u001b[0m\n\u001b[0m\u001b[1;32m     11\u001b[0m \u001b[0max\u001b[0m\u001b[1;33m.\u001b[0m\u001b[0mylim\u001b[0m\u001b[1;33m(\u001b[0m\u001b[1;36m0\u001b[0m\u001b[1;33m,\u001b[0m\u001b[1;36m1\u001b[0m\u001b[1;33m)\u001b[0m\u001b[1;33m\u001b[0m\u001b[0m\n",
      "\u001b[0;31mAttributeError\u001b[0m: 'AxesSubplot' object has no attribute 'xlim'"
     ]
    },
    {
     "data": {
      "image/png": "[encoded data removed]",
      "text/plain": [
       "<matplotlib.figure.Figure at 0x1ca870533c8>"
      ]
     },
     "metadata": {},
     "output_type": "display_data"
    }
   ],
   "source": [
    "mpl_fig = plt.figure()\n",
    "ax = mpl_fig.add_subplot(111)\n",
    "\n",
    "x=[0, 1, 2, 3, 4, 5, 6, 7, 8]\n",
    "y=[0, 4, 5, 1, 8, 5, 3, 2, 9]\n",
    "\n",
    "line, = ax.plot(x, y, lw=2)\n",
    "\n",
    "ax.set_title(\"My Plot Title\")\n",
    "ax.xlim(0,1)\n",
    "ax.ylim(0,1)"
   ]
  },
  {
   "cell_type": "code",
   "execution_count": 103,
   "metadata": {
    "collapsed": true
   },
   "outputs": [],
   "source": [
    "import numpy as np\n",
    "from itertools import combinations\n",
    "from scipy.sparse import dok_matrix\n",
    "from operator import add\n"
   ]
  },
  {
   "cell_type": "code",
   "execution_count": 104,
   "metadata": {
    "collapsed": true
   },
   "outputs": [],
   "source": [
    "class SimplicialComplex:\n",
    "    def __init__(self, simplices=[]):\n",
    "        self.import_simplices(simplices=simplices)\n",
    "\n",
    "    def import_simplices(self, simplices=[]):\n",
    "        self.simplices = map(lambda simplex: tuple(sorted(simplex)), simplices)\n",
    "        self.face_set = self.faces()"
   ]
  },
  {
   "cell_type": "code",
   "execution_count": 105,
   "metadata": {
    "collapsed": false
   },
   "outputs": [],
   "source": [
    "import networkx as nx\n",
    "from scipy.spatial import distance\n",
    "from itertools import product\n",
    "\n",
    " \n",
    "class VietorisRipsComplex(SimplicialComplex):\n",
    "    def __init__(self, points, epsilon, labels=None, distfcn=distance.euclidean):\n",
    "        self.pts = points\n",
    "        self.labels = range(len(self.pts)) if labels==None or len(labels)!=len(self.pts) else labels\n",
    "        self.epsilon = epsilon\n",
    "        self.distfcn = distfcn\n",
    "        self.network = self.construct_network(self.pts, self.labels, self.epsilon, self.distfcn)\n",
    "        self.import_simplices(map(tuple, list(nx.find_cliques(self.network))))\n",
    " \n",
    "    def construct_network(self, points, labels, epsilon, distfcn):\n",
    "        g = nx.Graph()\n",
    "        g.add_nodes_from(labels)\n",
    "        zips = zip(points, labels)\n",
    "        for pair in product(zips, zips):\n",
    "            if pair[0][1]!=pair[1][1]:\n",
    "                dist = distfcn(pair[0][0], pair[1][0])\n",
    "            if dist<epsilon:\n",
    "                g.add_edge(pair[0][1], pair[1][1])\n",
    "        return g"
   ]
  },
  {
   "cell_type": "code",
   "execution_count": null,
   "metadata": {
    "collapsed": true
   },
   "outputs": [],
   "source": [
    "A = "
   ]
  }
 ],
 "metadata": {
  "anaconda-cloud": {},
  "kernelspec": {
   "display_name": "Python [conda root]",
   "language": "python",
   "name": "conda-root-py"
  },
  "language_info": {
   "codemirror_mode": {
    "name": "ipython",
    "version": 3
   },
   "file_extension": ".py",
   "mimetype": "text/x-python",
   "name": "python",
   "nbconvert_exporter": "python",
   "pygments_lexer": "ipython3",
   "version": "3.5.2"
  }
 },
 "nbformat": 4,
 "nbformat_minor": 1
}

{
 "cells": [
  {
   "cell_type": "markdown",
   "metadata": {},
   "source": [
    "# Victor Ramirez #\n",
    "CMSE 491 <br/>\n",
    "Fall 2017 <br/>\n",
    "Homework 1 <br/>"
   ]
  },
  {
   "cell_type": "markdown",
   "metadata": {},
   "source": [
    "Disclaimer: I worked with Kyle Zimmer in problems 1, 4 and 5. "
   ]
  },
  {
   "cell_type": "markdown",
   "metadata": {},
   "source": [
    "\n",
    "1. Let $G$ be a simple (no loops), undirected graph with adjacency matrix $A$. <br/>\n",
    "a) Prove that the degree of vertex $v_{i}$ is the ith diagonal entry in $A^{2}$ <br/>\n",
    "b) What is in entry $(i, j)$ of $A^{2}$ in terms of the graph? Generalize this statement to entry\n",
    "$(i, j)$ of $A^{n}$ and prove the statement."
   ]
  },
  {
   "cell_type": "markdown",
   "metadata": {},
   "source": [
    "Solution:\n",
    "   \n",
    "\n",
    "\n",
    "\n",
    "The $k \\times k$ adjacency matrix $A$ is defined as:\n",
    "\n",
    "\n",
    "$$\n",
    "\\mathbf{A} = \\left[\\begin{array}\n",
    "{rrr}\n",
    "A_{11} & A_{12} & \\dots & A_{1k} \\\\\n",
    "A_{21} & A_{22} & \\dots & A_{2k} \\\\\n",
    "\\vdots & \\vdots & \\ddots & \\vdots \\\\\n",
    "A_{k1} & A_{k2} & \\dots & A_{kk}\n",
    "\\end{array}\\right]\n",
    "$$\n",
    "\n",
    "\n",
    "\n",
    "The elements $A_{ij}$ of the Adjacency Matrix $A$ are defined as:\n",
    "\n",
    "$$\n",
    "v_iv_j = A_{ij} = \\left\\{\\begin{array}{lr}\n",
    "\t1, & \\text{when $v_{i}$ and $v_{j}$ are adjacent}\\\\\n",
    "\t0, & \\text{otherwise}\\\\\n",
    "\t\\end{array}\\right\\} [1]\n",
    "$$\n",
    "\n",
    "\n",
    "where each element in the row vector $\\vec{v_i}$ containing the vertex $v_i$ $\\times$ the row vector of the vertices in the graph, $\\vec{v}$. \n",
    "\n",
    "$$\\mathbf{\\vec{{v_i}}} = v_i\n",
    "\\left[\\begin{array}\n",
    "{rrr}\n",
    "v_1 & v_2 & \\dots & v_k\n",
    "\\end{array}\\right]\n",
    "= v_i\n",
    " \\left[\\begin{array}\n",
    "{rrr}\n",
    "A_{11} & A_{12} & \\dots & A_{1k}\n",
    "\\end{array}\\right]\n",
    "$$\n",
    "\n",
    "Likewise, $\\vec{v_i}^{T}$ = $v_i$ $\\times$ the column vector of the vertices in the graph, $\\vec{v}^{T}$. \n",
    "\n",
    "The vector $\\vec{v_i}$ contains elements which signal whether $v_i$ is adjacent to $v_j$ or not as defined by [1]. The degree is defined as the sum of the adjacent vertices for any given vertex. Thus, for vertex $v_i$ the degree $deg(v_i)$ is the sum of the elements in $\\vec{v_i}$. This is expressed as:\n",
    "\n",
    "$$\n",
    "\\sum_{j=1}^{k} v_{i}v_{j} = deg(v_{i})\n",
    "$$\n",
    "\n",
    "The sum on the lefthand side for j is just the vector $\\vec{v}$. This can thus be rewritten as:\n",
    "$$\n",
    "deg(v_{i}) = \\vec{v_i}\\vec{{v}^{T}}\n",
    "$$\n",
    "Calculating the ith diagonal of the Adjacency matrix squared gives:\n",
    "\n",
    "$$\n",
    "A^{2}_{ii} = A_{i1}A_{1i} + A_{i2}A_{2i} + \\dots + A_{ik}A_{ki} \\\\\n",
    "= \\vec{v_i}\\vec{{v}^{T}} \\\\\n",
    "= deg(v_{i})\n",
    "$$\n",
    "\n",
    "\n",
    "\n"
   ]
  },
  {
   "cell_type": "markdown",
   "metadata": {},
   "source": [
    "b) Definition [1] contains $A_{ij}^1$. $A_{ij}^2$ is thus:\n",
    "$$\n",
    "A_{ij} \\times A_{ij}\n",
    "$$\n",
    "\n",
    "For $v_i$ adjacent to $v_j$, this will equal to 1 by [1]. For $v_i$ not adjacent to $v_j$, this will equal 0. Raising it to the kth power will yield the same thing. Thus we can generalize [1] as:\n",
    "\n",
    "$$\n",
    "A_{ij}^{k} = \\left\\{\\begin{array}{lr}\n",
    "\t1, & \\text{when $v_{i}$ and $v_{j}$ are adjacent}\\\\\n",
    "\t0, & \\text{otherwise}\\\\\n",
    "\t\\end{array}\\right\\}\n",
    "$$"
   ]
  },
  {
   "cell_type": "markdown",
   "metadata": {},
   "source": [
    "$5$. Write code for the function $RipsGraph(P,d)$ as follows. <br/>\n",
    "Inputs:\n",
    "- a set of points $P$ $\\subset$ $\\mathbb{R}^{2}$ given as a $k \\times 2$ numpy matrix \n",
    "- a diameter $d \\ge 0$ \n",
    "<br/>\n",
    "\n",
    "Output:\n",
    "- networkx graph which is the 1-skeleton of the Rips complex $V R(P, d)$.\n",
    "        \n",
    "        \n",
    "Create a point set of 15 random points in the box $[0, 1]\\times[0; 1]$. Draw this graph as an overlay\n",
    "on the points (even though there will likely be crossings)."
   ]
  },
  {
   "cell_type": "markdown",
   "metadata": {},
   "source": [
    "Much of the foundation of this code is from a blog post by stephenhky found here: <br/>\n",
    "\n",
    "https://datawarrior.wordpress.com/2015/09/14/tda-2-constructing-connectivities/\n",
    "\n",
    "I made some changes in order to fit the specifications of this assignment"
   ]
  },
  {
   "cell_type": "code",
   "execution_count": 2,
   "metadata": {
    "collapsed": true
   },
   "outputs": [],
   "source": [
    "import numpy as np\n",
    "from itertools import combinations\n",
    "from scipy.sparse import dok_matrix\n",
    "from operator import add"
   ]
  },
  {
   "cell_type": "code",
   "execution_count": 19,
   "metadata": {
    "collapsed": true
   },
   "outputs": [],
   "source": [
    "# def faces(simplices):\n",
    "#     faceset = set()\n",
    "#     for simplex in simplices:\n",
    "#         numnodes = len(simplex)\n",
    "#         for r in range(numnodes, 0, -1):\n",
    "#             for face in combinations(simplex, r):\n",
    "#                 faceset.add(face)\n",
    "#     #print(faceset)\n",
    "#     return faceset\n",
    "\n",
    "class SimplicialComplex:\n",
    "    '''Simplicial Complex class that takes a list of simplicies'''\n",
    "    def __init__(self, simplices=[]):\n",
    "        self.import_simplices(simplices=simplices)\n",
    "        #self.faceset = faces(simplices)\n",
    "\n",
    "    def import_simplices(self, simplices=[]):\n",
    "        self.simplices = map(lambda simplex: tuple(sorted(simplex)), simplices)\n",
    "        self.face_set = self.faces()\n",
    "        \n",
    "    def faces(self):\n",
    "        faceset = set()\n",
    "        for simplex in self.simplices:\n",
    "            numnodes = len(simplex)\n",
    "            for r in range(numnodes, 0, -1):\n",
    "                for face in combinations(simplex, r):\n",
    "                    faceset.add(face)\n",
    "        #print(faceset)\n",
    "        return faceset\n",
    "\n",
    "    def n_faces(self, n):\n",
    "        return filter(lambda face: len(face)==n+1, self.face_set)"
   ]
  },
  {
   "cell_type": "code",
   "execution_count": 20,
   "metadata": {
    "collapsed": true
   },
   "outputs": [],
   "source": [
    "import networkx as nx\n",
    "from scipy.spatial import distance\n",
    "from itertools import product\n",
    "\n",
    "\n",
    "class RipsGraph(SimplicialComplex):\n",
    "    '''Main Rips complex class. Takes in points [k x 2 numpy matrix] epsilon (aka diameter) [float]'''\n",
    "    def __init__(self, points, epsilon, labels=None, distfcn=distance.euclidean):\n",
    "        self.pts = points\n",
    "        self.labels = range(len(self.pts)) if labels==None or len(labels)!=len(self.pts) else labels\n",
    "        self.epsilon = epsilon\n",
    "        self.distfcn = distfcn\n",
    "        self.network = self.construct_network(self.pts, self.labels, self.epsilon, self.distfcn)\n",
    "        self.import_simplices(map(tuple, list(nx.find_cliques(self.network))))\n",
    " \n",
    "    def construct_network(self, points, labels, epsilon, distfcn):\n",
    "        g = nx.Graph()\n",
    "        g.add_nodes_from(labels)\n",
    "        zips = zip(points, labels)\n",
    "        for pair in product(zips, zips):\n",
    "            if pair[0][1]!=pair[1][1]:\n",
    "                dist = distfcn(pair[0][0], pair[1][0])\n",
    "            if dist<epsilon:\n",
    "                g.add_edge(pair[0][1], pair[1][1])\n",
    "        return g"
   ]
  },
  {
   "cell_type": "code",
   "execution_count": 23,
   "metadata": {
    "collapsed": false
   },
   "outputs": [],
   "source": [
    "k = 15\n",
    "d = 0.25\n",
    "P = np.random.random((k,2))\n",
    "VR = RipsGraph(P,d)"
   ]
  },
  {
   "cell_type": "code",
   "execution_count": 22,
   "metadata": {
    "collapsed": false
   },
   "outputs": [
    {
     "data": {
      "text/plain": [
       "{(1,),\n",
       " (1, 2),\n",
       " (1, 2, 3),\n",
       " (1, 2, 3, 4),\n",
       " (1, 2, 4),\n",
       " (1, 3),\n",
       " (1, 3, 4),\n",
       " (1, 4),\n",
       " (2,),\n",
       " (2, 3),\n",
       " (2, 3, 4),\n",
       " (2, 4),\n",
       " (3,),\n",
       " (3, 4),\n",
       " (4,)}"
      ]
     },
     "execution_count": 22,
     "metadata": {},
     "output_type": "execute_result"
    }
   ],
   "source": [
    "sc = SimplicialComplex(simplices=[(1,2,3,4)])\n",
    "sc.face_set"
   ]
  },
  {
   "cell_type": "code",
   "execution_count": 24,
   "metadata": {
    "collapsed": false
   },
   "outputs": [
    {
     "ename": "TypeError",
     "evalue": "object of type 'RipsGraph' has no len()",
     "output_type": "error",
     "traceback": [
      "\u001b[0;31m---------------------------------------------------------------------------\u001b[0m",
      "\u001b[0;31mTypeError\u001b[0m                                 Traceback (most recent call last)",
      "\u001b[0;32m<ipython-input-24-d8f1a9f52164>\u001b[0m in \u001b[0;36m<module>\u001b[0;34m()\u001b[0m\n\u001b[0;32m----> 1\u001b[0;31m \u001b[0mnx\u001b[0m\u001b[1;33m.\u001b[0m\u001b[0mdraw\u001b[0m\u001b[1;33m(\u001b[0m\u001b[0mVR\u001b[0m\u001b[1;33m)\u001b[0m\u001b[1;33m\u001b[0m\u001b[0m\n\u001b[0m",
      "\u001b[0;32mC:\\Anaconda3\\lib\\site-packages\\networkx\\drawing\\nx_pylab.py\u001b[0m in \u001b[0;36mdraw\u001b[0;34m(G, pos, ax, hold, **kwds)\u001b[0m\n\u001b[1;32m    130\u001b[0m         \u001b[0mplt\u001b[0m\u001b[1;33m.\u001b[0m\u001b[0mhold\u001b[0m\u001b[1;33m(\u001b[0m\u001b[0mh\u001b[0m\u001b[1;33m)\u001b[0m\u001b[1;33m\u001b[0m\u001b[0m\n\u001b[1;32m    131\u001b[0m     \u001b[1;32mtry\u001b[0m\u001b[1;33m:\u001b[0m\u001b[1;33m\u001b[0m\u001b[0m\n\u001b[0;32m--> 132\u001b[0;31m         \u001b[0mdraw_networkx\u001b[0m\u001b[1;33m(\u001b[0m\u001b[0mG\u001b[0m\u001b[1;33m,\u001b[0m \u001b[0mpos\u001b[0m\u001b[1;33m=\u001b[0m\u001b[0mpos\u001b[0m\u001b[1;33m,\u001b[0m \u001b[0max\u001b[0m\u001b[1;33m=\u001b[0m\u001b[0max\u001b[0m\u001b[1;33m,\u001b[0m \u001b[1;33m**\u001b[0m\u001b[0mkwds\u001b[0m\u001b[1;33m)\u001b[0m\u001b[1;33m\u001b[0m\u001b[0m\n\u001b[0m\u001b[1;32m    133\u001b[0m         \u001b[0max\u001b[0m\u001b[1;33m.\u001b[0m\u001b[0mset_axis_off\u001b[0m\u001b[1;33m(\u001b[0m\u001b[1;33m)\u001b[0m\u001b[1;33m\u001b[0m\u001b[0m\n\u001b[1;32m    134\u001b[0m         \u001b[0mplt\u001b[0m\u001b[1;33m.\u001b[0m\u001b[0mdraw_if_interactive\u001b[0m\u001b[1;33m(\u001b[0m\u001b[1;33m)\u001b[0m\u001b[1;33m\u001b[0m\u001b[0m\n",
      "\u001b[0;32mC:\\Anaconda3\\lib\\site-packages\\networkx\\drawing\\nx_pylab.py\u001b[0m in \u001b[0;36mdraw_networkx\u001b[0;34m(G, pos, arrows, with_labels, **kwds)\u001b[0m\n\u001b[1;32m    271\u001b[0m \u001b[1;33m\u001b[0m\u001b[0m\n\u001b[1;32m    272\u001b[0m     \u001b[1;32mif\u001b[0m \u001b[0mpos\u001b[0m \u001b[1;32mis\u001b[0m \u001b[1;32mNone\u001b[0m\u001b[1;33m:\u001b[0m\u001b[1;33m\u001b[0m\u001b[0m\n\u001b[0;32m--> 273\u001b[0;31m         \u001b[0mpos\u001b[0m \u001b[1;33m=\u001b[0m \u001b[0mnx\u001b[0m\u001b[1;33m.\u001b[0m\u001b[0mdrawing\u001b[0m\u001b[1;33m.\u001b[0m\u001b[0mspring_layout\u001b[0m\u001b[1;33m(\u001b[0m\u001b[0mG\u001b[0m\u001b[1;33m)\u001b[0m  \u001b[1;31m# default to spring layout\u001b[0m\u001b[1;33m\u001b[0m\u001b[0m\n\u001b[0m\u001b[1;32m    274\u001b[0m \u001b[1;33m\u001b[0m\u001b[0m\n\u001b[1;32m    275\u001b[0m     \u001b[0mnode_collection\u001b[0m \u001b[1;33m=\u001b[0m \u001b[0mdraw_networkx_nodes\u001b[0m\u001b[1;33m(\u001b[0m\u001b[0mG\u001b[0m\u001b[1;33m,\u001b[0m \u001b[0mpos\u001b[0m\u001b[1;33m,\u001b[0m \u001b[1;33m**\u001b[0m\u001b[0mkwds\u001b[0m\u001b[1;33m)\u001b[0m\u001b[1;33m\u001b[0m\u001b[0m\n",
      "\u001b[0;32mC:\\Anaconda3\\lib\\site-packages\\networkx\\drawing\\layout.py\u001b[0m in \u001b[0;36mfruchterman_reingold_layout\u001b[0;34m(G, dim, k, pos, fixed, iterations, weight, scale, center)\u001b[0m\n\u001b[1;32m    251\u001b[0m     \u001b[1;32mimport\u001b[0m \u001b[0mnumpy\u001b[0m \u001b[1;32mas\u001b[0m \u001b[0mnp\u001b[0m\u001b[1;33m\u001b[0m\u001b[0m\n\u001b[1;32m    252\u001b[0m \u001b[1;33m\u001b[0m\u001b[0m\n\u001b[0;32m--> 253\u001b[0;31m     \u001b[1;32mif\u001b[0m \u001b[0mlen\u001b[0m\u001b[1;33m(\u001b[0m\u001b[0mG\u001b[0m\u001b[1;33m)\u001b[0m \u001b[1;33m==\u001b[0m \u001b[1;36m0\u001b[0m\u001b[1;33m:\u001b[0m\u001b[1;33m\u001b[0m\u001b[0m\n\u001b[0m\u001b[1;32m    254\u001b[0m         \u001b[1;32mreturn\u001b[0m \u001b[1;33m{\u001b[0m\u001b[1;33m}\u001b[0m\u001b[1;33m\u001b[0m\u001b[0m\n\u001b[1;32m    255\u001b[0m \u001b[1;33m\u001b[0m\u001b[0m\n",
      "\u001b[0;31mTypeError\u001b[0m: object of type 'RipsGraph' has no len()"
     ]
    }
   ],
   "source": [
    "nx.draw(VR)"
   ]
  },
  {
   "cell_type": "code",
   "execution_count": 137,
   "metadata": {
    "collapsed": false
   },
   "outputs": [
    {
     "ename": "TypeError",
     "evalue": "object of type 'RipsGraph' has no len()",
     "output_type": "error",
     "traceback": [
      "\u001b[0;31m---------------------------------------------------------------------------\u001b[0m",
      "\u001b[0;31mTypeError\u001b[0m                                 Traceback (most recent call last)",
      "\u001b[0;32m<ipython-input-137-d8f1a9f52164>\u001b[0m in \u001b[0;36m<module>\u001b[0;34m()\u001b[0m\n\u001b[0;32m----> 1\u001b[0;31m \u001b[0mnx\u001b[0m\u001b[1;33m.\u001b[0m\u001b[0mdraw\u001b[0m\u001b[1;33m(\u001b[0m\u001b[0mVR\u001b[0m\u001b[1;33m)\u001b[0m\u001b[1;33m\u001b[0m\u001b[0m\n\u001b[0m",
      "\u001b[0;32mC:\\Anaconda3\\lib\\site-packages\\networkx\\drawing\\nx_pylab.py\u001b[0m in \u001b[0;36mdraw\u001b[0;34m(G, pos, ax, hold, **kwds)\u001b[0m\n\u001b[1;32m    130\u001b[0m         \u001b[0mplt\u001b[0m\u001b[1;33m.\u001b[0m\u001b[0mhold\u001b[0m\u001b[1;33m(\u001b[0m\u001b[0mh\u001b[0m\u001b[1;33m)\u001b[0m\u001b[1;33m\u001b[0m\u001b[0m\n\u001b[1;32m    131\u001b[0m     \u001b[1;32mtry\u001b[0m\u001b[1;33m:\u001b[0m\u001b[1;33m\u001b[0m\u001b[0m\n\u001b[0;32m--> 132\u001b[0;31m         \u001b[0mdraw_networkx\u001b[0m\u001b[1;33m(\u001b[0m\u001b[0mG\u001b[0m\u001b[1;33m,\u001b[0m \u001b[0mpos\u001b[0m\u001b[1;33m=\u001b[0m\u001b[0mpos\u001b[0m\u001b[1;33m,\u001b[0m \u001b[0max\u001b[0m\u001b[1;33m=\u001b[0m\u001b[0max\u001b[0m\u001b[1;33m,\u001b[0m \u001b[1;33m**\u001b[0m\u001b[0mkwds\u001b[0m\u001b[1;33m)\u001b[0m\u001b[1;33m\u001b[0m\u001b[0m\n\u001b[0m\u001b[1;32m    133\u001b[0m         \u001b[0max\u001b[0m\u001b[1;33m.\u001b[0m\u001b[0mset_axis_off\u001b[0m\u001b[1;33m(\u001b[0m\u001b[1;33m)\u001b[0m\u001b[1;33m\u001b[0m\u001b[0m\n\u001b[1;32m    134\u001b[0m         \u001b[0mplt\u001b[0m\u001b[1;33m.\u001b[0m\u001b[0mdraw_if_interactive\u001b[0m\u001b[1;33m(\u001b[0m\u001b[1;33m)\u001b[0m\u001b[1;33m\u001b[0m\u001b[0m\n",
      "\u001b[0;32mC:\\Anaconda3\\lib\\site-packages\\networkx\\drawing\\nx_pylab.py\u001b[0m in \u001b[0;36mdraw_networkx\u001b[0;34m(G, pos, arrows, with_labels, **kwds)\u001b[0m\n\u001b[1;32m    271\u001b[0m \u001b[1;33m\u001b[0m\u001b[0m\n\u001b[1;32m    272\u001b[0m     \u001b[1;32mif\u001b[0m \u001b[0mpos\u001b[0m \u001b[1;32mis\u001b[0m \u001b[1;32mNone\u001b[0m\u001b[1;33m:\u001b[0m\u001b[1;33m\u001b[0m\u001b[0m\n\u001b[0;32m--> 273\u001b[0;31m         \u001b[0mpos\u001b[0m \u001b[1;33m=\u001b[0m \u001b[0mnx\u001b[0m\u001b[1;33m.\u001b[0m\u001b[0mdrawing\u001b[0m\u001b[1;33m.\u001b[0m\u001b[0mspring_layout\u001b[0m\u001b[1;33m(\u001b[0m\u001b[0mG\u001b[0m\u001b[1;33m)\u001b[0m  \u001b[1;31m# default to spring layout\u001b[0m\u001b[1;33m\u001b[0m\u001b[0m\n\u001b[0m\u001b[1;32m    274\u001b[0m \u001b[1;33m\u001b[0m\u001b[0m\n\u001b[1;32m    275\u001b[0m     \u001b[0mnode_collection\u001b[0m \u001b[1;33m=\u001b[0m \u001b[0mdraw_networkx_nodes\u001b[0m\u001b[1;33m(\u001b[0m\u001b[0mG\u001b[0m\u001b[1;33m,\u001b[0m \u001b[0mpos\u001b[0m\u001b[1;33m,\u001b[0m \u001b[1;33m**\u001b[0m\u001b[0mkwds\u001b[0m\u001b[1;33m)\u001b[0m\u001b[1;33m\u001b[0m\u001b[0m\n",
      "\u001b[0;32mC:\\Anaconda3\\lib\\site-packages\\networkx\\drawing\\layout.py\u001b[0m in \u001b[0;36mfruchterman_reingold_layout\u001b[0;34m(G, dim, k, pos, fixed, iterations, weight, scale, center)\u001b[0m\n\u001b[1;32m    251\u001b[0m     \u001b[1;32mimport\u001b[0m \u001b[0mnumpy\u001b[0m \u001b[1;32mas\u001b[0m \u001b[0mnp\u001b[0m\u001b[1;33m\u001b[0m\u001b[0m\n\u001b[1;32m    252\u001b[0m \u001b[1;33m\u001b[0m\u001b[0m\n\u001b[0;32m--> 253\u001b[0;31m     \u001b[1;32mif\u001b[0m \u001b[0mlen\u001b[0m\u001b[1;33m(\u001b[0m\u001b[0mG\u001b[0m\u001b[1;33m)\u001b[0m \u001b[1;33m==\u001b[0m \u001b[1;36m0\u001b[0m\u001b[1;33m:\u001b[0m\u001b[1;33m\u001b[0m\u001b[0m\n\u001b[0m\u001b[1;32m    254\u001b[0m         \u001b[1;32mreturn\u001b[0m \u001b[1;33m{\u001b[0m\u001b[1;33m}\u001b[0m\u001b[1;33m\u001b[0m\u001b[0m\n\u001b[1;32m    255\u001b[0m \u001b[1;33m\u001b[0m\u001b[0m\n",
      "\u001b[0;31mTypeError\u001b[0m: object of type 'RipsGraph' has no len()"
     ]
    },
    {
     "data": {
      "image/png": "[encoded data removed]",
      "text/plain": [
       "<matplotlib.figure.Figure at 0x1fc67679358>"
      ]
     },
     "metadata": {},
     "output_type": "display_data"
    }
   ],
   "source": []
  },
  {
   "cell_type": "code",
   "execution_count": 88,
   "metadata": {
    "collapsed": false
   },
   "outputs": [],
   "source": [
    "%matplotlib inline\n",
    "import networkx as nx\n",
    "import numpy as np\n",
    "import matplotlib.pyplot as plt\n",
    "\n"
   ]
  },
  {
   "cell_type": "code",
   "execution_count": 95,
   "metadata": {
    "collapsed": false
   },
   "outputs": [],
   "source": [
    "def mag(x,y):\n",
    "    return (x**2+y**2)**0.5\n",
    "def RipsGraph(P,d):\n",
    "    dim = len(P)\n",
    "    g1 = nx.Graph()\n",
    "    for i in range(dim):\n",
    "        xi,yi= P[i]        \n",
    "        g1.add_node(i,pos=(xi,yi))\n",
    "        for j in range(dim):\n",
    "            xj,yj = P[j]\n",
    "            if mag(xi-xj,yi-yj) <= d:\n",
    "                g1.add_edge(i,j)\n",
    "            \n",
    "        \n",
    "    \n",
    "#     for row1 in range(dim):\n",
    "#         xi_1, yj_1 pos=nx.get_node_attributes(G,'pos')= P[i1]\n",
    "#         for row2 in range(dim):\n",
    "#             xi_2, y\n",
    "    return g1 #nx graph 1 skeleton Rips complex"
   ]
  },
  {
   "cell_type": "code",
   "execution_count": 96,
   "metadata": {
    "collapsed": false
   },
   "outputs": [],
   "source": [
    "k = 15\n",
    "d = 0.25\n",
    "P = np.random.random((k,2))\n",
    "VR = RipsGraph(P,d)"
   ]
  },
  {
   "cell_type": "code",
   "execution_count": 97,
   "metadata": {
    "collapsed": false
   },
   "outputs": [
    {
     "data": {
      "image/png": "[encoded data removed]",
      "text/plain": [
       "<matplotlib.figure.Figure at 0x1fc677f4630>"
      ]
     },
     "metadata": {},
     "output_type": "display_data"
    }
   ],
   "source": [
    "pos=nx.get_node_attributes(VR,'pos')\n",
    "#print(VR.nodes())\n",
    "nx.draw(VR,pos)"
   ]
  },
  {
   "cell_type": "code",
   "execution_count": 98,
   "metadata": {
    "collapsed": false
   },
   "outputs": [],
   "source": [
    "d2 = nx.wheel_graph(15)"
   ]
  },
  {
   "cell_type": "code",
   "execution_count": 100,
   "metadata": {
    "collapsed": false
   },
   "outputs": [
    {
     "data": {
      "image/png": "[encoded data removed]",
      "text/plain": [
       "<matplotlib.figure.Figure at 0x1fc6769ef28>"
      ]
     },
     "metadata": {},
     "output_type": "display_data"
    }
   ],
   "source": [
    "nx.draw(wg)"
   ]
  },
  {
   "cell_type": "code",
   "execution_count": 103,
   "metadata": {
    "collapsed": true
   },
   "outputs": [],
   "source": [
    "import numpy as np\n",
    "from itertools import combinations\n",
    "from scipy.sparse import dok_matrix\n",
    "from operator import add\n"
   ]
  },
  {
   "cell_type": "code",
   "execution_count": 104,
   "metadata": {
    "collapsed": true
   },
   "outputs": [],
   "source": [
    "class SimplicialComplex:\n",
    "    def __init__(self, simplices=[]):\n",
    "        self.import_simplices(simplices=simplices)\n",
    "\n",
    "    def import_simplices(self, simplices=[]):\n",
    "        self.simplices = map(lambda simplex: tuple(sorted(simplex)), simplices)\n",
    "        self.face_set = self.faces()"
   ]
  },
  {
   "cell_type": "code",
   "execution_count": 105,
   "metadata": {
    "collapsed": false
   },
   "outputs": [],
   "source": [
    "import networkx as nx\n",
    "from scipy.spatial import distance\n",
    "from itertools import product\n",
    "\n",
    " \n",
    "class VietorisRipsComplex(SimplicialComplex):\n",
    "    def __init__(self, points, epsilon, labels=None, distfcn=distance.euclidean):\n",
    "        self.pts = points\n",
    "        self.labels = range(len(self.pts)) if labels==None or len(labels)!=len(self.pts) else labels\n",
    "        self.epsilon = epsilon\n",
    "        self.distfcn = distfcn\n",
    "        self.network = self.construct_network(self.pts, self.labels, self.epsilon, self.distfcn)\n",
    "        self.import_simplices(map(tuple, list(nx.find_cliques(self.network))))\n",
    " \n",
    "    def construct_network(self, points, labels, epsilon, distfcn):\n",
    "        g = nx.Graph()\n",
    "        g.add_nodes_from(labels)\n",
    "        zips = zip(points, labels)\n",
    "        for pair in product(zips, zips):\n",
    "            if pair[0][1]!=pair[1][1]:\n",
    "                dist = distfcn(pair[0][0], pair[1][0])\n",
    "            if dist<epsilon:\n",
    "                g.add_edge(pair[0][1], pair[1][1])\n",
    "        return g"
   ]
  },
  {
   "cell_type": "code",
   "execution_count": null,
   "metadata": {
    "collapsed": true
   },
   "outputs": [],
   "source": []
  }
 ],
 "metadata": {
  "anaconda-cloud": {},
  "kernelspec": {
   "display_name": "Python [conda root]",
   "language": "python",
   "name": "conda-root-py"
  },
  "language_info": {
   "codemirror_mode": {
    "name": "ipython",
    "version": 3
   },
   "file_extension": ".py",
   "mimetype": "text/x-python",
   "name": "python",
   "nbconvert_exporter": "python",
   "pygments_lexer": "ipython3",
   "version": "3.5.2"
  }
 },
 "nbformat": 4,
 "nbformat_minor": 1
}

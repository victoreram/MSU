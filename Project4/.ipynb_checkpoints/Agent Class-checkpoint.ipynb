{
 "cells": [
  {
   "cell_type": "code",
   "execution_count": null,
   "metadata": {
    "collapsed": true
   },
   "outputs": [],
   "source": [
    "class agent:\n",
    "    import random as r\n",
    "\n",
    "    def __init__(self, money):\n",
    "        self.money = money\n",
    "        \n",
    "    def trade(self, partner):\n",
    "        m_i = self.money\n",
    "        m_j = partner.money\n",
    "        m_i_prime = -1\n",
    "        m_j_prime = -1\n",
    "        \n",
    "        while m_i_prime < 0 or m_j_prime < 0:\n",
    "            epsilon = r.uniform(0,1)\n",
    "            m_i_prime = epsilon*(m_i+m_j)\n",
    "            m_j_prime = (1-epsilon)*(m_i+m_j)\n",
    "\n",
    "        self.money = m_i_prime\n",
    "        partner.money = m_j_prime\n",
    "        #delta_m = m_i_\n",
    "        \n",
    "    def trade_with_savings(self, partner, l):\n",
    "        m_i = self.money\n",
    "        m_j = partner.money\n",
    "        m_i_prime = -1\n",
    "        m_j_prime = -1\n",
    "        \n",
    "        while m_i_prime < 0 or m_j_prime < 0:\n",
    "            epsilon = r.uniform(0,1)\n",
    "            m_i_prime = l*m_i + epsilon*(1-l)*(m_i+m_j)\n",
    "            m_j_prime = l*m_j + (1-epsilon)*(1-l)*(m_i+m_j)\n",
    "\n",
    "        self.money = m_i_prime\n",
    "        partner.money = m_j_prime\n",
    "        #delta_m = m_i_\n",
    "        "
   ]
  }
 ],
 "metadata": {
  "anaconda-cloud": {},
  "kernelspec": {
   "display_name": "Python [conda root]",
   "language": "python",
   "name": "conda-root-py"
  },
  "language_info": {
   "codemirror_mode": {
    "name": "ipython",
    "version": 3
   },
   "file_extension": ".py",
   "mimetype": "text/x-python",
   "name": "python",
   "nbconvert_exporter": "python",
   "pygments_lexer": "ipython3",
   "version": "3.5.2"
  }
 },
 "nbformat": 4,
 "nbformat_minor": 1
}

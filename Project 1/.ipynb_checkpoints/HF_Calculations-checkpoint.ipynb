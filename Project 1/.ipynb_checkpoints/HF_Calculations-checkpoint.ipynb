{
 "cells": [
  {
   "cell_type": "markdown",
   "metadata": {},
   "source": [
    "Note to self: USE DUALBOOT FOR C++\n",
    "\n",
    "First cell: Initialize matrices based on saved files; One line from \"nucleispnumbers.dat\" correspond to state, n, m, m_s, and single particle hamiltonian at indices 0, 1, 2, 4, 5 respectively. \n",
    "\n",
    "Second cell: The Hartree Fock calculations"
   ]
  },
  {
   "cell_type": "code",
   "execution_count": 39,
   "metadata": {
    "collapsed": false
   },
   "outputs": [
    {
     "name": "stdout",
     "output_type": "stream",
     "text": [
      "[[ 1.  0.  0.  0.  0.  0.  0.  0.  0.  0.  0.  0.]\n",
      " [ 0.  1.  0.  0.  0.  0.  0.  0.  0.  0.  0.  0.]\n",
      " [ 0.  0.  1.  0.  0.  0.  0.  0.  0.  0.  0.  0.]\n",
      " [ 0.  0.  0.  1.  0.  0.  0.  0.  0.  0.  0.  0.]\n",
      " [ 0.  0.  0.  0.  1.  0.  0.  0.  0.  0.  0.  0.]\n",
      " [ 0.  0.  0.  0.  0.  1.  0.  0.  0.  0.  0.  0.]\n",
      " [ 0.  0.  0.  0.  0.  0.  0.  0.  0.  0.  0.  0.]\n",
      " [ 0.  0.  0.  0.  0.  0.  0.  0.  0.  0.  0.  0.]\n",
      " [ 0.  0.  0.  0.  0.  0.  0.  0.  0.  0.  0.  0.]\n",
      " [ 0.  0.  0.  0.  0.  0.  0.  0.  0.  0.  0.  0.]\n",
      " [ 0.  0.  0.  0.  0.  0.  0.  0.  0.  0.  0.  0.]\n",
      " [ 0.  0.  0.  0.  0.  0.  0.  0.  0.  0.  0.  0.]]\n"
     ]
    }
   ],
   "source": [
    "import Coulomb\n",
    "import numpy as np\n",
    "import math\n",
    "from decimal import Decimal\n",
    "\n",
    "\n",
    "def single_H(hbar_omega, shell):\n",
    "    return hbar_omega*(shell+1)\n",
    "\n",
    "states = []\n",
    "n = []\n",
    "m = []\n",
    "m_s = []\n",
    "non_zero_combinations = []\n",
    "NParticles=6\n",
    "epsilon = 10**(-4)\n",
    "hw=1\n",
    "\n",
    "singleparticleH = []\n",
    "with open(\"nucleispnumbers.dat\", \"r\") as qnumfile:\n",
    "    for line in qnumfile:\n",
    "        nums = line.split(\",\")\n",
    "        states.append(nums[0])\n",
    "        n.append(int(nums[1]))\n",
    "        m.append(int(nums[2]))\n",
    "        m_s.append(int(nums[4]))\n",
    "        singleparticleH.append(int(nums[5]))\n",
    "\n",
    "spOrbitals = len(states)\n",
    "two_interaction = np.zeros([spOrbitals,spOrbitals])\n",
    "\n",
    "with open(\"nucleitwobody.dat\", \"r\") as twobodyfile:\n",
    "    for line in twobodyfile:\n",
    "        nums = line.split(\",\")\n",
    "        '''Matrix two_interaction has row, column indices for the first and second interacting electron respectively'''\n",
    "        '''Value at those indices is the inner product of the two spin states'''\n",
    "        two_interaction[int(nums[0])][int(nums[1])] = int(nums[2])\n",
    "\n",
    "hbar_omega = 1\n",
    "CMatrix = np.eye(spOrbitals) # HF coefficients\n",
    "DensityMatrix = np.zeros([spOrbitals,spOrbitals])\n",
    "HFMatrix = np.zeros([spOrbitals,spOrbitals])\n",
    "Coulomb.write_coulomb_file(hw,nuclei_file=\"nucleispnumbers.dat\")\n",
    "CoulombMatrix = Coulomb.read_coulomb_file(spOrbitals,coulomb_file=\"coulomb.dat\")\n",
    "for gamma in range(spOrbitals):\n",
    "    for delta in range(spOrbitals):\n",
    "        sum_ = 0.0\n",
    "        for i in range(NParticles):\n",
    "            sum_ += CMatrix[gamma][i]*CMatrix[delta][i]\n",
    "#                 print(\"gamma: {} i: {} delta: {}\".format(gamma,i,delta))\n",
    "        DensityMatrix[gamma][delta] = Decimal(sum_)\n",
    "\n",
    "print(DensityMatrix)"
   ]
  },
  {
   "cell_type": "code",
   "execution_count": null,
   "metadata": {
    "collapsed": false
   },
   "outputs": [],
   "source": []
  },
  {
   "cell_type": "code",
   "execution_count": 40,
   "metadata": {
    "collapsed": false
   },
   "outputs": [
    {
     "name": "stdout",
     "output_type": "stream",
     "text": [
      "SP energies \n",
      " [ 1.  1.  2.  2.  2.  2.  3.  3.  3.  3.  3.  3.]\n",
      "SP energies \n",
      " [ 1.  1.  2.  2.  2.  2.  3.  3.  3.  3.  3.  3.]\n",
      "[[ 1.  0.  0.  0.  0.  0.  0.  0.  0.  0.  0.  0.]\n",
      " [ 0.  1.  0.  0.  0.  0.  0.  0.  0.  0.  0.  0.]\n",
      " [ 0.  0.  1.  0.  0.  0.  0.  0.  0.  0.  0.  0.]\n",
      " [ 0.  0.  0.  1.  0.  0.  0.  0.  0.  0.  0.  0.]\n",
      " [ 0.  0.  0.  0.  1.  0.  0.  0.  0.  0.  0.  0.]\n",
      " [ 0.  0.  0.  0.  0.  1.  0.  0.  0.  0.  0.  0.]\n",
      " [ 0.  0.  0.  0.  0.  0.  0.  0.  0.  0.  0.  0.]\n",
      " [ 0.  0.  0.  0.  0.  0.  0.  0.  0.  0.  0.  0.]\n",
      " [ 0.  0.  0.  0.  0.  0.  0.  0.  0.  0.  0.  0.]\n",
      " [ 0.  0.  0.  0.  0.  0.  0.  0.  0.  0.  0.  0.]\n",
      " [ 0.  0.  0.  0.  0.  0.  0.  0.  0.  0.  0.  0.]\n",
      " [ 0.  0.  0.  0.  0.  0.  0.  0.  0.  0.  0.  0.]]\n"
     ]
    }
   ],
   "source": [
    "hf_count = 0\n",
    "maxHFiter = 10\n",
    "difference = 1\n",
    "epsilon = 10**-3\n",
    "# for i in range(spOrbitals):\n",
    "#     '''Fix this: 1,1,2,2,2,2,etc.'''\n",
    "#     #singleparticleH[i] = Decimal(single_H(hbar_omega,i))\n",
    "#     singleparticleH[i] = 1\n",
    "    \n",
    "with open(\"hf_energies.txt\", \"w\") as hffile:\n",
    "    oldenergies = np.zeros(spOrbitals)\n",
    "    newenergies = np.zeros(spOrbitals)\n",
    "    while hf_count < maxHFiter and difference > epsilon:\n",
    "        HFMatrix = np.zeros([spOrbitals,spOrbitals])\n",
    "        for alpha in range(spOrbitals):\n",
    "            for beta in range(spOrbitals):\n",
    "                \n",
    "                M_s_ab = m_s[alpha] + m_s[beta]\n",
    "                M_ab = m[alpha] + m[beta]\n",
    "                '''Add initial term for E_a_b'''\n",
    "                if beta == alpha:   \n",
    "                    HFMatrix[alpha][beta] += singleparticleH[alpha]\n",
    "                sum_1 = 0.0\n",
    "                for gamma in range(spOrbitals):\n",
    "                    for delta in range(spOrbitals):\n",
    "                        M_s_cd = m_s[gamma] + m_s[delta]\n",
    "                        M_cd = m[gamma] + m[delta]\n",
    "                        C_sum = 0.0\n",
    "                        direct_exchange_term = 0.0\n",
    "\n",
    "                        '''Test for spin and M conservation'''\n",
    "                        if M_s_ab == M_s_cd and M_ab == M_cd:\n",
    "                            direct = two_interaction[alpha][gamma]*two_interaction[beta][delta]*CoulombMatrix[alpha][beta][gamma][delta]\n",
    "                            exchange = two_interaction[alpha][delta]*two_interaction[beta][gamma]*CoulombMatrix[alpha][beta][delta][gamma]\n",
    "\n",
    "                            '''Direct *- Coulomb(alpha,beta,gamma,delta)'''\n",
    "                            direct_exchange_term = (direct - exchange)\n",
    "                            \n",
    "                            #print(gamma,delta,direct_exchange_term)\n",
    "                            #print(gamma,delta,DensityMatrix[gamma][delta])\n",
    "                            sum_1 += DensityMatrix[gamma][delta]*direct_exchange_term       \n",
    "                HFMatrix[alpha][beta] += sum_1                 \n",
    "\n",
    "                #print(sum_1)\n",
    "\n",
    "        spenergies, CMatrix = np.linalg.eigh(HFMatrix)\n",
    "        #print(spenergies)\n",
    "        for gamma in range(spOrbitals):\n",
    "            for delta in range(spOrbitals):\n",
    "                sum_ = 0.0\n",
    "                for i in range(NParticles):\n",
    "                    sum_ += CMatrix[gamma][i]*CMatrix[delta][i]\n",
    "        #                 print(\"gamma: {} i: {} delta: {}\".format(gamma,i,delta))\n",
    "                DensityMatrix[gamma][delta] = Decimal(sum_)\n",
    "#                 '''Summing C terms'''\n",
    "#                 for j in range(NParticles):\n",
    "#                     C_sum += CMatrix[j][gamma]*CMatrix[j][delta]\n",
    "\n",
    "#                 '''Update Density and HF Matrix'''\n",
    "#                 DensityMatrix[gamma][delta] = Decimal(C_sum)\n",
    "    #spenergies, CMatrix = np.linalg.eigh(HFMatrix)\n",
    "        newenergies = spenergies\n",
    "        \"\"\" Brute force computation of difference between previous and new sp HF energies \"\"\"\n",
    "        sum_ =0.0\n",
    "        for i in range(spOrbitals):\n",
    "            sum_ += (abs(newenergies[i]-oldenergies[i]))/spOrbitals\n",
    "        difference = sum_\n",
    "        oldenergies = newenergies\n",
    "\n",
    "        #print(\"difference \", difference)\n",
    "\n",
    "        hf_count += 1\n",
    "        #print(HFMatrix)\n",
    "    #hffile.write(newenergies)\n",
    "#print(\"Final Density Matrix \\n {}\".format(DensityMatrix))\n",
    "        print(\"SP energies \\n {}\".format(spenergies))\n",
    "    print(DensityMatrix)\n"
   ]
  },
  {
   "cell_type": "code",
   "execution_count": null,
   "metadata": {
    "collapsed": true
   },
   "outputs": [],
   "source": []
  }
 ],
 "metadata": {
  "anaconda-cloud": {},
  "kernelspec": {
   "display_name": "Python [default]",
   "language": "python",
   "name": "python3"
  },
  "language_info": {
   "codemirror_mode": {
    "name": "ipython",
    "version": 3
   },
   "file_extension": ".py",
   "mimetype": "text/x-python",
   "name": "python",
   "nbconvert_exporter": "python",
   "pygments_lexer": "ipython3",
   "version": "3.5.2"
  }
 },
 "nbformat": 4,
 "nbformat_minor": 1
}

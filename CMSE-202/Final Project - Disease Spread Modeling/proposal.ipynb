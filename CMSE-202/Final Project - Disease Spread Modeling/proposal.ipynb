{
 "cells": [
  {
   "cell_type": "markdown",
   "metadata": {},
   "source": [
    "# Product Description\n",
    "This will be similar to HW 3. We would start with X infected people, and observe how it spreads. Maybe follow in the path of the presentation given in class. We could make a map and transportation methods.\n",
    "\n",
    "We are going to have people as agents who can be infected with symptoms, infected without symptoms, not infected. Each agent has a house to be in, some sort of transportation, and a place they go everyday. Each person has a X probability of getting infected from each infected person they come into contact with/in a close proximity. \n",
    "\n",
    "We can have different models where\n",
    "people can die\n",
    "the virus has varying infect-ability \n",
    "She how different levels of movement from the agents effects the spread of the virus\n",
    "Let the virus evolve/people gain resistance\n",
    "\n",
    "# Existing Work\n",
    "We have HW3 and the ant model\n",
    "\n",
    "# Questions\n",
    "How fast can the virus spreads(plot infected vs healthy)\n",
    "How different types of transportation effect the spread\n",
    "How infection rates change with different parameters\n",
    "We could attempt to model an actual virus\n",
    "\n",
    "# Distribution\n",
    "Juuso - generating the maps\n",
    "Victor - interaction of virus\n",
    "David - Interactions of people\n",
    "Wu - Visualization/data plotting\n",
    "Note: we will all help each other\n",
    "\n",
    "# Expected Outcomes\n",
    "We expect to see infection rates to increase as more people are infected. The virus is more likely to spread in common areas, such as work. The more mobile and interactive the person is, the higher the infection rate."
   ]
  },
  {
   "cell_type": "code",
   "execution_count": null,
   "metadata": {
    "collapsed": true
   },
   "outputs": [],
   "source": []
  }
 ],
 "metadata": {
  "kernelspec": {
   "display_name": "Python 3",
   "language": "python",
   "name": "python3"
  },
  "language_info": {
   "codemirror_mode": {
    "name": "ipython",
    "version": 3
   },
   "file_extension": ".py",
   "mimetype": "text/x-python",
   "name": "python",
   "nbconvert_exporter": "python",
   "pygments_lexer": "ipython3",
   "version": "3.5.2"
  }
 },
 "nbformat": 4,
 "nbformat_minor": 1
}

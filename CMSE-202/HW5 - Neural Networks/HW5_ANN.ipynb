{
 "cells": [
  {
   "cell_type": "markdown",
   "metadata": {},
   "source": [
    "Victor Ramirez\n",
    "Shuaipeng Zhang\n",
    "David Butts"
   ]
  },
  {
   "cell_type": "markdown",
   "metadata": {},
   "source": [
    "Please read though the entire project before starting!\n",
    "\n",
    "# Homework 5 - Machine Learning with ANNs\n",
    "\n",
    "In this homework we are going to build an Artificial Neural Network to predict some scientific data. This homework is Due at 11:59pm on Friday November 18th.  \n"
   ]
  },
  {
   "cell_type": "markdown",
   "metadata": {},
   "source": [
    "### Project Components and Grading,\n",
    "\n",
    "1. (5 points) Use git to manage your project.\n",
    "1. (5 points) Select a dataset to train and scientific question.\n",
    "1. (10 points) Choose a Neural Network library to use.\n",
    "1. (20 points) Write a function (or class) to download Data.\n",
    "1. (20 points) Write a function (or class) to visualize the Neural Network.\n",
    "1. (20 points) Write a function (or class) to visualize the learning rate of your network.\n",
    "1. (10 points) Train and test the network on your dataset. \n",
    "1. (10 points) Final Presentation of model\n",
    "\n",
    "As in the previous homework, you will be expected to split the work evenly between your teammates.  \n",
    "\n",
    "**Note:** More points will be given based on how well you think out this project and test than actual final results. This is because this homework is hard and I care more about your thinking process and testing over your final results.  "
   ]
  },
  {
   "cell_type": "markdown",
   "metadata": {},
   "source": [
    "----\n",
    "# (5 points) Use git to manage your projects\n",
    "As in the previous homeworks, you will be expected to split the work evenly between your teammates.  \n",
    "\n",
    "    * Create a private repository in github or gitlab and include your instructor as a member.  \n",
    "    * Make sure you include a copy of this notebook in the top directory of your project folder.\n",
    "    * Have every person in the group make commitments. \n",
    "    * This is how you will turn in your final project. \n",
    "    * **Make sure all code/instructions are included to run your project!!!**\n",
    "    "
   ]
  },
  {
   "cell_type": "markdown",
   "metadata": {},
   "source": [
    "**Question 1**: What is the command the instructors should use to download your project?"
   ]
  },
  {
   "cell_type": "markdown",
   "metadata": {},
   "source": [
    "git pull git@gitlab.msu.edu:ramir193/HW5_ANN.git"
   ]
  },
  {
   "cell_type": "markdown",
   "metadata": {},
   "source": [
    "----\n",
    "# (5 points) Select a dataset to train and scientific question.\n",
    "\n",
    "As a group select a dataset and scientific question to ask and answer using Neural Networks.  This question is intended to be open ended and truly demonstrate what you have learned this semester.  However, I also do not want you to make this harder than it should be.\n",
    "\n",
    "I highly suggest looking though the following datasets (ex. the Breast Cancer one looks fairly good):\n",
    "\n",
    "https://archive.ics.uci.edu/ml/datasets.html?format=&task=reg&att=&area=&numAtt=&numIns=&type=&sort=nameUp&view=table\n",
    "\n",
    "Some other datasets that are reasonable include the once that come with scikit learn. \n",
    "\n",
    "http://scikit-learn.org/stable/modules/classes.html#module-sklearn.datasets\n",
    "\n",
    "Don't get too fancy.  My suggestion is that you have a plan with two goals.  The first is something you know you can get working and the second is something you would like to get working.  Some points will be given based on how well you scope your project.  \n",
    "\n",
    "For example, It is reasonable to assume that each person will spend 8 hours a week on activities for class outside of class.  If we set aside time for pre-class homeworks (2 hours a week) and projects (4 hours a week) then that gives us only 2 hours a week to work on this homework.  Since you have approximately 2 weeks to complete this homework and there are three people in each group; you should estimate that it will take you 6 man-hours to complete this homework.  "
   ]
  },
  {
   "cell_type": "markdown",
   "metadata": {},
   "source": [
    "**Question 1**: What dataset(s) did your group choose for this project? Provide links and references."
   ]
  },
  {
   "cell_type": "markdown",
   "metadata": {},
   "source": [
    "We decided to choose a data set to predict the MPG of a car using attributes of the car. Found here https://archive.ics.uci.edu/ml/datasets/Auto+MPG"
   ]
  },
  {
   "cell_type": "markdown",
   "metadata": {},
   "source": [
    "**Question 2**: What \"easy\" scientific question would you like to ask of this data using your Neural Network?\n"
   ]
  },
  {
   "cell_type": "markdown",
   "metadata": {},
   "source": [
    "How does the model year effect the MPG of cars"
   ]
  },
  {
   "cell_type": "markdown",
   "metadata": {},
   "source": [
    "**Question 3**: What more advanced scientific question would you like to ask of this data using your Neural Network? (Ex. Can we build a neural network that accurately predicts cancer classification given the physical measurements (Clump Thickness, Uniformity of Cell Size, Uniformity of Cell Shape, etc). \n"
   ]
  },
  {
   "cell_type": "markdown",
   "metadata": {},
   "source": [
    "How does the number of cylinders, weight, displacement, and horsepower effect MPG?"
   ]
  },
  {
   "cell_type": "markdown",
   "metadata": {},
   "source": [
    "----\n",
    "# (10 points) Choose a Neural Network library to use."
   ]
  },
  {
   "cell_type": "markdown",
   "metadata": {},
   "source": [
    "As a group you will decide which neural network library you want to use.  I will leave this open because I want you to make an informed decision. However, please consider some of the following selection criteria:\n",
    "\n",
    "1. Your own familiarity with the library\n",
    "1. The difficulty/ease for installing the library.\n",
    "1. The availability of examples you can use to test the library.\n",
    "1. The size of the on-line support community for the library. \n",
    "\n",
    "Some examples include: (Neural Networks Demystified, PyBrain, scikit learn, Kera, etc.)"
   ]
  },
  {
   "cell_type": "markdown",
   "metadata": {},
   "source": [
    "**Question 4**: Write a list of at least three NN libraries you considered for this homework. "
   ]
  },
  {
   "cell_type": "markdown",
   "metadata": {},
   "source": [
    "scikit learn\n",
    "\n",
    "PyBrain\n",
    "\n",
    "Neurolab"
   ]
  },
  {
   "cell_type": "markdown",
   "metadata": {},
   "source": [
    "**Question 5**: What selection criteria did you use in picking your NN libraries?"
   ]
  },
  {
   "cell_type": "markdown",
   "metadata": {},
   "source": [
    "We selected our library based on which was easiest to use."
   ]
  },
  {
   "cell_type": "markdown",
   "metadata": {},
   "source": [
    "**Question 6**: Which library did you end up using and why?"
   ]
  },
  {
   "cell_type": "markdown",
   "metadata": {},
   "source": [
    "We decided to use scikit learn because that's the one we actually got to work during class."
   ]
  },
  {
   "cell_type": "markdown",
   "metadata": {},
   "source": [
    "**Question 7**: If appropriate, include all of the code needed to download, install and import your library into jupyterhub.  If you can not use jupyterhub please make a note as to why and include instructions for local installation."
   ]
  },
  {
   "cell_type": "code",
   "execution_count": 194,
   "metadata": {
    "collapsed": false
   },
   "outputs": [],
   "source": [
    "%matplotlib inline\n",
    "import sys\n",
    "import numpy as np\n",
    "import matplotlib.pyplot as plt\n",
    "sys.path.insert(1,'./packages')\n",
    "from sklearn.neural_network import MLPRegressor"
   ]
  },
  {
   "cell_type": "markdown",
   "metadata": {},
   "source": [
    "----\n",
    "# (20 points) Write a function (or class) to download Data.\n",
    "\n",
    "Write a function or class to download your data into a format usable by the Neural Network.  Document this class and write unit tests where appropriate. "
   ]
  },
  {
   "cell_type": "code",
   "execution_count": 195,
   "metadata": {
    "collapsed": false
   },
   "outputs": [
    {
     "name": "stdout",
     "output_type": "stream",
     "text": [
      "['mpg', 'cylinders', 'displacement', 'horsepower', 'weight', 'acceleration', 'model year', 'origin', 'car name']\n",
      "18.0   8   307.0      130.0      3504.      12.0   70  1\t\"chevrolet chevelle malibu\"\n",
      "15.0   8   350.0      165.0      3693.      11.5   70  1\t\"buick skylark 320\"\n",
      "18.0   8   318.0      150.0      3436.      11.0   70  1\t\"plymouth satellite\"\n",
      "16.0   8   304.0      150.0      3433.      12.0   70  1\t\"amc rebel sst\"\n",
      "17.0   8   302.0      140.0      3449.      10.5   70  1\t\"ford torino\"\n",
      "15.0   8   429.0      198.0      4341.      10.0   70  1\t\"ford galaxie 500\"\n",
      "14.0   8   454.0      220.0      4354.       9.0   70  1\t\"chevrolet impala\"\n",
      "14.0   8   440.0      215.0      4312.       8.5   70  1\t\"plymouth fury iii\"\n",
      "14.0   8   455.0      225.0      4425.      10.0   70  1\t\"pontiac catalina\"\n",
      "15.0   8   390.0      190.0      3850.       8.5   70  1\t\"amc ambassador dpl\"\n",
      "15.0   8   383.0      170.0      3563.      10.0   70  1\t\"dodge challenger se\"\n",
      "14.0   8   340.0      160.0      3609.       8.0   70  1\t\"plymouth 'cuda 340\"\n",
      "15.0   8   400.0      150.0      3761.       9.5   70  1\t\"chevrolet monte carlo\"\n",
      "14.0   8   455.0      225.0      3086.      10.0   70  1\t\"buick estate wagon (sw)\"\n",
      "24.0   4   113.0      95.00      2372.      15.0   70  3\t\"toyota corona mark ii\"\n",
      "22.0   6   198.0      95.00      2833.      15.5   70  1\t\"plymouth duster\"\n",
      "18.0   6   199.0      97.00      2774.      15.5   70  1\t\"amc hornet\"\n",
      "21.0   6   200.0      85.00      2587.      16.0   70  1\t\"ford maverick\"\n",
      "27.0   4   97.00      88.00      2130.      14.5   70  3\t\"datsun pl510\"\n",
      "26.0   4   97.00      46.00      1835.      20.5   70  2\t\"volkswagen 1131 deluxe sedan\"\n",
      "25.0   4   110.0      87.00      2672.      17.5   70  2\t\"peugeot 504\"\n",
      "24.0   4   107.0      90.00      2430.      14.5   70  2\t\"audi 100 ls\"\n",
      "25.0   4   104.0      95.00      2375.      17.5   70  2\t\"saab 99e\"\n",
      "26.0   4   121.0      113.0      2234.      12.5   70  2\t\"bmw 2002\"\n",
      "21.0   6   199.0      90.00      2648.      15.0   70  1\t\"amc gremlin\"\n",
      "10.0   8   360.0      215.0      4615.      14.0   70  1\t\"ford f250\"\n",
      "10.0   8   307.0      200.0      4376.      15.0   70  1\t\"chevy c20\"\n",
      "11.0   8   318.0      210.0      4382.      13.5   70  1\t\"dodge d200\"\n",
      "9.0    8   304.0      193.0      4732.      18.5   70  1\t\"hi 1200d\"\n",
      "27.0   4   97.00      88.00      2130.      14.5   71  3\t\"datsun pl510\"\n",
      "28.0   4   140.0      90.00      2264.      15.5   71  1\t\"chevrolet vega 2300\"\n",
      "25.0   4   113.0      95.00      2228.      14.0   71  3\t\"toyota corona\"\n",
      "25.0   4   98.00      ?          2046.      19.0   71  1\t\"ford pinto\"\n",
      "19.0   6   232.0      100.0      2634.      13.0   71  1\t\"amc gremlin\"\n",
      "16.0   6   225.0      105.0      3439.      15.5   71  1\t\"plymouth satellite custom\"\n",
      "17.0   6   250.0      100.0      3329.      15.5   71  1\t\"chevrolet chevelle malibu\"\n",
      "19.0   6   250.0      88.00      3302.      15.5   71  1\t\"ford torino 500\"\n",
      "18.0   6   232.0      100.0      3288.      15.5   71  1\t\"amc matador\"\n",
      "14.0   8   350.0      165.0      4209.      12.0   71  1\t\"chevrolet impala\"\n",
      "14.0   8   400.0      175.0      4464.      11.5   71  1\t\"pontiac catalina brougham\"\n",
      "14.0   8   351.0      153.0      4154.      13.5   71  1\t\"ford galaxie 500\"\n",
      "14.0   8   318.0      150.0      4096.      13.0   71  1\t\"plymouth fury iii\"\n",
      "12.0   8   383.0      180.0      4955.      11.5   71  1\t\"dodge monaco (sw)\"\n",
      "13.0   8   400.0      170.0      4746.      12.0   71  1\t\"ford country squire (sw)\"\n",
      "13.0   8   400.0      175.0      5140.      12.0   71  1\t\"pontiac safari (sw)\"\n",
      "18.0   6   258.0      110.0      2962.      13.5   71  1\t\"amc hornet sportabout (sw)\"\n",
      "22.0   4   140.0      72.00      2408.      19.0   71  1\t\"chevrolet vega (sw)\"\n",
      "19.0   6   250.0      100.0      3282.      15.0   71  1\t\"pontiac firebird\"\n",
      "18.0   6   250.0      88.00      3139.      14.5   71  1\t\"ford mustang\"\n",
      "23.0   4   122.0      86.00      2220.      14.0   71  1\t\"mercury capri 2000\"\n",
      "28.0   4   116.0      90.00      2123.      14.0   71  2\t\"opel 1900\"\n",
      "30.0   4   79.00      70.00      2074.      19.5   71  2\t\"peugeot 304\"\n",
      "30.0   4   88.00      76.00      2065.      14.5   71  2\t\"fiat 124b\"\n",
      "31.0   4   71.00      65.00      1773.      19.0   71  3\t\"toyota corolla 1200\"\n",
      "35.0   4   72.00      69.00      1613.      18.0   71  3\t\"datsun 1200\"\n",
      "27.0   4   97.00      60.00      1834.      19.0   71  2\t\"volkswagen model 111\"\n",
      "26.0   4   91.00      70.00      1955.      20.5   71  1\t\"plymouth cricket\"\n",
      "24.0   4   113.0      95.00      2278.      15.5   72  3\t\"toyota corona hardtop\"\n",
      "25.0   4   97.50      80.00      2126.      17.0   72  1\t\"dodge colt hardtop\"\n",
      "23.0   4   97.00      54.00      2254.      23.5   72  2\t\"volkswagen type 3\"\n",
      "20.0   4   140.0      90.00      2408.      19.5   72  1\t\"chevrolet vega\"\n",
      "21.0   4   122.0      86.00      2226.      16.5   72  1\t\"ford pinto runabout\"\n",
      "13.0   8   350.0      165.0      4274.      12.0   72  1\t\"chevrolet impala\"\n",
      "14.0   8   400.0      175.0      4385.      12.0   72  1\t\"pontiac catalina\"\n",
      "15.0   8   318.0      150.0      4135.      13.5   72  1\t\"plymouth fury iii\"\n",
      "14.0   8   351.0      153.0      4129.      13.0   72  1\t\"ford galaxie 500\"\n",
      "17.0   8   304.0      150.0      3672.      11.5   72  1\t\"amc ambassador sst\"\n",
      "11.0   8   429.0      208.0      4633.      11.0   72  1\t\"mercury marquis\"\n",
      "13.0   8   350.0      155.0      4502.      13.5   72  1\t\"buick lesabre custom\"\n",
      "12.0   8   350.0      160.0      4456.      13.5   72  1\t\"oldsmobile delta 88 royale\"\n",
      "13.0   8   400.0      190.0      4422.      12.5   72  1\t\"chrysler newport royal\"\n",
      "19.0   3   70.00      97.00      2330.      13.5   72  3\t\"mazda rx2 coupe\"\n",
      "15.0   8   304.0      150.0      3892.      12.5   72  1\t\"amc matador (sw)\"\n",
      "13.0   8   307.0      130.0      4098.      14.0   72  1\t\"chevrolet chevelle concours (sw)\"\n",
      "13.0   8   302.0      140.0      4294.      16.0   72  1\t\"ford gran torino (sw)\"\n",
      "14.0   8   318.0      150.0      4077.      14.0   72  1\t\"plymouth satellite custom (sw)\"\n",
      "18.0   4   121.0      112.0      2933.      14.5   72  2\t\"volvo 145e (sw)\"\n",
      "22.0   4   121.0      76.00      2511.      18.0   72  2\t\"volkswagen 411 (sw)\"\n",
      "21.0   4   120.0      87.00      2979.      19.5   72  2\t\"peugeot 504 (sw)\"\n",
      "26.0   4   96.00      69.00      2189.      18.0   72  2\t\"renault 12 (sw)\"\n",
      "22.0   4   122.0      86.00      2395.      16.0   72  1\t\"ford pinto (sw)\"\n",
      "28.0   4   97.00      92.00      2288.      17.0   72  3\t\"datsun 510 (sw)\"\n",
      "23.0   4   120.0      97.00      2506.      14.5   72  3\t\"toyouta corona mark ii (sw)\"\n",
      "28.0   4   98.00      80.00      2164.      15.0   72  1\t\"dodge colt (sw)\"\n",
      "27.0   4   97.00      88.00      2100.      16.5   72  3\t\"toyota corolla 1600 (sw)\"\n",
      "13.0   8   350.0      175.0      4100.      13.0   73  1\t\"buick century 350\"\n",
      "14.0   8   304.0      150.0      3672.      11.5   73  1\t\"amc matador\"\n",
      "13.0   8   350.0      145.0      3988.      13.0   73  1\t\"chevrolet malibu\"\n",
      "14.0   8   302.0      137.0      4042.      14.5   73  1\t\"ford gran torino\"\n",
      "15.0   8   318.0      150.0      3777.      12.5   73  1\t\"dodge coronet custom\"\n",
      "12.0   8   429.0      198.0      4952.      11.5   73  1\t\"mercury marquis brougham\"\n",
      "13.0   8   400.0      150.0      4464.      12.0   73  1\t\"chevrolet caprice classic\"\n",
      "13.0   8   351.0      158.0      4363.      13.0   73  1\t\"ford ltd\"\n",
      "14.0   8   318.0      150.0      4237.      14.5   73  1\t\"plymouth fury gran sedan\"\n",
      "13.0   8   440.0      215.0      4735.      11.0   73  1\t\"chrysler new yorker brougham\"\n",
      "12.0   8   455.0      225.0      4951.      11.0   73  1\t\"buick electra 225 custom\"\n",
      "13.0   8   360.0      175.0      3821.      11.0   73  1\t\"amc ambassador brougham\"\n",
      "18.0   6   225.0      105.0      3121.      16.5   73  1\t\"plymouth valiant\"\n",
      "16.0   6   250.0      100.0      3278.      18.0   73  1\t\"chevrolet nova custom\"\n",
      "18.0   6   232.0      100.0      2945.      16.0   73  1\t\"amc hornet\"\n",
      "18.0   6   250.0      88.00      3021.      16.5   73  1\t\"ford maverick\"\n",
      "23.0   6   198.0      95.00      2904.      16.0   73  1\t\"plymouth duster\"\n",
      "26.0   4   97.00      46.00      1950.      21.0   73  2\t\"volkswagen super beetle\"\n",
      "11.0   8   400.0      150.0      4997.      14.0   73  1\t\"chevrolet impala\"\n",
      "12.0   8   400.0      167.0      4906.      12.5   73  1\t\"ford country\"\n",
      "13.0   8   360.0      170.0      4654.      13.0   73  1\t\"plymouth custom suburb\"\n",
      "12.0   8   350.0      180.0      4499.      12.5   73  1\t\"oldsmobile vista cruiser\"\n",
      "18.0   6   232.0      100.0      2789.      15.0   73  1\t\"amc gremlin\"\n",
      "20.0   4   97.00      88.00      2279.      19.0   73  3\t\"toyota carina\"\n",
      "21.0   4   140.0      72.00      2401.      19.5   73  1\t\"chevrolet vega\"\n",
      "22.0   4   108.0      94.00      2379.      16.5   73  3\t\"datsun 610\"\n",
      "18.0   3   70.00      90.00      2124.      13.5   73  3\t\"maxda rx3\"\n",
      "19.0   4   122.0      85.00      2310.      18.5   73  1\t\"ford pinto\"\n",
      "21.0   6   155.0      107.0      2472.      14.0   73  1\t\"mercury capri v6\"\n",
      "26.0   4   98.00      90.00      2265.      15.5   73  2\t\"fiat 124 sport coupe\"\n",
      "15.0   8   350.0      145.0      4082.      13.0   73  1\t\"chevrolet monte carlo s\"\n",
      "16.0   8   400.0      230.0      4278.      9.50   73  1\t\"pontiac grand prix\"\n",
      "29.0   4   68.00      49.00      1867.      19.5   73  2\t\"fiat 128\"\n",
      "24.0   4   116.0      75.00      2158.      15.5   73  2\t\"opel manta\"\n",
      "20.0   4   114.0      91.00      2582.      14.0   73  2\t\"audi 100ls\"\n",
      "19.0   4   121.0      112.0      2868.      15.5   73  2\t\"volvo 144ea\"\n",
      "15.0   8   318.0      150.0      3399.      11.0   73  1\t\"dodge dart custom\"\n",
      "24.0   4   121.0      110.0      2660.      14.0   73  2\t\"saab 99le\"\n",
      "20.0   6   156.0      122.0      2807.      13.5   73  3\t\"toyota mark ii\"\n",
      "11.0   8   350.0      180.0      3664.      11.0   73  1\t\"oldsmobile omega\"\n",
      "20.0   6   198.0      95.00      3102.      16.5   74  1\t\"plymouth duster\"\n",
      "21.0   6   200.0      ?          2875.      17.0   74  1\t\"ford maverick\"\n",
      "19.0   6   232.0      100.0      2901.      16.0   74  1\t\"amc hornet\"\n",
      "15.0   6   250.0      100.0      3336.      17.0   74  1\t\"chevrolet nova\"\n",
      "31.0   4   79.00      67.00      1950.      19.0   74  3\t\"datsun b210\"\n",
      "26.0   4   122.0      80.00      2451.      16.5   74  1\t\"ford pinto\"\n",
      "32.0   4   71.00      65.00      1836.      21.0   74  3\t\"toyota corolla 1200\"\n",
      "25.0   4   140.0      75.00      2542.      17.0   74  1\t\"chevrolet vega\"\n",
      "16.0   6   250.0      100.0      3781.      17.0   74  1\t\"chevrolet chevelle malibu classic\"\n",
      "16.0   6   258.0      110.0      3632.      18.0   74  1\t\"amc matador\"\n",
      "18.0   6   225.0      105.0      3613.      16.5   74  1\t\"plymouth satellite sebring\"\n",
      "16.0   8   302.0      140.0      4141.      14.0   74  1\t\"ford gran torino\"\n",
      "13.0   8   350.0      150.0      4699.      14.5   74  1\t\"buick century luxus (sw)\"\n",
      "14.0   8   318.0      150.0      4457.      13.5   74  1\t\"dodge coronet custom (sw)\"\n",
      "14.0   8   302.0      140.0      4638.      16.0   74  1\t\"ford gran torino (sw)\"\n",
      "14.0   8   304.0      150.0      4257.      15.5   74  1\t\"amc matador (sw)\"\n",
      "29.0   4   98.00      83.00      2219.      16.5   74  2\t\"audi fox\"\n",
      "26.0   4   79.00      67.00      1963.      15.5   74  2\t\"volkswagen dasher\"\n",
      "26.0   4   97.00      78.00      2300.      14.5   74  2\t\"opel manta\"\n",
      "31.0   4   76.00      52.00      1649.      16.5   74  3\t\"toyota corona\"\n",
      "32.0   4   83.00      61.00      2003.      19.0   74  3\t\"datsun 710\"\n",
      "28.0   4   90.00      75.00      2125.      14.5   74  1\t\"dodge colt\"\n",
      "24.0   4   90.00      75.00      2108.      15.5   74  2\t\"fiat 128\"\n",
      "26.0   4   116.0      75.00      2246.      14.0   74  2\t\"fiat 124 tc\"\n",
      "24.0   4   120.0      97.00      2489.      15.0   74  3\t\"honda civic\"\n",
      "26.0   4   108.0      93.00      2391.      15.5   74  3\t\"subaru\"\n",
      "31.0   4   79.00      67.00      2000.      16.0   74  2\t\"fiat x1.9\"\n",
      "19.0   6   225.0      95.00      3264.      16.0   75  1\t\"plymouth valiant custom\"\n",
      "18.0   6   250.0      105.0      3459.      16.0   75  1\t\"chevrolet nova\"\n",
      "15.0   6   250.0      72.00      3432.      21.0   75  1\t\"mercury monarch\"\n",
      "15.0   6   250.0      72.00      3158.      19.5   75  1\t\"ford maverick\"\n",
      "16.0   8   400.0      170.0      4668.      11.5   75  1\t\"pontiac catalina\"\n",
      "15.0   8   350.0      145.0      4440.      14.0   75  1\t\"chevrolet bel air\"\n",
      "16.0   8   318.0      150.0      4498.      14.5   75  1\t\"plymouth grand fury\"\n",
      "14.0   8   351.0      148.0      4657.      13.5   75  1\t\"ford ltd\"\n",
      "17.0   6   231.0      110.0      3907.      21.0   75  1\t\"buick century\"\n",
      "16.0   6   250.0      105.0      3897.      18.5   75  1\t\"chevroelt chevelle malibu\"\n",
      "15.0   6   258.0      110.0      3730.      19.0   75  1\t\"amc matador\"\n",
      "18.0   6   225.0      95.00      3785.      19.0   75  1\t\"plymouth fury\"\n",
      "21.0   6   231.0      110.0      3039.      15.0   75  1\t\"buick skyhawk\"\n",
      "20.0   8   262.0      110.0      3221.      13.5   75  1\t\"chevrolet monza 2+2\"\n",
      "13.0   8   302.0      129.0      3169.      12.0   75  1\t\"ford mustang ii\"\n",
      "29.0   4   97.00      75.00      2171.      16.0   75  3\t\"toyota corolla\"\n",
      "23.0   4   140.0      83.00      2639.      17.0   75  1\t\"ford pinto\"\n",
      "20.0   6   232.0      100.0      2914.      16.0   75  1\t\"amc gremlin\"\n",
      "23.0   4   140.0      78.00      2592.      18.5   75  1\t\"pontiac astro\"\n",
      "24.0   4   134.0      96.00      2702.      13.5   75  3\t\"toyota corona\"\n",
      "25.0   4   90.00      71.00      2223.      16.5   75  2\t\"volkswagen dasher\"\n",
      "24.0   4   119.0      97.00      2545.      17.0   75  3\t\"datsun 710\"\n",
      "18.0   6   171.0      97.00      2984.      14.5   75  1\t\"ford pinto\"\n",
      "29.0   4   90.00      70.00      1937.      14.0   75  2\t\"volkswagen rabbit\"\n",
      "19.0   6   232.0      90.00      3211.      17.0   75  1\t\"amc pacer\"\n",
      "23.0   4   115.0      95.00      2694.      15.0   75  2\t\"audi 100ls\"\n",
      "23.0   4   120.0      88.00      2957.      17.0   75  2\t\"peugeot 504\"\n",
      "22.0   4   121.0      98.00      2945.      14.5   75  2\t\"volvo 244dl\"\n",
      "25.0   4   121.0      115.0      2671.      13.5   75  2\t\"saab 99le\"\n",
      "33.0   4   91.00      53.00      1795.      17.5   75  3\t\"honda civic cvcc\"\n",
      "28.0   4   107.0      86.00      2464.      15.5   76  2\t\"fiat 131\"\n",
      "25.0   4   116.0      81.00      2220.      16.9   76  2\t\"opel 1900\"\n",
      "25.0   4   140.0      92.00      2572.      14.9   76  1\t\"capri ii\"\n",
      "26.0   4   98.00      79.00      2255.      17.7   76  1\t\"dodge colt\"\n",
      "27.0   4   101.0      83.00      2202.      15.3   76  2\t\"renault 12tl\"\n",
      "17.5   8   305.0      140.0      4215.      13.0   76  1\t\"chevrolet chevelle malibu classic\"\n",
      "16.0   8   318.0      150.0      4190.      13.0   76  1\t\"dodge coronet brougham\"\n",
      "15.5   8   304.0      120.0      3962.      13.9   76  1\t\"amc matador\"\n",
      "14.5   8   351.0      152.0      4215.      12.8   76  1\t\"ford gran torino\"\n",
      "22.0   6   225.0      100.0      3233.      15.4   76  1\t\"plymouth valiant\"\n",
      "22.0   6   250.0      105.0      3353.      14.5   76  1\t\"chevrolet nova\"\n",
      "24.0   6   200.0      81.00      3012.      17.6   76  1\t\"ford maverick\"\n",
      "22.5   6   232.0      90.00      3085.      17.6   76  1\t\"amc hornet\"\n",
      "29.0   4   85.00      52.00      2035.      22.2   76  1\t\"chevrolet chevette\"\n",
      "24.5   4   98.00      60.00      2164.      22.1   76  1\t\"chevrolet woody\"\n",
      "29.0   4   90.00      70.00      1937.      14.2   76  2\t\"vw rabbit\"\n",
      "33.0   4   91.00      53.00      1795.      17.4   76  3\t\"honda civic\"\n",
      "20.0   6   225.0      100.0      3651.      17.7   76  1\t\"dodge aspen se\"\n",
      "18.0   6   250.0      78.00      3574.      21.0   76  1\t\"ford granada ghia\"\n",
      "18.5   6   250.0      110.0      3645.      16.2   76  1\t\"pontiac ventura sj\"\n",
      "17.5   6   258.0      95.00      3193.      17.8   76  1\t\"amc pacer d/l\"\n",
      "29.5   4   97.00      71.00      1825.      12.2   76  2\t\"volkswagen rabbit\"\n",
      "32.0   4   85.00      70.00      1990.      17.0   76  3\t\"datsun b-210\"\n",
      "28.0   4   97.00      75.00      2155.      16.4   76  3\t\"toyota corolla\"\n",
      "26.5   4   140.0      72.00      2565.      13.6   76  1\t\"ford pinto\"\n",
      "20.0   4   130.0      102.0      3150.      15.7   76  2\t\"volvo 245\"\n",
      "13.0   8   318.0      150.0      3940.      13.2   76  1\t\"plymouth volare premier v8\"\n",
      "19.0   4   120.0      88.00      3270.      21.9   76  2\t\"peugeot 504\"\n",
      "19.0   6   156.0      108.0      2930.      15.5   76  3\t\"toyota mark ii\"\n",
      "16.5   6   168.0      120.0      3820.      16.7   76  2\t\"mercedes-benz 280s\"\n",
      "16.5   8   350.0      180.0      4380.      12.1   76  1\t\"cadillac seville\"\n",
      "13.0   8   350.0      145.0      4055.      12.0   76  1\t\"chevy c10\"\n",
      "13.0   8   302.0      130.0      3870.      15.0   76  1\t\"ford f108\"\n",
      "13.0   8   318.0      150.0      3755.      14.0   76  1\t\"dodge d100\"\n",
      "31.5   4   98.00      68.00      2045.      18.5   77  3\t\"honda accord cvcc\"\n",
      "30.0   4   111.0      80.00      2155.      14.8   77  1\t\"buick opel isuzu deluxe\"\n",
      "36.0   4   79.00      58.00      1825.      18.6   77  2\t\"renault 5 gtl\"\n",
      "25.5   4   122.0      96.00      2300.      15.5   77  1\t\"plymouth arrow gs\"\n",
      "33.5   4   85.00      70.00      1945.      16.8   77  3\t\"datsun f-10 hatchback\"\n",
      "17.5   8   305.0      145.0      3880.      12.5   77  1\t\"chevrolet caprice classic\"\n",
      "17.0   8   260.0      110.0      4060.      19.0   77  1\t\"oldsmobile cutlass supreme\"\n",
      "15.5   8   318.0      145.0      4140.      13.7   77  1\t\"dodge monaco brougham\"\n",
      "15.0   8   302.0      130.0      4295.      14.9   77  1\t\"mercury cougar brougham\"\n",
      "17.5   6   250.0      110.0      3520.      16.4   77  1\t\"chevrolet concours\"\n",
      "20.5   6   231.0      105.0      3425.      16.9   77  1\t\"buick skylark\"\n",
      "19.0   6   225.0      100.0      3630.      17.7   77  1\t\"plymouth volare custom\"\n",
      "18.5   6   250.0      98.00      3525.      19.0   77  1\t\"ford granada\"\n",
      "16.0   8   400.0      180.0      4220.      11.1   77  1\t\"pontiac grand prix lj\"\n",
      "15.5   8   350.0      170.0      4165.      11.4   77  1\t\"chevrolet monte carlo landau\"\n",
      "15.5   8   400.0      190.0      4325.      12.2   77  1\t\"chrysler cordoba\"\n",
      "16.0   8   351.0      149.0      4335.      14.5   77  1\t\"ford thunderbird\"\n",
      "29.0   4   97.00      78.00      1940.      14.5   77  2\t\"volkswagen rabbit custom\"\n",
      "24.5   4   151.0      88.00      2740.      16.0   77  1\t\"pontiac sunbird coupe\"\n",
      "26.0   4   97.00      75.00      2265.      18.2   77  3\t\"toyota corolla liftback\"\n",
      "25.5   4   140.0      89.00      2755.      15.8   77  1\t\"ford mustang ii 2+2\"\n",
      "30.5   4   98.00      63.00      2051.      17.0   77  1\t\"chevrolet chevette\"\n",
      "33.5   4   98.00      83.00      2075.      15.9   77  1\t\"dodge colt m/m\"\n",
      "30.0   4   97.00      67.00      1985.      16.4   77  3\t\"subaru dl\"\n",
      "30.5   4   97.00      78.00      2190.      14.1   77  2\t\"volkswagen dasher\"\n",
      "22.0   6   146.0      97.00      2815.      14.5   77  3\t\"datsun 810\"\n",
      "21.5   4   121.0      110.0      2600.      12.8   77  2\t\"bmw 320i\"\n",
      "21.5   3   80.00      110.0      2720.      13.5   77  3\t\"mazda rx-4\"\n",
      "43.1   4   90.00      48.00      1985.      21.5   78  2\t\"volkswagen rabbit custom diesel\"\n",
      "36.1   4   98.00      66.00      1800.      14.4   78  1\t\"ford fiesta\"\n",
      "32.8   4   78.00      52.00      1985.      19.4   78  3\t\"mazda glc deluxe\"\n",
      "39.4   4   85.00      70.00      2070.      18.6   78  3\t\"datsun b210 gx\"\n",
      "36.1   4   91.00      60.00      1800.      16.4   78  3\t\"honda civic cvcc\"\n",
      "19.9   8   260.0      110.0      3365.      15.5   78  1\t\"oldsmobile cutlass salon brougham\"\n",
      "19.4   8   318.0      140.0      3735.      13.2   78  1\t\"dodge diplomat\"\n",
      "20.2   8   302.0      139.0      3570.      12.8   78  1\t\"mercury monarch ghia\"\n",
      "19.2   6   231.0      105.0      3535.      19.2   78  1\t\"pontiac phoenix lj\"\n",
      "20.5   6   200.0      95.00      3155.      18.2   78  1\t\"chevrolet malibu\"\n",
      "20.2   6   200.0      85.00      2965.      15.8   78  1\t\"ford fairmont (auto)\"\n",
      "25.1   4   140.0      88.00      2720.      15.4   78  1\t\"ford fairmont (man)\"\n",
      "20.5   6   225.0      100.0      3430.      17.2   78  1\t\"plymouth volare\"\n",
      "19.4   6   232.0      90.00      3210.      17.2   78  1\t\"amc concord\"\n",
      "20.6   6   231.0      105.0      3380.      15.8   78  1\t\"buick century special\"\n",
      "20.8   6   200.0      85.00      3070.      16.7   78  1\t\"mercury zephyr\"\n",
      "18.6   6   225.0      110.0      3620.      18.7   78  1\t\"dodge aspen\"\n",
      "18.1   6   258.0      120.0      3410.      15.1   78  1\t\"amc concord d/l\"\n",
      "19.2   8   305.0      145.0      3425.      13.2   78  1\t\"chevrolet monte carlo landau\"\n",
      "17.7   6   231.0      165.0      3445.      13.4   78  1\t\"buick regal sport coupe (turbo)\"\n",
      "18.1   8   302.0      139.0      3205.      11.2   78  1\t\"ford futura\"\n",
      "17.5   8   318.0      140.0      4080.      13.7   78  1\t\"dodge magnum xe\"\n",
      "30.0   4   98.00      68.00      2155.      16.5   78  1\t\"chevrolet chevette\"\n",
      "27.5   4   134.0      95.00      2560.      14.2   78  3\t\"toyota corona\"\n",
      "27.2   4   119.0      97.00      2300.      14.7   78  3\t\"datsun 510\"\n",
      "30.9   4   105.0      75.00      2230.      14.5   78  1\t\"dodge omni\"\n",
      "21.1   4   134.0      95.00      2515.      14.8   78  3\t\"toyota celica gt liftback\"\n",
      "23.2   4   156.0      105.0      2745.      16.7   78  1\t\"plymouth sapporo\"\n",
      "23.8   4   151.0      85.00      2855.      17.6   78  1\t\"oldsmobile starfire sx\"\n",
      "23.9   4   119.0      97.00      2405.      14.9   78  3\t\"datsun 200-sx\"\n",
      "20.3   5   131.0      103.0      2830.      15.9   78  2\t\"audi 5000\"\n",
      "17.0   6   163.0      125.0      3140.      13.6   78  2\t\"volvo 264gl\"\n",
      "21.6   4   121.0      115.0      2795.      15.7   78  2\t\"saab 99gle\"\n",
      "16.2   6   163.0      133.0      3410.      15.8   78  2\t\"peugeot 604sl\"\n",
      "31.5   4   89.00      71.00      1990.      14.9   78  2\t\"volkswagen scirocco\"\n",
      "29.5   4   98.00      68.00      2135.      16.6   78  3\t\"honda accord lx\"\n",
      "21.5   6   231.0      115.0      3245.      15.4   79  1\t\"pontiac lemans v6\"\n",
      "19.8   6   200.0      85.00      2990.      18.2   79  1\t\"mercury zephyr 6\"\n",
      "22.3   4   140.0      88.00      2890.      17.3   79  1\t\"ford fairmont 4\"\n",
      "20.2   6   232.0      90.00      3265.      18.2   79  1\t\"amc concord dl 6\"\n",
      "20.6   6   225.0      110.0      3360.      16.6   79  1\t\"dodge aspen 6\"\n",
      "17.0   8   305.0      130.0      3840.      15.4   79  1\t\"chevrolet caprice classic\"\n",
      "17.6   8   302.0      129.0      3725.      13.4   79  1\t\"ford ltd landau\"\n",
      "16.5   8   351.0      138.0      3955.      13.2   79  1\t\"mercury grand marquis\"\n",
      "18.2   8   318.0      135.0      3830.      15.2   79  1\t\"dodge st. regis\"\n",
      "16.9   8   350.0      155.0      4360.      14.9   79  1\t\"buick estate wagon (sw)\"\n",
      "15.5   8   351.0      142.0      4054.      14.3   79  1\t\"ford country squire (sw)\"\n",
      "19.2   8   267.0      125.0      3605.      15.0   79  1\t\"chevrolet malibu classic (sw)\"\n",
      "18.5   8   360.0      150.0      3940.      13.0   79  1\t\"chrysler lebaron town @ country (sw)\"\n",
      "31.9   4   89.00      71.00      1925.      14.0   79  2\t\"vw rabbit custom\"\n",
      "34.1   4   86.00      65.00      1975.      15.2   79  3\t\"maxda glc deluxe\"\n",
      "35.7   4   98.00      80.00      1915.      14.4   79  1\t\"dodge colt hatchback custom\"\n",
      "27.4   4   121.0      80.00      2670.      15.0   79  1\t\"amc spirit dl\"\n",
      "25.4   5   183.0      77.00      3530.      20.1   79  2\t\"mercedes benz 300d\"\n",
      "23.0   8   350.0      125.0      3900.      17.4   79  1\t\"cadillac eldorado\"\n",
      "27.2   4   141.0      71.00      3190.      24.8   79  2\t\"peugeot 504\"\n",
      "23.9   8   260.0      90.00      3420.      22.2   79  1\t\"oldsmobile cutlass salon brougham\"\n",
      "34.2   4   105.0      70.00      2200.      13.2   79  1\t\"plymouth horizon\"\n",
      "34.5   4   105.0      70.00      2150.      14.9   79  1\t\"plymouth horizon tc3\"\n",
      "31.8   4   85.00      65.00      2020.      19.2   79  3\t\"datsun 210\"\n",
      "37.3   4   91.00      69.00      2130.      14.7   79  2\t\"fiat strada custom\"\n",
      "28.4   4   151.0      90.00      2670.      16.0   79  1\t\"buick skylark limited\"\n",
      "28.8   6   173.0      115.0      2595.      11.3   79  1\t\"chevrolet citation\"\n",
      "26.8   6   173.0      115.0      2700.      12.9   79  1\t\"oldsmobile omega brougham\"\n",
      "33.5   4   151.0      90.00      2556.      13.2   79  1\t\"pontiac phoenix\"\n",
      "41.5   4   98.00      76.00      2144.      14.7   80  2\t\"vw rabbit\"\n",
      "38.1   4   89.00      60.00      1968.      18.8   80  3\t\"toyota corolla tercel\"\n",
      "32.1   4   98.00      70.00      2120.      15.5   80  1\t\"chevrolet chevette\"\n",
      "37.2   4   86.00      65.00      2019.      16.4   80  3\t\"datsun 310\"\n",
      "28.0   4   151.0      90.00      2678.      16.5   80  1\t\"chevrolet citation\"\n",
      "26.4   4   140.0      88.00      2870.      18.1   80  1\t\"ford fairmont\"\n",
      "24.3   4   151.0      90.00      3003.      20.1   80  1\t\"amc concord\"\n",
      "19.1   6   225.0      90.00      3381.      18.7   80  1\t\"dodge aspen\"\n",
      "34.3   4   97.00      78.00      2188.      15.8   80  2\t\"audi 4000\"\n",
      "29.8   4   134.0      90.00      2711.      15.5   80  3\t\"toyota corona liftback\"\n",
      "31.3   4   120.0      75.00      2542.      17.5   80  3\t\"mazda 626\"\n",
      "37.0   4   119.0      92.00      2434.      15.0   80  3\t\"datsun 510 hatchback\"\n",
      "32.2   4   108.0      75.00      2265.      15.2   80  3\t\"toyota corolla\"\n",
      "46.6   4   86.00      65.00      2110.      17.9   80  3\t\"mazda glc\"\n",
      "27.9   4   156.0      105.0      2800.      14.4   80  1\t\"dodge colt\"\n",
      "40.8   4   85.00      65.00      2110.      19.2   80  3\t\"datsun 210\"\n",
      "44.3   4   90.00      48.00      2085.      21.7   80  2\t\"vw rabbit c (diesel)\"\n",
      "43.4   4   90.00      48.00      2335.      23.7   80  2\t\"vw dasher (diesel)\"\n",
      "36.4   5   121.0      67.00      2950.      19.9   80  2\t\"audi 5000s (diesel)\"\n",
      "30.0   4   146.0      67.00      3250.      21.8   80  2\t\"mercedes-benz 240d\"\n",
      "44.6   4   91.00      67.00      1850.      13.8   80  3\t\"honda civic 1500 gl\"\n",
      "40.9   4   85.00      ?          1835.      17.3   80  2\t\"renault lecar deluxe\"\n",
      "33.8   4   97.00      67.00      2145.      18.0   80  3\t\"subaru dl\"\n",
      "29.8   4   89.00      62.00      1845.      15.3   80  2\t\"vokswagen rabbit\"\n",
      "32.7   6   168.0      132.0      2910.      11.4   80  3\t\"datsun 280-zx\"\n",
      "23.7   3   70.00      100.0      2420.      12.5   80  3\t\"mazda rx-7 gs\"\n",
      "35.0   4   122.0      88.00      2500.      15.1   80  2\t\"triumph tr7 coupe\"\n",
      "23.6   4   140.0      ?          2905.      14.3   80  1\t\"ford mustang cobra\"\n",
      "32.4   4   107.0      72.00      2290.      17.0   80  3\t\"honda accord\"\n",
      "27.2   4   135.0      84.00      2490.      15.7   81  1\t\"plymouth reliant\"\n",
      "26.6   4   151.0      84.00      2635.      16.4   81  1\t\"buick skylark\"\n",
      "25.8   4   156.0      92.00      2620.      14.4   81  1\t\"dodge aries wagon (sw)\"\n",
      "23.5   6   173.0      110.0      2725.      12.6   81  1\t\"chevrolet citation\"\n",
      "30.0   4   135.0      84.00      2385.      12.9   81  1\t\"plymouth reliant\"\n",
      "39.1   4   79.00      58.00      1755.      16.9   81  3\t\"toyota starlet\"\n",
      "39.0   4   86.00      64.00      1875.      16.4   81  1\t\"plymouth champ\"\n",
      "35.1   4   81.00      60.00      1760.      16.1   81  3\t\"honda civic 1300\"\n",
      "32.3   4   97.00      67.00      2065.      17.8   81  3\t\"subaru\"\n",
      "37.0   4   85.00      65.00      1975.      19.4   81  3\t\"datsun 210 mpg\"\n",
      "37.7   4   89.00      62.00      2050.      17.3   81  3\t\"toyota tercel\"\n",
      "34.1   4   91.00      68.00      1985.      16.0   81  3\t\"mazda glc 4\"\n",
      "34.7   4   105.0      63.00      2215.      14.9   81  1\t\"plymouth horizon 4\"\n",
      "34.4   4   98.00      65.00      2045.      16.2   81  1\t\"ford escort 4w\"\n",
      "29.9   4   98.00      65.00      2380.      20.7   81  1\t\"ford escort 2h\"\n",
      "33.0   4   105.0      74.00      2190.      14.2   81  2\t\"volkswagen jetta\"\n",
      "34.5   4   100.0      ?          2320.      15.8   81  2\t\"renault 18i\"\n",
      "33.7   4   107.0      75.00      2210.      14.4   81  3\t\"honda prelude\"\n",
      "32.4   4   108.0      75.00      2350.      16.8   81  3\t\"toyota corolla\"\n",
      "32.9   4   119.0      100.0      2615.      14.8   81  3\t\"datsun 200sx\"\n",
      "31.6   4   120.0      74.00      2635.      18.3   81  3\t\"mazda 626\"\n",
      "28.1   4   141.0      80.00      3230.      20.4   81  2\t\"peugeot 505s turbo diesel\"\n",
      "30.7   6   145.0      76.00      3160.      19.6   81  2\t\"volvo diesel\"\n",
      "25.4   6   168.0      116.0      2900.      12.6   81  3\t\"toyota cressida\"\n",
      "24.2   6   146.0      120.0      2930.      13.8   81  3\t\"datsun 810 maxima\"\n",
      "22.4   6   231.0      110.0      3415.      15.8   81  1\t\"buick century\"\n",
      "26.6   8   350.0      105.0      3725.      19.0   81  1\t\"oldsmobile cutlass ls\"\n",
      "20.2   6   200.0      88.00      3060.      17.1   81  1\t\"ford granada gl\"\n",
      "17.6   6   225.0      85.00      3465.      16.6   81  1\t\"chrysler lebaron salon\"\n",
      "28.0   4   112.0      88.00      2605.      19.6   82  1\t\"chevrolet cavalier\"\n",
      "27.0   4   112.0      88.00      2640.      18.6   82  1\t\"chevrolet cavalier wagon\"\n",
      "34.0   4   112.0      88.00      2395.      18.0   82  1\t\"chevrolet cavalier 2-door\"\n",
      "31.0   4   112.0      85.00      2575.      16.2   82  1\t\"pontiac j2000 se hatchback\"\n",
      "29.0   4   135.0      84.00      2525.      16.0   82  1\t\"dodge aries se\"\n",
      "27.0   4   151.0      90.00      2735.      18.0   82  1\t\"pontiac phoenix\"\n",
      "24.0   4   140.0      92.00      2865.      16.4   82  1\t\"ford fairmont futura\"\n",
      "23.0   4   151.0      ?          3035.      20.5   82  1\t\"amc concord dl\"\n",
      "36.0   4   105.0      74.00      1980.      15.3   82  2\t\"volkswagen rabbit l\"\n",
      "37.0   4   91.00      68.00      2025.      18.2   82  3\t\"mazda glc custom l\"\n",
      "31.0   4   91.00      68.00      1970.      17.6   82  3\t\"mazda glc custom\"\n",
      "38.0   4   105.0      63.00      2125.      14.7   82  1\t\"plymouth horizon miser\"\n",
      "36.0   4   98.00      70.00      2125.      17.3   82  1\t\"mercury lynx l\"\n",
      "36.0   4   120.0      88.00      2160.      14.5   82  3\t\"nissan stanza xe\"\n",
      "36.0   4   107.0      75.00      2205.      14.5   82  3\t\"honda accord\"\n",
      "34.0   4   108.0      70.00      2245       16.9   82  3\t\"toyota corolla\"\n",
      "38.0   4   91.00      67.00      1965.      15.0   82  3\t\"honda civic\"\n",
      "32.0   4   91.00      67.00      1965.      15.7   82  3\t\"honda civic (auto)\"\n",
      "38.0   4   91.00      67.00      1995.      16.2   82  3\t\"datsun 310 gx\"\n",
      "25.0   6   181.0      110.0      2945.      16.4   82  1\t\"buick century limited\"\n",
      "38.0   6   262.0      85.00      3015.      17.0   82  1\t\"oldsmobile cutlass ciera (diesel)\"\n",
      "26.0   4   156.0      92.00      2585.      14.5   82  1\t\"chrysler lebaron medallion\"\n",
      "22.0   6   232.0      112.0      2835       14.7   82  1\t\"ford granada l\"\n",
      "32.0   4   144.0      96.00      2665.      13.9   82  3\t\"toyota celica gt\"\n",
      "36.0   4   135.0      84.00      2370.      13.0   82  1\t\"dodge charger 2.2\"\n",
      "27.0   4   151.0      90.00      2950.      17.3   82  1\t\"chevrolet camaro\"\n",
      "27.0   4   140.0      86.00      2790.      15.6   82  1\t\"ford mustang gl\"\n",
      "44.0   4   97.00      52.00      2130.      24.6   82  2\t\"vw pickup\"\n",
      "32.0   4   135.0      84.00      2295.      11.6   82  1\t\"dodge rampage\"\n",
      "28.0   4   120.0      79.00      2625.      18.6   82  1\t\"ford ranger\"\n",
      "31.0   4   119.0      82.00      2720.      19.4   82  1\t\"chevy s-10\"\n",
      "\n"
     ]
    }
   ],
   "source": [
    "## Put code here to download and unit test your data.\n",
    "import requests\n",
    "labels = ['mpg','cylinders','displacement','horsepower','weight','acceleration','model year','origin','car name']\n",
    "r = requests.get('https://archive.ics.uci.edu/ml/machine-learning-databases/auto-mpg/auto-mpg.data')\n",
    "print(labels)\n",
    "print(r.text)"
   ]
  },
  {
   "cell_type": "code",
   "execution_count": 196,
   "metadata": {
    "collapsed": false
   },
   "outputs": [],
   "source": [
    "#This code will get the data in a form of lists for later use\n",
    "data = r.text.splitlines()\n",
    "mpg_list = []\n",
    "cylinders_list = []\n",
    "displacement_list = []\n",
    "horsepower_list = []\n",
    "weight_list = []\n",
    "acceleration_list = []\n",
    "\n",
    "X_list = []\n",
    "y_list = []\n",
    "\n",
    "\n",
    "for i in range(len(data)):\n",
    "    ob_str = data[i]\n",
    "    ob_peice = ob_str.split()\n",
    "    mpg = float(ob_peice[0])\n",
    "    cylinders = float(ob_peice[1])\n",
    "    displacement = ob_peice[2]\n",
    "    horsepower = ob_peice[3]\n",
    "    weight = float(ob_peice[4])\n",
    "    acceleration = ob_peice[5]\n",
    "    model_year = float(ob_peice[6])\n",
    "    mpg_list.append(mpg)\n",
    "    cylinders_list.append(cylinders)\n",
    "    displacement_list.append(displacement)\n",
    "    horsepower_list.append(horsepower)\n",
    "    weight_list.append(weight)\n",
    "    acceleration_list.append(acceleration)\n",
    "    X_list.append([cylinders, weight])\n",
    "    y_list.append([mpg])\n",
    "\n",
    "#print(X)\n",
    "#print(y)\n",
    "X_init = np.array(X_list)\n",
    "y_init = np.array(y_list)\n",
    "X = X_init/np.amax(X_init, axis=0)\n",
    "#X = X_init\n",
    "y = y_init/np.amax(y_init, axis=0)\n"
   ]
  },
  {
   "cell_type": "code",
   "execution_count": null,
   "metadata": {
    "collapsed": false
   },
   "outputs": [],
   "source": []
  },
  {
   "cell_type": "markdown",
   "metadata": {},
   "source": [
    "----\n",
    "# (20 points) Write a function (or class) to visualize the Neural Network.\n",
    "\n",
    "Create a network map to visualize your data. This should minimally include each of the neurons (as circles) and the connections between neurons as lines. Include appropriate unit testing functions. You should try to also find a way to represent the weights of the connections (ex. line thickness, color, labels with numbers, etc.)\n",
    "\n",
    "A good implementation will take the basic Neural Network object from your chosen library and generate the graph.  A poor implementation will require that you convert the neural network to a intermediate object before implementation. \n",
    "\n"
   ]
  },
  {
   "cell_type": "code",
   "execution_count": 197,
   "metadata": {
    "collapsed": false
   },
   "outputs": [
    {
     "data": {
      "image/png": "[encoded data removed]",
      "text/plain": [
       "<matplotlib.figure.Figure at 0x7f892b745358>"
      ]
     },
     "metadata": {},
     "output_type": "display_data"
    }
   ],
   "source": [
    "\n",
    "import networkx as NX\n",
    "try:\n",
    "    import pylab as P\n",
    "except ImportError:\n",
    "    pass\n",
    "\n",
    "try:\n",
    "    n1 = 'Neuron 1'\n",
    "    n2 = 'Neuron 2'\n",
    "    cyl = 'Cylinders'\n",
    "    mpg = 'MPG'\n",
    "    weight = 'Weight'\n",
    "    n3 = 'Neuron 3'\n",
    "except NameError:\n",
    "    n1 = 'Neuron 1'\n",
    "    n2 = 'Neuron 2'\n",
    "    cyl = 'Cylinders'\n",
    "    mpg = 'MPG'\n",
    "    weight = 'Weight'\n",
    "    n3 = 'Neuron 3'\n",
    "    \n",
    "\n",
    "G=NX.Graph()\n",
    "G.add_edge(weight,n1)\n",
    "G.add_edge(cyl,n1)\n",
    "G.add_edge(weight,n2)\n",
    "G.add_edge(cyl,n2)\n",
    "#G.add_edge(weight,n3)\n",
    "#G.add_edge(cyl,n3)\n",
    "G.add_edge(n1, mpg)\n",
    "G.add_edge(n2, mpg)\n",
    "#G.add_edge(n3, mpg)\n",
    "\n",
    "\n",
    "\n",
    "try:\n",
    "    pos=NX.spring_layout(G)\n",
    "    NX.draw(G,pos,font_size=16,with_labels=False)\n",
    "    for p in pos: # raise text positions\n",
    "        pos[p][1]+=0.07\n",
    "    NX.draw_networkx_labels(G,pos)\n",
    "    P.show()\n",
    "except:\n",
    "    pass"
   ]
  },
  {
   "cell_type": "markdown",
   "metadata": {},
   "source": [
    "----\n",
    "# (20 points) Write a function (or class) to visualize the learning rate of your network.\n",
    "\n",
    "Write a function or class to show the progress of the network learning.  Probably the best way to do this is to use ```iteration``` on the x-axis and ```Mean Squared Error``` on the y-axis.  "
   ]
  },
  {
   "cell_type": "code",
   "execution_count": 214,
   "metadata": {
    "collapsed": false
   },
   "outputs": [
    {
     "name": "stderr",
     "output_type": "stream",
     "text": [
      "./packages/sklearn/neural_network/multilayer_perceptron.py:1266: DataConversionWarning: A column-vector y was passed when a 1d array was expected. Please change the shape of y to (n_samples, ), for example using ravel().\n",
      "  y = column_or_1d(y, warn=True)\n",
      "./packages/sklearn/utils/validation.py:395: DeprecationWarning: Passing 1d arrays as data is deprecated in 0.17 and will raise ValueError in 0.19. Reshape your data either using X.reshape(-1, 1) if your data has a single feature or X.reshape(1, -1) if it contains a single sample.\n",
      "  DeprecationWarning)\n",
      "./packages/sklearn/utils/validation.py:395: DeprecationWarning: Passing 1d arrays as data is deprecated in 0.17 and will raise ValueError in 0.19. Reshape your data either using X.reshape(-1, 1) if your data has a single feature or X.reshape(1, -1) if it contains a single sample.\n",
      "  DeprecationWarning)\n",
      "./packages/sklearn/utils/validation.py:395: DeprecationWarning: Passing 1d arrays as data is deprecated in 0.17 and will raise ValueError in 0.19. Reshape your data either using X.reshape(-1, 1) if your data has a single feature or X.reshape(1, -1) if it contains a single sample.\n",
      "  DeprecationWarning)\n",
      "./packages/sklearn/utils/validation.py:395: DeprecationWarning: Passing 1d arrays as data is deprecated in 0.17 and will raise ValueError in 0.19. Reshape your data either using X.reshape(-1, 1) if your data has a single feature or X.reshape(1, -1) if it contains a single sample.\n",
      "  DeprecationWarning)\n",
      "./packages/sklearn/utils/validation.py:395: DeprecationWarning: Passing 1d arrays as data is deprecated in 0.17 and will raise ValueError in 0.19. Reshape your data either using X.reshape(-1, 1) if your data has a single feature or X.reshape(1, -1) if it contains a single sample.\n",
      "  DeprecationWarning)\n",
      "./packages/sklearn/utils/validation.py:395: DeprecationWarning: Passing 1d arrays as data is deprecated in 0.17 and will raise ValueError in 0.19. Reshape your data either using X.reshape(-1, 1) if your data has a single feature or X.reshape(1, -1) if it contains a single sample.\n",
      "  DeprecationWarning)\n",
      "./packages/sklearn/utils/validation.py:395: DeprecationWarning: Passing 1d arrays as data is deprecated in 0.17 and will raise ValueError in 0.19. Reshape your data either using X.reshape(-1, 1) if your data has a single feature or X.reshape(1, -1) if it contains a single sample.\n",
      "  DeprecationWarning)\n",
      "./packages/sklearn/utils/validation.py:395: DeprecationWarning: Passing 1d arrays as data is deprecated in 0.17 and will raise ValueError in 0.19. Reshape your data either using X.reshape(-1, 1) if your data has a single feature or X.reshape(1, -1) if it contains a single sample.\n",
      "  DeprecationWarning)\n",
      "./packages/sklearn/utils/validation.py:395: DeprecationWarning: Passing 1d arrays as data is deprecated in 0.17 and will raise ValueError in 0.19. Reshape your data either using X.reshape(-1, 1) if your data has a single feature or X.reshape(1, -1) if it contains a single sample.\n",
      "  DeprecationWarning)\n"
     ]
    }
   ],
   "source": [
    "## Put code here to load and unit test your learning visualization.\n",
    "for i in np.linspace(0,200,9):\n",
    "    MLPRegressor(solver='lbfgs',hidden_layer_sizes=h_l_dim,max_iter=i)\n",
    "    clf.fit(X,y)\n",
    "    dif_max_iter= clf.predict([8.,3504.])"
   ]
  },
  {
   "cell_type": "markdown",
   "metadata": {},
   "source": [
    "----\n",
    "# (10 points) Train and test your code on your dataset.\n",
    "\n",
    "Put it all together here.  Write a program that uses your above modules to download; train your network; show the learning progress and the final network diagram.  "
   ]
  },
  {
   "cell_type": "code",
   "execution_count": 215,
   "metadata": {
    "collapsed": false
   },
   "outputs": [
    {
     "name": "stderr",
     "output_type": "stream",
     "text": [
      "./packages/sklearn/neural_network/multilayer_perceptron.py:1266: DataConversionWarning: A column-vector y was passed when a 1d array was expected. Please change the shape of y to (n_samples, ), for example using ravel().\n",
      "  y = column_or_1d(y, warn=True)\n"
     ]
    }
   ],
   "source": [
    "import math\n",
    "h_l_dim = (len(y)*2,10) #the hidden layer dimensions are arbitrary;  Mess with them however you need to to get good results\n",
    "clf = MLPRegressor(solver='lbfgs',hidden_layer_sizes=h_l_dim)\n",
    "clf.fit(X,y)\n",
    "predictions = clf.predict(X)\n"
   ]
  },
  {
   "cell_type": "code",
   "execution_count": 216,
   "metadata": {
    "collapsed": false
   },
   "outputs": [
    {
     "data": {
      "text/plain": [
       "[<matplotlib.lines.Line2D at 0x7f8929fa79b0>]"
      ]
     },
     "execution_count": 216,
     "metadata": {},
     "output_type": "execute_result"
    },
    {
     "data": {
      "image/png": "[encoded data removed]",
      "text/plain": [
       "<matplotlib.figure.Figure at 0x7f89809b1cc0>"
      ]
     },
     "metadata": {},
     "output_type": "display_data"
    }
   ],
   "source": [
    "m = max(y_list)\n",
    "#print(max(y_list))\n",
    "y_adjusted = np.amax(y_init, axis=0) * predictions\n",
    "\n",
    "#print(y_adjusted)\n",
    "error = (dif_max_iter-y)/y\n",
    "plt.plot(error)"
   ]
  },
  {
   "cell_type": "markdown",
   "metadata": {},
   "source": [
    "**Question 7**: To the best of your abilities, given the results of the above, write conclusion to your scientific questions.  What did you learn?"
   ]
  },
  {
   "cell_type": "markdown",
   "metadata": {},
   "source": [
    "<font size=8 color=\"#009600\">&#9998;</font> Do This - Erase the contents of this cell and replace it with your answer to the above question!  (double-click on this text to edit this cell, and hit shift+enter to save the text)"
   ]
  },
  {
   "cell_type": "markdown",
   "metadata": {},
   "source": [
    "----\n",
    "# (10 points) Final Presentation of model\n",
    "\n",
    "On November 22nd your group will present your model to the class.  Your group will be given a maximum of 10 minutes. Each member of the group is expected to explain their portion of the project.  \n",
    "\n",
    "Please include any visualizations you would like to use in your git repository.  At the very least image files of your final predictions will likely be useful.  I will have each repository downloaded to my computer and ready for presentation.  I also recommend using a Jupyter notebook to organize your visualizations. "
   ]
  },
  {
   "cell_type": "markdown",
   "metadata": {
    "collapsed": true
   },
   "source": [
    "----\n",
    "\n",
    "### Turning in your homework\n",
    "\n",
    "Now, you need to submit this assignment by uploading this jupyter notebook file to the course Desire2Learn web page. Instructors will use this file to motivate downloading of your git repository and grading of your homework. This means we will have two identical copies of this notebook (one in D2L and one in your git repository).  Each group must only submit one file to D2L.   \n",
    "\n",
    "Don't forget to add your names in the first cell.  Turn in all files using the \"Homework assignments\" folder, find the dropbox link for \"HW4-Election\", and upload it there."
   ]
  },
  {
   "cell_type": "code",
   "execution_count": null,
   "metadata": {
    "collapsed": true
   },
   "outputs": [],
   "source": []
  }
 ],
 "metadata": {
  "kernelspec": {
   "display_name": "Python 3",
   "language": "python",
   "name": "python3"
  },
  "language_info": {
   "codemirror_mode": {
    "name": "ipython",
    "version": 3
   },
   "file_extension": ".py",
   "mimetype": "text/x-python",
   "name": "python",
   "nbconvert_exporter": "python",
   "pygments_lexer": "ipython3",
   "version": "3.5.2"
  }
 },
 "nbformat": 4,
 "nbformat_minor": 1
}

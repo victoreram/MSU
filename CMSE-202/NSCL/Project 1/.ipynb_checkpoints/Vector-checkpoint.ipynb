{
 "cells": [
  {
   "cell_type": "code",
   "execution_count": 10,
   "metadata": {
    "collapsed": true
   },
   "outputs": [],
   "source": [
    "class Vector:\n",
    "    def __init__(self, x, y):\n",
    "        self.x = x\n",
    "        self.y = y\n",
    "        \n",
    "    def __mul__(self, v2):\n",
    "        x2 = self.x*v2.x\n",
    "        y2 = self.y*v2.y\n",
    "        return Vector(x2, y2)\n",
    "    \n",
    "    def __str__(self):\n",
    "        return \"(\" + str(self.x) + \", \" + str(self.y) + \")\"\n",
    "    \n",
    "    def __add__(self, v2):\n",
    "        x2 = self.x + v2.x\n",
    "        y2 = self.x + v2.y\n",
    "        return Vector(x2,y2)\n",
    "    \n",
    "    def __sub__(self, v2):\n",
    "        x2 = self.x - v2.x\n",
    "        y2 = self.x - v2.y\n",
    "        return Vector(x2,y2)\n",
    "    \n",
    "    def dot(self, v2):\n",
    "        return self.x*v2.x + self.y+v2.y\n",
    "        \n",
    "    def magnitude(self):\n",
    "        return (self.x**2+self.y**2)**(0.5)"
   ]
  },
  {
   "cell_type": "code",
   "execution_count": 9,
   "metadata": {
    "collapsed": false
   },
   "outputs": [
    {
     "name": "stdout",
     "output_type": "stream",
     "text": [
      "(0, 0)\n",
      "(0, 2)\n"
     ]
    }
   ],
   "source": [
    "v1=Vector(0,1)\n",
    "v2=Vector(1,0)\n",
    "v3=Vector(2,2)\n",
    "print(v1*v2)\n",
    "print(v1*v3)"
   ]
  },
  {
   "cell_type": "code",
   "execution_count": null,
   "metadata": {
    "collapsed": true
   },
   "outputs": [],
   "source": []
  }
 ],
 "metadata": {
  "anaconda-cloud": {},
  "kernelspec": {
   "display_name": "Python [conda root]",
   "language": "python",
   "name": "conda-root-py"
  },
  "language_info": {
   "codemirror_mode": {
    "name": "ipython",
    "version": 3
   },
   "file_extension": ".py",
   "mimetype": "text/x-python",
   "name": "python",
   "nbconvert_exporter": "python",
   "pygments_lexer": "ipython3",
   "version": "3.5.2"
  }
 },
 "nbformat": 4,
 "nbformat_minor": 1
}

{
 "cells": [
  {
   "cell_type": "code",
   "execution_count": 13,
   "metadata": {
    "collapsed": false
   },
   "outputs": [],
   "source": [
    "import math\n",
    "\n",
    "class Vector():\n",
    "    def __init__(self,x,y,z):\n",
    "        self.x = x\n",
    "        self.y = y\n",
    "        self.z = z\n",
    "        components = [self.x,self.y,self.z]\n",
    "        \n",
    "    def __add__(self, v2):\n",
    "        return Vector(self.x+v2.x, self.y+v2.y, self.z+v2.z)\n",
    "    \n",
    "    def __sub__(self, v2):\n",
    "        return Vector(self.x-v2.x, self.y-v2.y, self.z-v2.z)\n",
    "    \n",
    "    def __mul__(self, n):\n",
    "        if isinstance(n, Vector):\n",
    "            return Vector(self.x*n.x, self.y*n.y, self.z*n.z)\n",
    "        elif isinstance(n, int) or isinstance(n, float):\n",
    "            return Vector(self.x*n, self.y*n, self.z*n)\n",
    "        \n",
    "    def __div__(self,n):\n",
    "        if isinstance(n, Vector):\n",
    "            return Vector(self.x/n.x, self.y/n.y, self.z/n.z)\n",
    "        elif isinstance(n, int) or isinstance(n, float):\n",
    "            return Vector(self.x/n, self.y/n, self.z/n)\n",
    "        \n",
    "        \n",
    "    def __str__(self):\n",
    "        return \"({},{},{})\".format(self.x,self.y,self.z)\n",
    "    \n",
    "    def dot(self, v2):\n",
    "        return self.x*v2.x + self.y*v2.y + self.z*v2.z\n",
    "    \n",
    "    def magnitude(self):\n",
    "        mag_sq = 0\n",
    "        for comp in components:\n",
    "            mag_sq += comp**2\n",
    "        return math.sqrt(mag_sq)\n",
    "    \n",
    "    def distance(self, v2):\n",
    "        return ((self.x-v2.x)**2 + (self.y-v2.y)**2 +(self.z-v2.z)**2)**(0.5)\n",
    "        "
   ]
  },
  {
   "cell_type": "code",
   "execution_count": 12,
   "metadata": {
    "collapsed": false
   },
   "outputs": [
    {
     "name": "stdout",
     "output_type": "stream",
     "text": [
      "(2,4,-2)\n",
      "(2,6,0)\n"
     ]
    }
   ],
   "source": []
  },
  {
   "cell_type": "code",
   "execution_count": null,
   "metadata": {
    "collapsed": true
   },
   "outputs": [],
   "source": []
  }
 ],
 "metadata": {
  "anaconda-cloud": {},
  "kernelspec": {
   "display_name": "Python [conda root]",
   "language": "python",
   "name": "conda-root-py"
  },
  "language_info": {
   "codemirror_mode": {
    "name": "ipython",
    "version": 3
   },
   "file_extension": ".py",
   "mimetype": "text/x-python",
   "name": "python",
   "nbconvert_exporter": "python",
   "pygments_lexer": "ipython3",
   "version": "3.5.2"
  }
 },
 "nbformat": 4,
 "nbformat_minor": 1
}

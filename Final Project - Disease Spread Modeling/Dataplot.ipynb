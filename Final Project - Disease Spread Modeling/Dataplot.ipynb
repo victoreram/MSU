{
 "cells": [
  {
   "cell_type": "code",
   "execution_count": 11,
   "metadata": {
    "collapsed": false
   },
   "outputs": [
    {
     "ename": "SyntaxError",
     "evalue": "invalid syntax (<ipython-input-11-83da9f19fbf8>, line 55)",
     "output_type": "error",
     "traceback": [
      "\u001b[1;36m  File \u001b[1;32m\"<ipython-input-11-83da9f19fbf8>\"\u001b[1;36m, line \u001b[1;32m55\u001b[0m\n\u001b[1;33m    def\u001b[0m\n\u001b[1;37m         ^\u001b[0m\n\u001b[1;31mSyntaxError\u001b[0m\u001b[1;31m:\u001b[0m invalid syntax\n"
     ]
    }
   ],
   "source": [
    "class dataplotting():\n",
    "    \n",
    "    def dictcollect():\n",
    "        '''Function for collecting the data of health statement of agents,\n",
    "        status quo'''\n",
    "        '''output: a dict with health statement as key. '''\n",
    "        infected_dict = {'Healthy':0,'Symptoms':0,'No_Symptoms':0}\n",
    "        h=0\n",
    "        s=0\n",
    "        ns=0\n",
    "        for i in pop:\n",
    "            if i.health == 'healthy':\n",
    "                h+=1\n",
    "            elif i.health == 'Symptoms':\n",
    "                s+=1\n",
    "            elif i.health == 'No_Symptoms':\n",
    "                ns+=1\n",
    "            else:\n",
    "                raise Exception(\"Null_Statement\")\n",
    "        \n",
    "        infect_dict['Healthy']=h\n",
    "        infect_dict['Symptoms']=s\n",
    "        infect_dict['No_Symptoms']=ns\n",
    "    \n",
    "        return (infected_dict)\n",
    "    \n",
    "    def dataprocess_speed(time,recovery=False):\n",
    "        '''output:The infected person increased in certain timestep'''\n",
    "        '''input:the timestep you choose'''\n",
    "        '''If the recovery is able, output B is calculating the recovered people from the virus '''\n",
    "        Delta_h=healthy_array[time]-healthy_array[time-1]\n",
    "        \n",
    "        a = Delta_h\n",
    "    \n",
    "        if recovery == True:\n",
    "            Delta_v=symptom_array[time]-symptom_array[time-1]\n",
    "            b = Delta_i-Delta_h\n",
    "            return (a,b)\n",
    "        \n",
    "        else:\n",
    "            return (a)\n",
    "\n",
    "    def dataprocess_mv(array):\n",
    "        '''Input: array of recorded healthy statement of every timestep'''\n",
    "        '''Output: mean and variance of the array'''\n",
    "        ''''''\n",
    "        import numpy as np\n",
    "        \n",
    "        mean= np.mean(array)\n",
    "        \n",
    "        std= np.std(array)\n",
    "        \n",
    "        return(mean,std)\n",
    "    \n",
    "    def positionrealtionship(location):\n",
    "    '''This part may relating to checking the location and infection rate'''\n",
    "        pd = people_dict\n",
    "        \n",
    "        for p in people:\n",
    "            \n",
    "        "
   ]
  },
  {
   "cell_type": "code",
   "execution_count": null,
   "metadata": {
    "collapsed": true
   },
   "outputs": [],
   "source": []
  },
  {
   "cell_type": "code",
   "execution_count": null,
   "metadata": {
    "collapsed": true
   },
   "outputs": [],
   "source": []
  },
  {
   "cell_type": "code",
   "execution_count": null,
   "metadata": {
    "collapsed": true
   },
   "outputs": [],
   "source": []
  }
 ],
 "metadata": {
  "kernelspec": {
   "display_name": "Python 2",
   "language": "python",
   "name": "python2"
  },
  "language_info": {
   "codemirror_mode": {
    "name": "ipython",
    "version": 2
   },
   "file_extension": ".py",
   "mimetype": "text/x-python",
   "name": "python",
   "nbconvert_exporter": "python",
   "pygments_lexer": "ipython2",
   "version": "2.7.11"
  }
 },
 "nbformat": 4,
 "nbformat_minor": 1
}

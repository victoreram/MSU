{
 "cells": [
  {
   "cell_type": "code",
   "execution_count": 5,
   "metadata": {
    "collapsed": true
   },
   "outputs": [],
   "source": [
    "%matplotlib inline\n",
    "import numpy as np\n",
    "import matplotlib.pyplot as plt\n",
    "import random \n",
    "\n",
    "from IPython.display import display, clear_output\n",
    "import time\n",
    "\n",
    "\n",
    "\n",
    "\n",
    "class World():\n",
    "\n",
    "    def __init__(self, r = 50, c = 50, people = {}, pop = 10, inf_pop = 2, uniform = True):\n",
    "        '''Initializes the world with the following attributes:\n",
    "        r,c are rows and columns of the world\n",
    "        anti_b_lst is a list of the strengths of the anti-virus, default is random\n",
    "        unform decides whether the anti-virus is equally distributed\n",
    "        '''\n",
    "        self.r = r\n",
    "        self.c = c\n",
    "        # Use a uniform layer of antivirus over the board\n",
    "\n",
    "        self.bac = {}\n",
    "        self.bac_mat = np.zeros((r, c))\n",
    "        \n",
    "        if people:\n",
    "            self.people = people\n",
    "        #else:\n",
    "            #key = (x,y), value = instance\n",
    "        #self.people = self.add_people(pop, inf_pop)\n",
    "        \n",
    "        #self.people_mat = np.zeros((r,c))\n",
    "        \n",
    "        \n",
    "#     def add_virus(self, num = 100, edges=False):\n",
    "#         '''populates (num) of virus onto world'''\n",
    "#         if edges:\n",
    "#             print(\"Placing virus on edges\")\n",
    "#             # Don't bother checking for empties, assume this fill method\n",
    "#             # is only ever used to initialize the board\n",
    "#             def fill_block(from_col, to_col):\n",
    "#                 for c in range(from_col, to_col):\n",
    "#                     for r in range(0, self.r):\n",
    "#                         self.bac[(r, c)] = Virus(c, r, self)\n",
    "#                         self.bac_mat[r][c] = 1\n",
    "#             # Calculate the number of columns we need to fill on each side\n",
    "#             cols = int(num / 2 / self.r)\n",
    "#             if cols < 1:\n",
    "#                 raise Exception(\"Not enough virus to fill both edges!\")\n",
    "#             fill_block(0, cols)\n",
    "#             fill_block(self.c - cols, self.c)\n",
    "#         else:\n",
    "#             # Check if there is any room on the board\n",
    "#             if len(self.bac) < self.r * self.c:\n",
    "#                 empty_cells = []\n",
    "#                 for r in range(0, self.r):\n",
    "#                     for c in range(0, self.c):\n",
    "#                         if not (r, c) in self.bac:\n",
    "#                             empty_cells.append((r, c))\n",
    "#                 while num > 0 and len(empty_cells) > 0:\n",
    "#                     r, c = empty_cells.pop(random.randint(0, len(empty_cells) - 1))\n",
    "#                     num -= 1\n",
    "#                     self.bac[(r, c)] = Virus(c, r, self)\n",
    "#                     self.bac_mat[r][c] = 1\n",
    "                    \n",
    "        \n",
    "             \n",
    "    def draw(self):\n",
    "        '''Draws the virus matrix'''\n",
    "        pass\n",
    "        #plt.imshow()\n",
    "        #plt.imshow(self.people_mat, origin='lower', aspect='equal', cmap='Greys')"
   ]
  },
  {
   "cell_type": "code",
   "execution_count": 10,
   "metadata": {
    "collapsed": false
   },
   "outputs": [],
   "source": [
    "%matplotlib inline\n",
    "import numpy as np\n",
    "import matplotlib.pyplot as plt\n",
    "import random \n",
    "\n",
    "from IPython.display import display, clear_output\n",
    "import time\n",
    "\n",
    "\n",
    "class human():\n",
    "    world = World();\n",
    "\n",
    "    def decriment_world(self):\n",
    "        self.world.incriment_time()\n",
    "    \n",
    "    def draw_world(self):\n",
    "        self.world.draw()\n",
    "    \n",
    "    def reset_world(self):\n",
    "        self.world = grid()\n",
    "\n",
    "    \n",
    "    def __init__(self, x = 1, y = 1,state='healthy'):\n",
    "        self.x = np.random.randint(0,self.world.r)\n",
    "        self.y = np.random.randint(0,self.world.c)\n",
    "        states = ['healthy','Symptoms','No_Symptoms']\n",
    "        self.health = state\n",
    "        \n",
    "    def move(self):\n",
    "        #make sure we don't go off the gird. \n",
    "        self.x += np.random.randint(-1,2)\n",
    "        self.y += np.random.randint(-1,2)\n",
    "        \n",
    "        if(self.x < 0):\n",
    "            self.x = 0\n",
    "        if(self.y < 0):\n",
    "            self.y = 0\n",
    "        if(self.x > self.world.r-1):  #check this logic for r and c\n",
    "            self.x = self.world.r-1\n",
    "        if(self.y > self.world.c-1):\n",
    "            self.y = self.world.c-1\n",
    "        \n",
    "\n",
    "\n",
    "#         directions = ['up', 'left', 'down', 'right']\n",
    "        \n",
    "#         #First check to see if there is food up and to the right.\n",
    "#         g = [] #follow gradient\n",
    "#         m  = [] \n",
    "#         if(self.x + 1 < self.world.x_dim):\n",
    "#             if(self.world.smell[self.x+1, self.y] > 0):\n",
    "#                 m.append(self.world.smell[self.x+1, self.y])\n",
    "#                 g.append('right')\n",
    "#         if(self.y + 1 < self.world.y_dim):\n",
    "#             if(self.world.smell[self.x, self.y+1] > 0):\n",
    "#                 m.append(self.world.smell[self.x, self.y+1])\n",
    "#                 g.append('up')\n",
    "#         if(g != []):\n",
    "#             grad = g[m.index(max(m))]\n",
    "#             #print(\"Following smell\", grad)\n",
    "#         else:\n",
    "#             #else just pick a random direction.\n",
    "#             grad = random.choice(directions)\n",
    "#             #print(\"Choosing \",grad)\n",
    "        \n",
    "\n",
    "#         if(grad == 'up'):\n",
    "#             self.y = self.y + 1\n",
    "#         elif(grad == 'right'):\n",
    "#             self.x = self.x + 1\n",
    "#         elif(grad == 'down'):\n",
    "#             self.y = self.y - 1\n",
    "#         elif(grad == 'left'):\n",
    "#             self.x = self.x - 1\n",
    "#         else:\n",
    "#             print(\"ERROR!!!!!!!!!!!!\")\n",
    "\n",
    "    #def increment_time(self):\n",
    "        \n",
    "#         if(self.food == True):\n",
    "#             pick = np.zeros(self.x+self.y)\n",
    "#             pick[0:self.x] = 1\n",
    "#             if(np.random.choice(pick)==1):\n",
    "#                 self.x = self.x - 1\n",
    "#             else:\n",
    "#                 self.y = self.y - 1\n",
    "                \n",
    "#             if(self.x < 0):\n",
    "#                 self.x = 0\n",
    "#                 return\n",
    "#             if(self.y < 0):\n",
    "#                 self.y = 0\n",
    "#                 return\n",
    "            \n",
    "#             self.world.smell[self.x,self.y] = self.world.smell[self.x,self.y] + 100\n",
    "#             if(self.x == 0 and self.y == 0):\n",
    "#                 self.food = False\n",
    "#         else:\n",
    "#             self.find_food()\n",
    "#             if self.world.food[self.x, self.y] > 0:\n",
    "#                 self.world.food[self.x,self.y] -= 1\n",
    "#                 self.food = True\n",
    "                    \n",
    "    def draw(self):\n",
    "        if self.health == 'healthy':\n",
    "            color = 'g'\n",
    "        if self.health == 'Symptoms':\n",
    "            color = 'r'\n",
    "        if self.health == 'No_Symptoms':\n",
    "            color = 'y'\n",
    "        plt.scatter(self.x, self.y, color=color)\n",
    "\n"
   ]
  },
  {
   "cell_type": "code",
   "execution_count": null,
   "metadata": {
    "collapsed": false
   },
   "outputs": [],
   "source": []
  },
  {
   "cell_type": "code",
   "execution_count": 11,
   "metadata": {
    "collapsed": false
   },
   "outputs": [
    {
     "data": {
      "image/png": "[encoded data removed]",
      "text/plain": [
       "<matplotlib.figure.Figure at 0x7fad7dee2128>"
      ]
     },
     "metadata": {},
     "output_type": "display_data"
    },
    {
     "data": {
      "image/png": "[encoded data removed]",
      "text/plain": [
       "<matplotlib.figure.Figure at 0x7fad7dee2128>"
      ]
     },
     "metadata": {},
     "output_type": "display_data"
    }
   ],
   "source": [
    "people = []\n",
    "fig, ax = plt.subplots(figsize =(10,5))\n",
    "\n",
    "pop = 5\n",
    "inf_pop = 3\n",
    "for i in range(pop):\n",
    "    if i < inf_pop:\n",
    "        people.append(human(state='Symptoms'))\n",
    "    if i >= inf_pop:\n",
    "        people.append(human(state='healthy'))\n",
    "\n",
    "        \n",
    "for i in range(100):\n",
    "    people[0].draw_world()\n",
    "    \n",
    "    for p in people:\n",
    "        p.move();\n",
    "        p.draw();\n",
    "    clear_output(wait=True) # Clear output for dynamic display\n",
    "    display(fig)            # Reset display\n",
    "    fig.clear()             # Prevent overlapping and layered plots\n",
    "    time.sleep(.1)      # Sleep for a fraction of a second to allow animation to catch up\n",
    "    plt.xlim(0,60)\n",
    "    plt.ylim(0,60)\n"
   ]
  },
  {
   "cell_type": "code",
   "execution_count": null,
   "metadata": {
    "collapsed": false
   },
   "outputs": [],
   "source": [
    "\n",
    "p = add_people()\n",
    "#for i in p:\n",
    "#    print(i,p[i].health)\n",
    "    \n",
    "for loc in p:\n",
    "    print(loc)\n",
    "    #w.draw()#"
   ]
  },
  {
   "cell_type": "code",
   "execution_count": null,
   "metadata": {
    "collapsed": false
   },
   "outputs": [],
   "source": [
    "david = human(state = 'Symptoms')"
   ]
  },
  {
   "cell_type": "code",
   "execution_count": null,
   "metadata": {
    "collapsed": false
   },
   "outputs": [],
   "source": [
    "#david.__init__(state='No_Symptoms')\n",
    "david.draw()"
   ]
  },
  {
   "cell_type": "code",
   "execution_count": null,
   "metadata": {
    "collapsed": false
   },
   "outputs": [],
   "source": [
    "['healthy','Symptoms','No_Symptoms']"
   ]
  },
  {
   "cell_type": "code",
   "execution_count": null,
   "metadata": {
    "collapsed": true
   },
   "outputs": [],
   "source": [
    "victor = human()"
   ]
  },
  {
   "cell_type": "code",
   "execution_count": null,
   "metadata": {
    "collapsed": false
   },
   "outputs": [],
   "source": [
    "victor.draw()"
   ]
  },
  {
   "cell_type": "code",
   "execution_count": null,
   "metadata": {
    "collapsed": false
   },
   "outputs": [],
   "source": [
    "viruses = []\n",
    "r = 50\n",
    "c = 50\n",
    "#vpop = 10\n",
    "hpop = 10\n",
    "\n",
    "world = World(r, c)\n",
    "#world.add_virus(vpop)\n",
    "p = world.add_people(hpop)\n",
    "\n",
    "fig, ax = plt.subplots(figsize=(10,5))\n",
    "for i in range(10):\n",
    "    world.draw()\n",
    "\n",
    "    locs = list(world.people.keys())\n",
    "    for loc in locs:\n",
    "        world.bac[loc].iterate()\n",
    "    #for key in world.bac:\n",
    "    #    world.bac[key].draw()\n",
    "    # Animaiton part (dosn't change)\n",
    "    clear_output(wait=True) # Clear output for dynamic display\n",
    "    display(fig)            # Reset display\n",
    "    fig.clear()             # Prevent overlapping and layered plots\n",
    "    time.sleep(.01)      # Sleep for a fraction of a second to allow animation to catch up\n",
    "    \n"
   ]
  },
  {
   "cell_type": "code",
   "execution_count": null,
   "metadata": {
    "collapsed": true
   },
   "outputs": [],
   "source": []
  },
  {
   "cell_type": "code",
   "execution_count": null,
   "metadata": {
    "collapsed": true
   },
   "outputs": [],
   "source": []
  }
 ],
 "metadata": {
  "kernelspec": {
   "display_name": "Python 3",
   "language": "python",
   "name": "python3"
  },
  "language_info": {
   "codemirror_mode": {
    "name": "ipython",
    "version": 3
   },
   "file_extension": ".py",
   "mimetype": "text/x-python",
   "name": "python",
   "nbconvert_exporter": "python",
   "pygments_lexer": "ipython3",
   "version": "3.5.2"
  }
 },
 "nbformat": 4,
 "nbformat_minor": 1
}

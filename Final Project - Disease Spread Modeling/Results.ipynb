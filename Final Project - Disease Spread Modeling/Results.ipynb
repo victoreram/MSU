{
 "cells": [
  {
   "cell_type": "code",
   "execution_count": 225,
   "metadata": {
    "collapsed": false,
    "scrolled": false
   },
   "outputs": [],
   "source": [
    "import random\n",
    "import string\n",
    "import numpy as np\n",
    "\n",
    "%matplotlib inline\n",
    "import matplotlib.pyplot as plt\n",
    "import math\n",
    "\n",
    "from matplotlib.patches import Rectangle  \n",
    "\n",
    "class WorldNode:\n",
    "    \n",
    "    def __init__(self, name):\n",
    "        self.id = ''.join(random.choice(string.ascii_uppercase + string.ascii_lowercase + string.digits) for _ in range(8))\n",
    "        self.people = {}\n",
    "        self.name = name\n",
    "        \n",
    "    def run_infection(self):\n",
    "        ''' Give everyone in the room a chance to get sick. Each sick person has\n",
    "            a level of contagiousness which represents the probability of them\n",
    "            infecting a person that comes near them. The contagiousness should be\n",
    "            some function of the time that the person has been sick (maybe 1/n or such).\n",
    "            \n",
    "            We model the probability of a person being infected as the union of interactions\n",
    "            with sick people in the room as follows: '''\n",
    "        threat = 0\n",
    "        for k in self.people:\n",
    "            if self.people[k].infected:\n",
    "                threat += self.people[k].get_contagiousness()\n",
    "        # Use logistic function to clamp the probability between 0 and 1\n",
    "        threat = 1.0 / (1 + math.exp(-threat)) - 0.5   \n",
    "        for k in self.people:\n",
    "            if not self.people[k].infected:\n",
    "                if random.random() < threat:\n",
    "                    self.people[k].infect()\n",
    "                    \n",
    "    def add_person(self, p):\n",
    "        self.people[p.name] = p\n",
    "        \n",
    "    def remove_person(self, p):\n",
    "        del self.people[p.name]\n",
    "                                                \n",
    "class Person:\n",
    "    \n",
    "    ''' The actual person class would probably include other things like a probability distribution of where they go\n",
    "        from each node. '''\n",
    "    \n",
    "    def __init__(self, schedule):\n",
    "        # Number of people infected is determined by this. To get a proportion of the population to\n",
    "        # be infected, use self.infected = random.random() < x, where x is e.g. 0.05 for 5% of the population\n",
    "        self.infected = random.random() < .05\n",
    "        # How infectious the diease is\n",
    "        self.contagiousness = max(random.random(), 0.1) if self.infected else 0\n",
    "        self.name = ''.join(random.choice(string.ascii_uppercase + string.ascii_lowercase + string.digits) for _ in range(8))\n",
    "        self.fixed_nodes = {}\n",
    "        self.other_nodes = {}\n",
    "        self.schedule = schedule\n",
    "        self.current_node = None\n",
    "        \n",
    "    def get_scheduled_node(self, t):\n",
    "        ''' If there is a scheduled place to be at this time, return it, otherwise return None.'''\n",
    "        for (start, end, name) in self.schedule:\n",
    "            if t >= start and t < end:\n",
    "                return self.fixed_nodes[name]\n",
    "        \n",
    "    def add_node(self, node, fixed_name=None):\n",
    "        if fixed_name == \"Home\":\n",
    "            self.move_to_node(node)\n",
    "            \n",
    "        if fixed_name != None:\n",
    "            self.fixed_nodes[fixed_name] = node\n",
    "        else:\n",
    "            self.other_nodes[node.name] = node\n",
    "            \n",
    "    def randomize_nodes(self):\n",
    "        probs = [random.random() for _ in range(len(self.other_nodes))]\n",
    "        total = sum(probs)\n",
    "        while total > 1.0:\n",
    "            probs = [p * 0.95 for p in probs]\n",
    "            total = sum(probs)\n",
    "        x = 1.0 - total\n",
    "        probs[len(probs)-1] += x\n",
    "        self.other_node_probs = probs\n",
    "        \n",
    "    def infect(self):\n",
    "        self.infected = True\n",
    "        \n",
    "    def set_rate(self):\n",
    "        self.contagiousness = rate\n",
    "        \n",
    "    def get_contagiousness(self):\n",
    "        return self.contagiousness\n",
    "        \n",
    "    def cure(self):\n",
    "        self.infected = False\n",
    "        \n",
    "    def choose_next_node(self):\n",
    "        ''' Pick a random node that is not one of the fixed ones (school etc) '''\n",
    "        cumulative_prob = 0\n",
    "        r = random.random()\n",
    "        for name, prob in zip(list(self.other_nodes.keys()), self.other_node_probs):\n",
    "            cumulative_prob += prob\n",
    "            if r < cumulative_prob:\n",
    "                return self.other_nodes[name]\n",
    "        raise Exception(\"Could not choose next node\")\n",
    "        \n",
    "    def move_to_node(self, node):\n",
    "        if self.current_node != None:\n",
    "            self.current_node.remove_person(self)\n",
    "        self.current_node = node\n",
    "        self.current_node.add_person(self)\n",
    "\n",
    "def create_person(homes, workplaces, schools, other, schedule, num_nodes):\n",
    "    p = Person(schedule)\n",
    "    p.add_node(random.choice(homes), fixed_name=\"Home\")\n",
    "    p.add_node(random.choice(workplaces), fixed_name=\"Work\")\n",
    "    p.add_node(random.choice(schools), fixed_name=\"School\")\n",
    "    for node in random.sample(other, num_nodes - 3):\n",
    "        p.add_node(node)\n",
    "    p.randomize_nodes()\n",
    "    return p\n",
    "\n",
    "def make_nodes(names):\n",
    "    return [WorldNode(name) for name in names]\n",
    "\n",
    "\n",
    "\n",
    "def visualize_world(all_nodes, fig=plt):\n",
    "    # Build a grid that looks like\n",
    "    # [1][2][3]\n",
    "    # [4][5][6]\n",
    "    # [7][8][9]\n",
    "    n = math.ceil(math.sqrt(len(all_nodes)))\n",
    "    cell_side = 0.8 # Cell side length\n",
    "    # n by n grid\n",
    "    # Assign nodes to squares\n",
    "    nodes = {}\n",
    "    for i, node in enumerate(all_nodes):\n",
    "        nodes[i] = node\n",
    "    def index_to_xy(i):\n",
    "        return(i % n, int(i/n))\n",
    "    \n",
    "    xs = []\n",
    "    ys = []\n",
    "    \n",
    "    for k in nodes:\n",
    "        node = nodes[k]\n",
    "        x, y = index_to_xy(k)\n",
    "        for person in node.people.values():\n",
    "            px = x + random.random()*cell_side\n",
    "            py = y + random.random()*cell_side\n",
    "            color = 'red' if person.infected else 'blue'\n",
    "            plt.scatter([px], [py], color=color)\n",
    "            xs.append(px)\n",
    "            ys.append(py)\n",
    "        currentAxis = fig.gca()\n",
    "        currentAxis.add_patch(Rectangle((x, y), 1*cell_side, 1*cell_side, facecolor=\"none\"))\n",
    "        \n",
    "    plt.axes().set_aspect('equal', 'datalim')\n",
    "    plt.axis('off')\n",
    "    plt.show()\n",
    "\n",
    "from IPython.display import display, clear_output\n",
    "# Pass in the number of iterations to do and the number of people\n",
    "def visualize_simulation(iters, num_people):\n",
    "    \n",
    "    def make_nodes(names):\n",
    "        return [WorldNode(name) for name in names]\n",
    "    \n",
    "    times = []\n",
    "    infected_nums = []\n",
    "    \n",
    "    homes = make_nodes(list(set([(\"Home %d\") % i for i in range(10)])))\n",
    "    workplaces = make_nodes(list(set([(\"Work %d\") % i for i in range(10)])))\n",
    "    schools = make_nodes(list(set([(\"School %d\") % i for i in range(10)])))\n",
    "    \n",
    "    other_types = [\"Hobby\", \"Restaurant\"]\n",
    "    other = make_nodes(list(set([(\"%s %d\") % (random.choice(other_types), i) for i in range(10)])))\n",
    "    \n",
    "    schedules = [[(0, 8, \"Home\"), (8, 15, \"School\"), (17, 21, \"Work\"), (23, 24, \"Home\")], \\\n",
    "                 [(0, 8, \"Home\"), (8, 15, \"School\"), (23, 24, \"Home\")]]\n",
    "\n",
    "    people = [create_person(homes, workplaces, schools, other, random.choice(schedules), random.randint(6, 10)) for _ in range(num_people)]\n",
    "    all_nodes = homes + workplaces + schools + other\n",
    "    \n",
    "    fig, ax = plt.subplots(figsize =(10,10))\n",
    "    \n",
    "    for i in range(iters):\n",
    "        time = i % 24\n",
    "        times.append(time)\n",
    "        infected_nums.append(sum([int(p.infected) for p in people]))\n",
    "        ''' Move people if they should move '''\n",
    "        for p in people:\n",
    "            n = p.get_scheduled_node(time)\n",
    "            if n == None:\n",
    "                n = p.choose_next_node()\n",
    "            if n.name != p.current_node.name:\n",
    "                p.move_to_node(n)\n",
    "        for n in all_nodes:\n",
    "            n.run_infection()\n",
    "        clear_output(wait=True)\n",
    "        display(fig)\n",
    "        fig.clear()\n",
    "        visualize_world(all_nodes, fig=fig)\n",
    "\n",
    "    \n",
    "# Pass in the number of iterations to do and the number of people\n",
    "def run_simulation(iters, num_people):\n",
    "    \n",
    "    def make_nodes(names):\n",
    "        return [WorldNode(name) for name in names]\n",
    "    \n",
    "    times = []\n",
    "    infected_nums = []\n",
    "    \n",
    "    homes = make_nodes(list(set([(\"Home %d\") % i for i in range(10)])))\n",
    "    workplaces = make_nodes(list(set([(\"Work %d\") % i for i in range(10)])))\n",
    "    schools = make_nodes(list(set([(\"School %d\") % i for i in range(10)])))\n",
    "    \n",
    "    other_types = [\"Hobby\", \"Restaurant\"]\n",
    "    other = make_nodes(list(set([(\"%s %d\") % (random.choice(other_types), i) for i in range(10)])))\n",
    "    \n",
    "    schedules = [[(0, 8, \"Home\"), (8, 15, \"School\"), (17, 21, \"Work\"), (23, 24, \"Home\")], \\\n",
    "                 [(0, 8, \"Home\"), (8, 15, \"School\"), (23, 24, \"Home\")]]\n",
    "\n",
    "    people = [create_person(homes, workplaces, schools, other, random.choice(schedules), random.randint(6, 10)) for _ in range(num_people)]\n",
    "    all_nodes = homes + workplaces + schools + other\n",
    "        \n",
    "    for i in range(iters):\n",
    "        time = i % 24\n",
    "        times.append(time)\n",
    "        infected_nums.append(sum([int(p.infected) for p in people]))\n",
    "        ''' Move people if they should move '''\n",
    "        for p in people:\n",
    "            n = p.get_scheduled_node(time)\n",
    "            if n == None:\n",
    "                n = p.choose_next_node()\n",
    "            if n.name != p.current_node.name:\n",
    "                p.move_to_node(n)\n",
    "        for n in all_nodes:\n",
    "            n.run_infection()\n",
    "    \n",
    "    return (people, all_nodes, times, infected_nums)"
   ]
  },
  {
   "cell_type": "markdown",
   "metadata": {},
   "source": [
    "### The following code runs n number of iterations for m number of people through our model."
   ]
  },
  {
   "cell_type": "code",
   "execution_count": 226,
   "metadata": {
    "collapsed": false,
    "scrolled": false
   },
   "outputs": [],
   "source": [
    "_,_,a,b = run_simulation(1000,100) #'''iters num people'''"
   ]
  },
  {
   "cell_type": "code",
   "execution_count": 230,
   "metadata": {
    "collapsed": false
   },
   "outputs": [],
   "source": [
    "a = np.asarray(a)\n",
    "b = np.asarray(b)\n",
    "#print(b)"
   ]
  },
  {
   "cell_type": "code",
   "execution_count": 228,
   "metadata": {
    "collapsed": true
   },
   "outputs": [],
   "source": [
    "times = np.linspace(0,len(b)+1,len(b))"
   ]
  },
  {
   "cell_type": "markdown",
   "metadata": {},
   "source": [
    "### A simoid is then fitted to the data so the constant K can be determined to see at what sorts of rates people are being infected."
   ]
  },
  {
   "cell_type": "code",
   "execution_count": 229,
   "metadata": {
    "collapsed": false
   },
   "outputs": [
    {
     "name": "stdout",
     "output_type": "stream",
     "text": [
      "[  8.56988351e-03   1.49628346e+02]\n"
     ]
    },
    {
     "data": {
      "image/png": "[encoded data removed]",
      "text/plain": [
       "<matplotlib.figure.Figure at 0x7f0c32dd43c8>"
      ]
     },
     "metadata": {},
     "output_type": "display_data"
    }
   ],
   "source": [
    "import numpy as np\n",
    "import pylab\n",
    "from scipy.optimize import curve_fit\n",
    "%matplotlib inline\n",
    "def sigmoid(x, x0, k):\n",
    "    y = 1 / (1 + np.exp(-k*(x-x0)))\n",
    "    return y\n",
    "\n",
    "xdata = times/(max(times))#np.array([0.0,   1.0,  3.0, 4.3, 7.0,   8.0,   8.5, 10.0, 12.0]) #time/max(time) \n",
    "ydata = b/max(b) #np.array([0.01, 0.02, 0.04, 0.11, 0.43,  0.7, 0.89, 0.95, 0.99]) #symptom_array/max(symptom_array) \n",
    "\n",
    "popt, pcov = curve_fit(sigmoid, xdata, ydata)\n",
    "print(popt)\n",
    "\n",
    "x = np.linspace(-.5, 1.5, 50)\n",
    "y = sigmoid(x, *popt)\n",
    "#y2 = sigmoid(x,.07072579,8.74293457)\n",
    "pylab.plot(xdata, ydata,'o', label='data')\n",
    "pylab.plot(x,y, label='fit')\n",
    "#pylab.plot(x,y2, label='example')\n",
    "pylab.ylim(-.05, 1.05)\n",
    "pylab.legend(loc='best')\n",
    "pylab.title('Best Sigmoid Fit')\n",
    "pylab.xlabel('Normalized Time')\n",
    "pylab.ylabel('% Infected')\n",
    "pylab.grid(True)"
   ]
  },
  {
   "cell_type": "markdown",
   "metadata": {
    "collapsed": true
   },
   "source": [
    "Population   | Infection Population | Infection Rate \n",
    "------------ | -------------- | -------------\n",
    "10| 5% |~ .8\n",
    "25| 5%| ~ 1\n",
    "50| 5%|~15\n",
    "100| 5%|~40\n",
    "200|5%|~112\n",
    "500|5%|~363\n",
    "10| 10% |~ 2\n",
    "25| 10%| ~12\n",
    "50| 10%|~ 41\n",
    "100| 10%|~120\n",
    "200|10%|~232\n",
    "500|10%|~818\n",
    "10| 25% |~9\n",
    "25| 25%| ~50\n",
    "50| 25%|~158\n",
    "100| 25%|~333\n",
    "200|25%|~739\n",
    "500|25%|~1220"
   ]
  },
  {
   "cell_type": "markdown",
   "metadata": {},
   "source": [
    "Population   | Infection Population | Infection Rate \n",
    "------------ | -------------- | -------------\n",
    "10| 50% |~ 60\n",
    "25| 50%| ~138\n",
    "50| 50%|~300\n",
    "100| 50%|~623\n",
    "200|50%|~917\n",
    "500|50%|~964\n",
    "10| 75% |~51\n",
    "25| 75%| ~230\n",
    "50| 75%|~442\n",
    "100| 75%|~700\n",
    "200|75%|~796\n",
    "500|75%|~815"
   ]
  },
  {
   "cell_type": "code",
   "execution_count": 234,
   "metadata": {
    "collapsed": false
   },
   "outputs": [
    {
     "name": "stdout",
     "output_type": "stream",
     "text": [
      "39.3361860298\n"
     ]
    }
   ],
   "source": [
    "average = 0\n",
    "for i in range(10):\n",
    "    _,_,a,b = run_simulation(1000,100) #'''iters num people'''\n",
    "    a = np.asarray(a)\n",
    "    b = np.asarray(b)\n",
    "    times = np.linspace(0,len(b)+1,len(b))\n",
    "    xdata = times/(max(times))\n",
    "    ydata = b/max(b) \n",
    "\n",
    "    popt, pcov = curve_fit(sigmoid, xdata, ydata)\n",
    "    average += popt[1]\n",
    "print(average/10)\n",
    "\n",
    "#(Run1 + Run2 + Run3 + Run4 + Run5)/5"
   ]
  },
  {
   "cell_type": "code",
   "execution_count": 235,
   "metadata": {
    "collapsed": false
   },
   "outputs": [
    {
     "data": {
      "image/png": "[encoded data removed]",
      "text/plain": [
       "<matplotlib.figure.Figure at 0x7f0c32e12ba8>"
      ]
     },
     "metadata": {},
     "output_type": "display_data"
    }
   ],
   "source": [
    "x = [10,25,50,100,200,500]\n",
    "i5 = [.8,1,15,40,112,361]\n",
    "i10 = [2,12,41,120,232,818]\n",
    "i25 = [9,50,158,333,739,1220]\n",
    "i50 = [60,138,300,623,917,964]\n",
    "i75 = [51,230,442,700,796,815]\n",
    "plt.plot(x,i5,label = '5%')\n",
    "plt.plot(x,i10, label = '10%')\n",
    "plt.plot(x,i25, label = '25%')\n",
    "plt.plot(x,i50, label = '50%')\n",
    "plt.plot(x,i75, label = '75%')\n",
    "plt.legend(loc = 'upper left')\n",
    "plt.title('Infection Rate of Various Starting Infected Ratios')\n",
    "plt.xlabel('Population')\n",
    "plt.ylabel('Infection Rate')\n",
    "plt.grid(True)"
   ]
  },
  {
   "cell_type": "code",
   "execution_count": null,
   "metadata": {
    "collapsed": true
   },
   "outputs": [],
   "source": []
  }
 ],
 "metadata": {
  "kernelspec": {
   "display_name": "Python 3",
   "language": "python",
   "name": "python3"
  },
  "language_info": {
   "codemirror_mode": {
    "name": "ipython",
    "version": 3
   },
   "file_extension": ".py",
   "mimetype": "text/x-python",
   "name": "python",
   "nbconvert_exporter": "python",
   "pygments_lexer": "ipython3",
   "version": "3.5.2"
  }
 },
 "nbformat": 4,
 "nbformat_minor": 1
}

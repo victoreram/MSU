{
 "cells": [
  {
   "cell_type": "markdown",
   "metadata": {},
   "source": [
    "Juuso Eronen\n",
    "\n",
    "Victor Ramirez\n",
    "\n",
    "Huayi Wu\n"
   ]
  },
  {
   "cell_type": "markdown",
   "metadata": {},
   "source": [
    "Please read though the entire project before starting!\n",
    "\n",
    "# Homework 3 - Making Superbugs using Agent based Modeling.\n",
    "\n",
    "In this homework we are going to build an agent based model to simulate the evolution of bacteria to become resistant to antibiotics.   Please watch the following video.  Our goal is to build a simulation that reconstructs this real world experiment. \n",
    "\n",
    "http://www.the-scientist.com/?articles.view/articleNo/46993/title/Giant-Petri-Dish-Displays-Evolution-in-Space-and-Time/"
   ]
  },
  {
   "cell_type": "code",
   "execution_count": 1,
   "metadata": {
    "collapsed": false
   },
   "outputs": [
    {
     "data": {
      "image/jpeg": "[encoded data removed]",
      "text/html": [
       "\n",
       "        <iframe\n",
       "            width=\"640\"\n",
       "            height=\"360\"\n",
       "            src=\"https://www.youtube.com/embed/yybsSqcB7mE\"\n",
       "            frameborder=\"0\"\n",
       "            allowfullscreen\n",
       "        ></iframe>\n",
       "        "
      ],
      "text/plain": [
       "<IPython.lib.display.YouTubeVideo at 0x201bb408320>"
      ]
     },
     "execution_count": 1,
     "metadata": {},
     "output_type": "execute_result"
    }
   ],
   "source": [
    "from IPython.display import YouTubeVideo\n",
    "YouTubeVideo(\"yybsSqcB7mE\",width=640,height=360)"
   ]
  },
  {
   "cell_type": "markdown",
   "metadata": {},
   "source": [
    "### Project Components and Grading,\n",
    "\n",
    "1. (5 points) Use git to manage your project. \n",
    "1. (5 points) Document all Assumptions\n",
    "1. (30 points) Digital Evolution Code Development\n",
    "1. (20 points) Create Visualization\n",
    "1. (20 points) Testing Code\n",
    "1. (20 points) Experimental Reproduction\n",
    "\n",
    "As in the previous homework, you will be expected to split the work evenly between your teammates.  \n",
    "\n"
   ]
  },
  {
   "cell_type": "markdown",
   "metadata": {},
   "source": [
    "----\n",
    "# Part 1: (5 points) Use git to manage your projects\n",
    "As in the previous homework, you will be expected to split the work evenly between your teammates.  \n",
    "    * Create a private repository in github or gitlab and include your instructor as a member.  \n",
    "    * Make sure you include a copy of this notebook in the top directory of your project folder.\n",
    "    * Have every person in the group make commitments. \n",
    "    * This is how you will turn in your final project. "
   ]
  },
  {
   "cell_type": "markdown",
   "metadata": {},
   "source": [
    "**Question 1**: What is the command the instructors should use to download your project?"
   ]
  },
  {
   "cell_type": "markdown",
   "metadata": {},
   "source": [
    "git clone git@gitlab.msu.edu:ramir193/HW3-Superbugs.git"
   ]
  },
  {
   "cell_type": "markdown",
   "metadata": {},
   "source": [
    "----\n",
    "# Part 2: (5 points) Document all Assumptions"
   ]
  },
  {
   "cell_type": "markdown",
   "metadata": {},
   "source": [
    "To make this ABM work I would like you to build a system with the following assumptions.\n",
    "\n",
    "1. Assume a random rectangular petri dish of N locations wide and M locations tall (ex 90 x 45).\n",
    "1. Assume that each location on the board is given three (3) different types of anti-bacteria which each can have continuous values from min to max (ex. 0 to 1).\n",
    "1. Assume that bacteria on the board do not move. \n",
    "1. Assume each bacteria has a genome sequence of three genes of continuous number (ex. 0 1) that provide immunity to the anti-bacteria. Each gene will correspond to one of the anti-bacterial elements deposited on the petri dish\n",
    "1. Assume that at each iteration of the simulation each bacteria can randomly copy itself once to a random neighboring empty cell (up, down, left, or right). \n",
    "1. Assume that during the copy there is a chance of mutating (randomly selecting a new value) each gene by some mutation rate (ex. 20%). \n",
    "1. Assume that a bacteria will \"die\" if the value of it's gene does not contain resistance to anti-bacteria. For example, if the gene is a number less than the value of it's corresponding anti-bacteria it will die.\n",
    "\n",
    "**NOTE:** Assumptions are very important.  Make sure you document any major changes, clarifications or deviations from the above.  Instead of asking your instructor for clarification, try looking at the end goal (simulate the petri dish experiment) and make your own clarification. There are many right answers.  Even if you make incorrect choices in assumptions I can give more partial credit if you document them properly. "
   ]
  },
  {
   "cell_type": "markdown",
   "metadata": {},
   "source": [
    "**Question 2**: What additional assumptions did you make for your project?  Did you need to modify or add to any of the above assumptions to make the problem more tractable?"
   ]
  },
  {
   "cell_type": "markdown",
   "metadata": {},
   "source": [
    "1. Bacteria can't reproduce if there are no adjacent cells that are both on the board and do not already have bacteria living in them.\n",
    "\n",
    "2. Antibacteria are uniformly scattered throughout the board unless the harvard distribution is used"
   ]
  },
  {
   "cell_type": "markdown",
   "metadata": {},
   "source": [
    "----\n",
    "# Part 3: (30 points)  Digital Evolution Code Development\n",
    "\n",
    "As a group decide on what classes will be needed and create stub functions for your classes.  Distribute the work evenly between your group using GIT.  Note the following:\n",
    "\n",
    "* I will expect to see stubbed versions of your project in GIT.  \n",
    "* I will also expect many commitments to git so I can visualize your design process.\n",
    "* Points will be given based on the ease of understanding and reading of your code. (Ex. Make sure you use DocStrings)."
   ]
  },
  {
   "cell_type": "code",
   "execution_count": 2,
   "metadata": {
    "collapsed": false
   },
   "outputs": [],
   "source": [
    "%matplotlib inline\n",
    "import numpy as np\n",
    "import matplotlib.pyplot as plt\n",
    "import random \n",
    "\n",
    "from IPython.display import display, clear_output\n",
    "import time\n",
    "\n",
    "class World():\n",
    "\n",
    "    def get_harvard_antibac(self, col):\n",
    "        bins = [0, 0.5, 0.75, 0.8, 0.9, 0.8, 0.75, 0.5, 0]\n",
    "        bin_width = int(self.c / len(bins))\n",
    "        index = int(col / bin_width)\n",
    "        return [bins[index - 1]] * 3\n",
    "    \n",
    "    def get_uniform_antibac(self, col):\n",
    "        return self.anti_b_lst\n",
    "    \n",
    "    def __init__(self, r = 20, c = 50, anti_b_lst = [], uniform = True):\n",
    "        '''Initializes the world with the following attributes:\n",
    "        r,c are rows and columns of the world\n",
    "        anti_b_lst is a list of the strengths of the anti-bacteria, default is random\n",
    "        unform decides whether the anti-bacteria is equally distributed\n",
    "        '''\n",
    "        self.r = r\n",
    "        self.c = c\n",
    "        # Use a uniform layer of antibacteria over the board\n",
    "        if anti_b_lst == []:\n",
    "            self.anti_b_lst = [random.uniform(0,1) for _ in range(0, 3)]\n",
    "        else:\n",
    "            self.anti_b_lst = anti_b_lst\n",
    "            \n",
    "        # Now we can conveniently alternate between the harvard distribution and a uniform layer\n",
    "        if uniform:\n",
    "            self.get_anti_bac = self.get_uniform_antibac\n",
    "        else:\n",
    "            self.get_anti_bac = self.get_harvard_antibac\n",
    "            \n",
    "        self.bac = {}\n",
    "        self.bac_mat = np.zeros((r, c))\n",
    "        \n",
    "    def add_bacteria(self, num = 100, edges=False):\n",
    "        '''populates (num) of bacteria onto world'''\n",
    "        if edges:\n",
    "            print(\"Placing bacteria on edges\")\n",
    "            # Don't bother checking for empties, assume this fill method\n",
    "            # is only ever used to initialize the board\n",
    "            def fill_block(from_col, to_col):\n",
    "                for c in range(from_col, to_col):\n",
    "                    for r in range(0, self.r):\n",
    "                        self.bac[(r, c)] = Bacteria(c, r, self)\n",
    "                        self.bac_mat[r][c] = 1\n",
    "            # Calculate the number of columns we need to fill on each side\n",
    "            cols = int(num / 2 / self.r)\n",
    "            if cols < 1:\n",
    "                raise Exception(\"Not enough bacteria to fill both edges!\")\n",
    "            fill_block(0, cols)\n",
    "            fill_block(self.c - cols, self.c)\n",
    "        else:\n",
    "            # Check if there is any room on the board\n",
    "            if len(self.bac) < self.r * self.c:\n",
    "                empty_cells = []\n",
    "                for r in range(0, self.r):\n",
    "                    for c in range(0, self.c):\n",
    "                        if not (r, c) in self.bac:\n",
    "                            empty_cells.append((r, c))\n",
    "                while num > 0 and len(empty_cells) > 0:\n",
    "                    r, c = empty_cells.pop(random.randint(0, len(empty_cells) - 1))\n",
    "                    num -= 1\n",
    "                    self.bac[(r, c)] = Bacteria(c, r, self)\n",
    "                    self.bac_mat[r][c] = 1\n",
    "             \n",
    "    def draw(self):\n",
    "        '''Draws the bacteria matrix'''\n",
    "        plt.imshow(self.bac_mat.T, origin='lower', aspect='equal', cmap='Greys')"
   ]
  },
  {
   "cell_type": "code",
   "execution_count": 3,
   "metadata": {
    "collapsed": false
   },
   "outputs": [],
   "source": [
    "class Bacteria():\n",
    "    \n",
    "    def __init__(self, x, y, grid, imm = []):\n",
    "        '''Constructs instance of bacteria with the list imm as the immunities for each antibacteria, x & y as the locations'''\n",
    "        if imm == []:\n",
    "            self.imm = [random.uniform(0,1) for _ in range(0, 3)]\n",
    "        else:\n",
    "            self.imm = imm\n",
    "        \n",
    "        self.x = x\n",
    "        self.y = y\n",
    "        self.grid = grid\n",
    "        \n",
    "        \n",
    "    def on_grid(self, x, y):\n",
    "        '''Checks if coordinates given (x,y) are valid locations of the grid's dimensions (r,c)'''\n",
    "        return x >= 0 and y >= 0 and x < self.grid.c and y < self.grid.r\n",
    "    \n",
    "    def copy(self):\n",
    "        '''Copies attributes of self onto another instance of bacteria'''\n",
    "        for x in range(self.x - 1, self.x + 2):\n",
    "            for y in range(self.y - 1, self.y + 2):\n",
    "                if not (x == self.x and y == self.y):\n",
    "                    # Allow the bacteria to divide to the cell at x, y if the point\n",
    "                    # is on the grid and no existing bacteria lives at x, y.\n",
    "                    if self.on_grid(x, y) and self.grid.bac_mat[y][x] == 0:\n",
    "                        offspring = Bacteria(x, y, self.grid, self.imm)\n",
    "                        self.grid.bac_mat[y][x] = 1\n",
    "                        return offspring\n",
    "                    \n",
    "        # If we get to this point, there were no free adjacent cells that are on the grid.\n",
    "        return False\n",
    "    \n",
    "    def mutate(self, rate = 0.5):\n",
    "        '''Each immunity gene has a [rate] chance of mutating'''\n",
    "        self.imm = [random.uniform(0, 1) if random.random() < rate else current_val for current_val in self.imm]\n",
    "        return self\n",
    "        \n",
    "    def die(self):\n",
    "        '''Check if bacteria is immune to anti-bacteria; if bacteria doesn't pass check, it dies.'''   \n",
    "        for i,j in zip(self.imm, self.grid.get_anti_bac(self.x)):\n",
    "            if j > i:\n",
    "                self.grid.bac_mat[self.y][self.x] = 0\n",
    "                del self.grid.bac[(self.y, self.x)]\n",
    "                return True\n",
    "                \n",
    "        return False\n",
    "    \n",
    "    def iterate(self, rate=0.2):\n",
    "        '''\n",
    "        1. Check for anti-bac to see if the bacteria should die\n",
    "        2. If not, attempt to copy itself (cell division)\n",
    "        3. If copied, apply mutation based on random chance\n",
    "        '''\n",
    "        \n",
    "        if not self.die():\n",
    "            child = self.copy()\n",
    "            if child:\n",
    "                self.grid.bac[(child.y, child.x)] = child\n",
    "                child.mutate(rate)          \n",
    "        \n",
    "\n",
    "    def draw(self):\n",
    "        '''Draws the bacteria and represents the colors based on the immunities'''\n",
    "        rgb = self.imm\n",
    "        plt.scatter(self.y, self.x, facecolors=rgb)    \n",
    "    \n",
    "    "
   ]
  },
  {
   "cell_type": "code",
   "execution_count": null,
   "metadata": {
    "collapsed": false
   },
   "outputs": [],
   "source": []
  },
  {
   "cell_type": "markdown",
   "metadata": {},
   "source": [
    "**Question 3**: Although everyone is responsible for the entire homework.  How did you split up the work for this project?  (Hint: will I see this split if I look though your git logs)?"
   ]
  },
  {
   "cell_type": "markdown",
   "metadata": {},
   "source": [
    "Juuso: Part 3, 6, one test for Part 5\n",
    "Victor: Part 3, one test for Part 5\n",
    "Huayi: Part 4, one test for Part 5"
   ]
  },
  {
   "cell_type": "markdown",
   "metadata": {},
   "source": [
    "----\n",
    "# Part 4: (20 points)  Create Visualization\n",
    "\n",
    "A big part of this simulation is visualization of your results (see example below).  Much of your grade will be producing a visualization similar to the video at the beginning of this code.  Animate your visualization and include the following:\n",
    "\n",
    "* Use colors indicating the level of antibiotics in the petri dish. Since there are three antibiotics you can use the Red, Green and Blue Channels to indicate the amount of each of the three antibiotics. \n",
    "* Use colors to differenciate the different types of the bugs. Since there are three genes you can use the Red, Green and Blue color channels to differentiate them. \n",
    "* Animate the simulation \n",
    "\n",
    "Bonus points if you can create a video (ex. mp4) and include it in your git repository or post it on YouTube. "
   ]
  },
  {
   "cell_type": "code",
   "execution_count": 4,
   "metadata": {
    "collapsed": false
   },
   "outputs": [
    {
     "data": {
      "image/png": "[encoded data removed]",
      "text/plain": [
       "<matplotlib.figure.Figure at 0x201bb49b160>"
      ]
     },
     "metadata": {},
     "output_type": "display_data"
    },
    {
     "data": {
      "text/plain": [
       "<matplotlib.figure.Figure at 0x201bb49b160>"
      ]
     },
     "metadata": {},
     "output_type": "display_data"
    }
   ],
   "source": [
    "bac = []\n",
    "r = 50\n",
    "c = 20\n",
    "pop = 40\n",
    "\n",
    "world = World(r, c)\n",
    "world.add_bacteria(pop)\n",
    "    \n",
    "\n",
    "fig, ax = plt.subplots(figsize=(10,5))\n",
    "for i in range(20):\n",
    "    world.draw()\n",
    "\n",
    "    locs = list(world.bac.keys())\n",
    "    for loc in locs:\n",
    "        world.bac[loc].iterate()\n",
    "    for key in world.bac:\n",
    "        world.bac[key].draw()\n",
    "    # Animaiton part (dosn't change)\n",
    "    clear_output(wait=True) # Clear output for dynamic display\n",
    "    display(fig)            # Reset display\n",
    "    fig.clear()             # Prevent overlapping and layered plots\n",
    "    time.sleep(0.01)      # Sleep for a fraction of a second to allow animation to catch up\n",
    "    \n"
   ]
  },
  {
   "cell_type": "markdown",
   "metadata": {},
   "source": [
    "----\n",
    "# Part 5: (20 points)  Testing Code\n",
    "\n",
    "Make sure your code is well tested.  Please include at least 3 testing setup you used to help test and validate your code.  Include a print statement on what exactly each code is testing. \n",
    "\n",
    "\n",
    "I will be looking for completeness. Try to write at least one test for each class and each method in each class.  "
   ]
  },
  {
   "cell_type": "code",
   "execution_count": null,
   "metadata": {
    "collapsed": false
   },
   "outputs": [
    {
     "data": {
      "image/png": "[encoded data removed]",
      "text/plain": [
       "<matplotlib.figure.Figure at 0x201be2e5128>"
      ]
     },
     "metadata": {},
     "output_type": "display_data"
    },
    {
     "data": {
      "text/plain": [
       "<matplotlib.figure.Figure at 0x201be2e5128>"
      ]
     },
     "metadata": {},
     "output_type": "display_data"
    }
   ],
   "source": [
    "#Make antibacteria 1 weak and antibacteria 2 & 3 very strong\n",
    "bac = []\n",
    "r = 50\n",
    "c = 20\n",
    "pop = 100\n",
    "\n",
    "world = World(r, c, [0.1,0.85,0.85])\n",
    "world.add_bacteria(pop)\n",
    "\n",
    "fig, ax = plt.subplots(figsize=(10,5))\n",
    "for i in range(20):\n",
    "    world.draw()\n",
    "\n",
    "    locs = list(world.bac.keys())\n",
    "    for loc in locs:\n",
    "        world.bac[loc].iterate()\n",
    "    for key in world.bac:\n",
    "        world.bac[key].draw()\n",
    "    # Animaiton part (dosn't change)\n",
    "    clear_output(wait=True) # Clear output for dynamic display\n",
    "    display(fig)            # Reset display\n",
    "    fig.clear()             # Prevent overlapping and layered plots\n",
    "    time.sleep(0.01)      # Sleep for a fraction of a second to allow animation to catch up\n",
    "    \n",
    "\n"
   ]
  },
  {
   "cell_type": "code",
   "execution_count": null,
   "metadata": {
    "collapsed": false
   },
   "outputs": [
    {
     "data": {
      "image/png": "[encoded data removed]",
      "text/plain": [
       "<matplotlib.figure.Figure at 0x201be2e5400>"
      ]
     },
     "metadata": {},
     "output_type": "display_data"
    }
   ],
   "source": [
    "#Small population, weak anti-bacteria\n",
    "bac = []\n",
    "r = 50\n",
    "c = 20\n",
    "pop = 10\n",
    "\n",
    "world = World(r, c, [0.1,0.1,0.1])\n",
    "world.add_bacteria(pop)\n",
    "\n",
    "fig, ax = plt.subplots(figsize=(10,5))\n",
    "for i in range(20):\n",
    "    world.draw()\n",
    "\n",
    "    locs = list(world.bac.keys())\n",
    "    for loc in locs:\n",
    "        world.bac[loc].iterate()\n",
    "    for key in world.bac:\n",
    "        world.bac[key].draw()\n",
    "    # Animaiton part (dosn't change)\n",
    "    clear_output(wait=True) # Clear output for dynamic display\n",
    "    display(fig)            # Reset display\n",
    "    fig.clear()             # Prevent overlapping and layered plots\n",
    "    time.sleep(0.01)      # Sleep for a fraction of a second to allow animation to catch up\n",
    "    \n",
    "\n"
   ]
  },
  {
   "cell_type": "code",
   "execution_count": null,
   "metadata": {
    "collapsed": false
   },
   "outputs": [],
   "source": [
    "#All 3 anti-bacteria are strong\n",
    "bac = []\n",
    "r = 50\n",
    "c = 20\n",
    "pop = 300\n",
    "\n",
    "world = World(r, c, [0.85,0.85,0.85])\n",
    "world.add_bacteria(pop)\n",
    "\n",
    "fig, ax = plt.subplots(figsize=(10,5))\n",
    "for i in range(20):\n",
    "    world.draw()\n",
    "\n",
    "    locs = list(world.bac.keys())\n",
    "    for loc in locs:\n",
    "        world.bac[loc].iterate()\n",
    "    for key in world.bac:\n",
    "        world.bac[key].draw()\n",
    "    # Animaiton part (dosn't change)\n",
    "    clear_output(wait=True) # Clear output for dynamic display\n",
    "    display(fig)            # Reset display\n",
    "    fig.clear()             # Prevent overlapping and layered plots\n",
    "    time.sleep(0.01)      # Sleep for a fraction of a second to allow animation to catch up\n",
    "    \n",
    "\n"
   ]
  },
  {
   "cell_type": "code",
   "execution_count": null,
   "metadata": {
    "collapsed": true
   },
   "outputs": [],
   "source": [
    "#Add more test code as needed"
   ]
  },
  {
   "cell_type": "markdown",
   "metadata": {},
   "source": [
    "----\n",
    "# Part 6: (20 points)  Experimental Reproduction\n",
    "\n",
    "Set up and animate an experimental environment that closely matches the one show in the experiment from Harvard.  Obviously, since our environment is fully digital we have more control over the simulation so use color to provide the additional information that is not available to the researchers in the real world (ex. showing the different genes). Consider the following video:"
   ]
  },
  {
   "cell_type": "code",
   "execution_count": null,
   "metadata": {
    "collapsed": false
   },
   "outputs": [],
   "source": [
    "from IPython.display import YouTubeVideo\n",
    "YouTubeVideo(\"p_wGHmNYE_0\",width=640,height=360)"
   ]
  },
  {
   "cell_type": "markdown",
   "metadata": {},
   "source": [
    "This video was created bwith the following settings:\n",
    "\n",
    "* The bugs were inicialized in the first and last column of the petri dish with randomly generated bacteria \n",
    "* Equal amounts of all three antibiotics in 9 different bins using the following pattern:  \n",
    "    | 0.0 | 0.50 | 0.75 | 0.80 | 0.90 | 0.80 | 0.75 | 0.5 | 0.0 |\n",
    "* The cells copied with a mutation rate of 20% (i.e. there is a 20% chance each gene will randomly mutate during each copy).\n",
    "\n"
   ]
  },
  {
   "cell_type": "code",
   "execution_count": null,
   "metadata": {
    "collapsed": false
   },
   "outputs": [],
   "source": [
    "bac = []\n",
    "r = 40\n",
    "c = 40\n",
    "pop = 160\n",
    "\n",
    "world = World(r, c, uniform=False)\n",
    "world.add_bacteria(pop, edges=True)\n",
    "\n",
    "fig, ax = plt.subplots(figsize=(10,5))\n",
    "for i in range(40):\n",
    "    world.draw()\n",
    "\n",
    "    locs = list(world.bac.keys())\n",
    "    for loc in locs:\n",
    "        world.bac[loc].iterate()\n",
    "    for key in world.bac:\n",
    "        world.bac[key].draw()\n",
    "    # Animaiton part (dosn't change)\n",
    "    clear_output(wait=True) # Clear output for dynamic display\n",
    "    display(fig)            # Reset display\n",
    "    fig.clear()             # Prevent overlapping and layered plots\n",
    "    time.sleep(0.01)      # Sleep for a fraction of a second to allow animation to catch up"
   ]
  },
  {
   "cell_type": "markdown",
   "metadata": {},
   "source": [
    "----\n",
    "\n",
    "### Turning in your homework\n",
    "\n",
    "Now, you need to submit this assignment by uploading this jupyter notebook file to the course Desire2Learn web page. Instructors will use this file to motivate downloading of your git repository and grading of your homework. This means we will have two identical copies of this notebook (one in D2L and one in your git repository).  Each group must only submit one file to D2L.   \n",
    "\n",
    "Don't forget to add your names in the first cell.  Turn in all files using the \"Homework assignments\" folder, find the dropbox link for \"HW3-Superbugs\", and upload it there."
   ]
  },
  {
   "cell_type": "code",
   "execution_count": null,
   "metadata": {
    "collapsed": true
   },
   "outputs": [],
   "source": []
  }
 ],
 "metadata": {
  "anaconda-cloud": {},
  "kernelspec": {
   "display_name": "Python [default]",
   "language": "python",
   "name": "python3"
  },
  "language_info": {
   "codemirror_mode": {
    "name": "ipython",
    "version": 3
   },
   "file_extension": ".py",
   "mimetype": "text/x-python",
   "name": "python",
   "nbconvert_exporter": "python",
   "pygments_lexer": "ipython3",
   "version": "3.5.2"
  }
 },
 "nbformat": 4,
 "nbformat_minor": 1
}

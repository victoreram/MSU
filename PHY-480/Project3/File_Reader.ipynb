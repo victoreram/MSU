{
 "cells": [
  {
   "cell_type": "code",
   "execution_count": 47,
   "metadata": {
    "collapsed": false
   },
   "outputs": [],
   "source": [
    "import os\n",
    "import regex\n",
    "import datetime\n",
    "if os.getcwd().split('\\\\')[-1] != 'Planet Data 16 Mar 2017':\n",
    "    os.chdir('Planet Data 16 Mar 2017')\n",
    "    files = os.listdir()"
   ]
  },
  {
   "cell_type": "code",
   "execution_count": 48,
   "metadata": {
    "collapsed": false
   },
   "outputs": [
    {
     "name": "stdout",
     "output_type": "stream",
     "text": [
      "['earth.txt', 'jupiter.txt', 'mars.txt', 'mercury.txt', 'neptune.txt', 'pluto.txt', 'saturn.txt', 'uranus.txt', 'venus.txt']\n"
     ]
    }
   ],
   "source": [
    "print(files)"
   ]
  },
  {
   "cell_type": "code",
   "execution_count": 111,
   "metadata": {
    "collapsed": false
   },
   "outputs": [
    {
     "name": "stdout",
     "output_type": "stream",
     "text": [
      "Revised: Jul 31, 2013                  Earth                                399\n",
      "\n",
      "<_sre.SRE_Match object; span=(0, 44), match='Revised: Jul 31, 2013                  Earth'>\n",
      " Revised: Sep 13, 2016              Jupiter                                 599\n",
      "\n",
      "<_sre.SRE_Match object; span=(1, 43), match='Revised: Sep 13, 2016              Jupiter'>\n",
      " Revised: Sep 28, 2012                 Mars                             499 / 4\n",
      "\n",
      "<_sre.SRE_Match object; span=(1, 43), match='Revised: Sep 28, 2012                 Mars'>\n",
      " Revised: Jul 31, 2013              Mercury                             199 / 1\n",
      "\n",
      "<_sre.SRE_Match object; span=(1, 43), match='Revised: Jul 31, 2013              Mercury'>\n",
      " Revised: Dec 12, 2013               Neptune                                899\n",
      "\n",
      "<_sre.SRE_Match object; span=(1, 44), match='Revised: Dec 12, 2013               Neptune'>\n",
      " Revised: Nov 05, 2015             134340 Pluto                             999\n",
      "\n",
      "<_sre.SRE_Match object; span=(1, 41), match='Revised: Nov 05, 2015             134340'>\n",
      " Revised: Jun 17, 2016                Saturn                                699\n",
      "\n",
      "<_sre.SRE_Match object; span=(1, 44), match='Revised: Jun 17, 2016                Saturn'>\n",
      " Revised: Jun 17, 2016                Uranus                                799\n",
      "\n",
      "<_sre.SRE_Match object; span=(1, 44), match='Revised: Jun 17, 2016                Uranus'>\n",
      " Revised: Jul 31, 2013              Venus                               299 / 2\n",
      "\n",
      "<_sre.SRE_Match object; span=(1, 41), match='Revised: Jul 31, 2013              Venus'>\n"
     ]
    }
   ],
   "source": [
    "for file in files:\n",
    "    #print(file)\n",
    "    #text = open(file, 'r')\n",
    "    \n",
    "    with open(file, 'r') as f:\n",
    "        next(f)\n",
    "        header = f.readline()\n",
    "        print(header)\n",
    "        #print(header)\n",
    "        #pattern = '(?#0123456789)'\n",
    "        #prog = re.compile(pattern)\n",
    "        #result = prog.match(header)\n",
    "        #print(result)\n",
    "        #print(re.sub('.*?', '', header))\n",
    "        #match = re.search(r'Revised: \\w{3} \\d{2}, \\d{4}                  ', header)\n",
    "        match = re.search(r'Revised: \\w{3} \\d{2}, \\d{4}\\s*(\\w+)', header)\n",
    "        #nums = re.search('^[^0-9]', header)\n",
    "        #print(nums)\n",
    "        #planet_name = header.strip('0123456789').split()\n",
    "        #print(planet_name)\n",
    "        print(match)\n",
    "        #date = datetime.striptime(match.group(), '%Y-%m-%d').date()\n",
    "        #m = re.search('(?#0123456789)',header)\n",
    "        #print(m)\n",
    "        #for line in f:\n",
    "        #    print(line)\n",
    "#match=re.search(r'\\\\id\\s*(\\w+)',yourstring)\n",
    "#'(?!^Revised: \\w{3} \\d{2}, \\d{4}$)'"
   ]
  },
  {
   "cell_type": "code",
   "execution_count": null,
   "metadata": {
    "collapsed": true
   },
   "outputs": [],
   "source": []
  }
 ],
 "metadata": {
  "kernelspec": {
   "display_name": "Python [conda root]",
   "language": "python",
   "name": "conda-root-py"
  },
  "language_info": {
   "codemirror_mode": {
    "name": "ipython",
    "version": 3
   },
   "file_extension": ".py",
   "mimetype": "text/x-python",
   "name": "python",
   "nbconvert_exporter": "python",
   "pygments_lexer": "ipython3",
   "version": "3.5.2"
  }
 },
 "nbformat": 4,
 "nbformat_minor": 1
}

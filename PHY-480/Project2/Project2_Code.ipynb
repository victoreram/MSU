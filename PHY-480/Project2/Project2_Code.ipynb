{
 "cells": [
  {
   "cell_type": "code",
   "execution_count": 2,
   "metadata": {
    "collapsed": false
   },
   "outputs": [],
   "source": [
    "import numpy as np\n",
    "import time\n",
    "import scipy\n",
    "import random\n",
    "from scipy import linalg as la\n",
    "import math\n",
    "import copy"
   ]
  },
  {
   "cell_type": "code",
   "execution_count": 11,
   "metadata": {
    "collapsed": false
   },
   "outputs": [],
   "source": [
    "def find_max(array):\n",
    "    m = 0\n",
    "    p = 0\n",
    "    q = 0\n",
    "    dim = array.shape[0]\n",
    "    for i in range(dim):\n",
    "\n",
    "        for j in range(i+1,dim):\n",
    "\n",
    "            if abs(array[i][j]) > abs(m) and i != j:\n",
    "                m = abs(array[i][j])\n",
    "                p = i\n",
    "                q = j\n",
    "\n",
    "    return m, p, q\n",
    "\n",
    "def sct(a,p,q):\n",
    "    tau = (a[q][q] - a[p][p])/(2*a[p][q])\n",
    "    if tau < 0:\n",
    "        tan = -1/(-tau+math.sqrt(1+tau**2))\n",
    "    else:\n",
    "        tan = 1/(tau+math.sqrt(1+tau**2))\n",
    "\n",
    "    cos = 1/(math.sqrt(1+tan**2))\n",
    "    sin = tan*cos\n",
    "    \n",
    "    return sin, cos\n",
    "\n",
    "def transform(a,p,q,sin,cos):\n",
    "    b = copy.copy(a)\n",
    "    b[p][q] = 0\n",
    "    b[q][p] = 0\n",
    "    b[p][p] = a[p][p]*cos**2 - 2*a[p][q]*cos*sin + a[q][q]*sin**2\n",
    "    b[q][q] = a[p][p]*sin**2 + 2*a[p][q]*cos*sin + a[q][q]*cos**2\n",
    "\n",
    "    for i in range(a.ndim):\n",
    "        if i != p and i != q:\n",
    "            b[i][p] = cos*a[i][p] - sin*a[i][q]\n",
    "            b[i][q] = cos*a[i][q] + sin*a[i][p]\n",
    "            b[p][i] = b[i][p]\n",
    "            b[q][i] = b[i][q]\n",
    "\n",
    "    return b"
   ]
  },
  {
   "cell_type": "code",
   "execution_count": null,
   "metadata": {
    "collapsed": false
   },
   "outputs": [],
   "source": [
    "\n"
   ]
  },
  {
   "cell_type": "code",
   "execution_count": 19,
   "metadata": {
    "collapsed": false
   },
   "outputs": [
    {
     "name": "stdout",
     "output_type": "stream",
     "text": [
      "[[  3.57444444  -1.44         0.           0.           0.        ]\n",
      " [ -1.44         5.65777778  -1.44         0.           0.        ]\n",
      " [  0.          -1.44         9.13        -1.44         0.        ]\n",
      " [  0.           0.          -1.44        13.99111111  -1.44      ]\n",
      " [  0.           0.           0.          -1.44        20.24111111]] [  2.76390774+0.j   5.86993829+0.j   9.30118163+0.j  14.09384342+0.j\n",
      "  20.56557337+0.j]\n",
      "[[  2.83884652   0.           0.           0.           0.        ]\n",
      " [  0.           6.39337571  -1.44         0.           0.        ]\n",
      " [  0.          -1.44         9.13        -1.44         0.        ]\n",
      " [  0.           0.          -1.44        13.99111111  -1.44      ]\n",
      " [  0.           0.           0.          -1.44        20.24111111]]\n",
      "[[  2.83884652   0.           0.           0.           0.        ]\n",
      " [  0.           5.7752644    0.           0.           0.        ]\n",
      " [  0.           0.           9.74811131  -1.44         0.        ]\n",
      " [  0.           0.          -1.44        13.99111111  -1.44      ]\n",
      " [  0.           0.           0.          -1.44        20.24111111]]\n",
      "[[  2.83884652   0.           0.           0.           0.        ]\n",
      " [  0.           5.7752644    0.           0.           0.        ]\n",
      " [  0.           0.           9.30555937   0.           0.        ]\n",
      " [  0.           0.           0.          14.43366305  -1.44      ]\n",
      " [  0.           0.           0.          -1.44        20.24111111]]\n",
      "[[  2.83884652   0.           0.           0.           0.        ]\n",
      " [  0.           5.7752644    0.           0.           0.        ]\n",
      " [  0.           0.           9.30555937   0.           0.        ]\n",
      " [  0.           0.           0.          14.09621241   0.        ]\n",
      " [  0.           0.           0.           0.          20.57856175]]\n",
      "(2.76390773592+0j) (2.83884651504+0j) (-0.0271133432377+0j)\n",
      "(5.86993828616+0j) (5.77526440175+0j) (0.0161285996189+0j)\n",
      "(9.30118163167+0j) (9.30555936836+0j) (-0.000470664573747+0j)\n",
      "(14.0938434207+0j) (14.0962124082+0j) (-0.000168086688242+0j)\n",
      "(20.56557337+0j) (20.5785617511+0j) (-0.000631559397689+0j)\n"
     ]
    }
   ],
   "source": [
    "#a = np.array([[2,-4],[-4,1]])\n",
    "#A = np.array(([4.,2.,0.],[2.,1.,2.],[0.,2.,4.]))\n",
    "#print(A)\n",
    "\n",
    "n = 6\n",
    "rho_max = 5\n",
    "rho_min = 0\n",
    "rho = np.linspace(rho_min, rho_max, n)\n",
    "omega = 1\n",
    "l = 0\n",
    "A = np.zeros((n-1,n-1))\n",
    "h = (rho_max - rho_min)/n\n",
    "main_diag = 2/(h**2)\n",
    "sec_diag = -1/(h**2)\n",
    "\n",
    "\n",
    "\n",
    "for i in range(0,n-1):\n",
    "    rho_i = rho_min + (i+1)*h\n",
    "    A[i][i] = main_diag + rho_i**2\n",
    "    \n",
    "for i in range(1,n-1):\n",
    "    A[i][i-1] = A[i-1][i] = sec_diag\n",
    "    \n",
    "calc_eigvals = copy.copy(la.eigvals(A))\n",
    "orig_matrix = copy.copy(A)\n",
    "\n",
    "print(A,calc_eigvals)\n",
    "\n",
    "epsilon = 10**-10\n",
    "max_e = 1\n",
    "iters = 0\n",
    "max_iters = n**2\n",
    "while max_e > epsilon and iters < max_iters:\n",
    "\n",
    "    max_e, p, q = find_max(A)\n",
    "    #print(max_e,p,q,max_e > epsilon)\n",
    "    if max_e < epsilon:\n",
    "        break\n",
    "    sin, cos = sct(A,p,q)\n",
    "    A = transform(A,p,q,sin,cos)\n",
    "    iters += 1\n",
    "    print(A)\n",
    "\n",
    "new_eigvals = la.eigvals(A)\n",
    "for i in range(len(new_eigvals)):\n",
    "    print(calc_eigvals[i],new_eigvals[i],(calc_eigvals[i]-new_eigvals[i])/calc_eigvals[i] )\n",
    "    pass\n",
    "#print(A, la.eigvals(A))\n",
    "#print(b)"
   ]
  },
  {
   "cell_type": "code",
   "execution_count": null,
   "metadata": {
    "collapsed": false
   },
   "outputs": [],
   "source": []
  },
  {
   "cell_type": "code",
   "execution_count": null,
   "metadata": {
    "collapsed": false
   },
   "outputs": [],
   "source": []
  },
  {
   "cell_type": "code",
   "execution_count": null,
   "metadata": {
    "collapsed": false
   },
   "outputs": [],
   "source": []
  },
  {
   "cell_type": "code",
   "execution_count": null,
   "metadata": {
    "collapsed": true
   },
   "outputs": [],
   "source": []
  }
 ],
 "metadata": {
  "anaconda-cloud": {},
  "kernelspec": {
   "display_name": "Python [conda root]",
   "language": "python",
   "name": "conda-root-py"
  },
  "language_info": {
   "codemirror_mode": {
    "name": "ipython",
    "version": 3
   },
   "file_extension": ".py",
   "mimetype": "text/x-python",
   "name": "python",
   "nbconvert_exporter": "python",
   "pygments_lexer": "ipython3",
   "version": "3.5.2"
  }
 },
 "nbformat": 4,
 "nbformat_minor": 1
}

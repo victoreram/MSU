{
 "cells": [
  {
   "cell_type": "code",
   "execution_count": 1,
   "metadata": {
    "collapsed": true
   },
   "outputs": [],
   "source": [
    "import matplotlib.pyplot as plt\n",
    "%matplotlib inline\n",
    "import math\n",
    "import numpy as np\n",
    "import sympy as sy\n",
    "import pandas"
   ]
  },
  {
   "cell_type": "code",
   "execution_count": 2,
   "metadata": {
    "collapsed": false
   },
   "outputs": [],
   "source": [
    "def ff(x):\n",
    "    return 100*math.exp(-10*x)\n",
    "def exact(x):\n",
    "    return 1.0-(1-math.exp(-10))*x-math.exp(-10*x)"
   ]
  },
  {
   "cell_type": "code",
   "execution_count": 3,
   "metadata": {
    "collapsed": true
   },
   "outputs": [],
   "source": [
    "i = 1\n",
    "n = 10**i\n",
    "h = 1.0/(n)\n",
    "hh = h*h"
   ]
  },
  {
   "cell_type": "code",
   "execution_count": 4,
   "metadata": {
    "collapsed": false
   },
   "outputs": [],
   "source": [
    "d = np.zeros(n)\n",
    "e = np.zeros(n)\n",
    "f = np.zeros(n)\n",
    "x = np.zeros(n)\n",
    "u = np.zeros(n)\n",
    "\n",
    "u[0] = u[n-1] = 0\n",
    "for i in range(0,n,1):\n",
    "    d[i] = 2"
   ]
  },
  {
   "cell_type": "code",
   "execution_count": 5,
   "metadata": {
    "collapsed": false
   },
   "outputs": [],
   "source": [
    "for i in range(0,n,1):\n",
    "    x[i] = i*h\n",
    "    f[i] = hh*ff(i*h)"
   ]
  },
  {
   "cell_type": "code",
   "execution_count": 6,
   "metadata": {
    "collapsed": false
   },
   "outputs": [
    {
     "data": {
      "text/plain": [
       "array([ 0.1,  0.2,  0.3,  0.4,  0.5,  0.6,  0.7,  0.8,  0.9])"
      ]
     },
     "execution_count": 6,
     "metadata": {},
     "output_type": "execute_result"
    }
   ],
   "source": [
    "x[1:]"
   ]
  },
  {
   "cell_type": "code",
   "execution_count": 7,
   "metadata": {
    "collapsed": false
   },
   "outputs": [],
   "source": [
    "for i in range(1,n,1):\n",
    "    d[i] = (i+1)/i"
   ]
  },
  {
   "cell_type": "code",
   "execution_count": 8,
   "metadata": {
    "collapsed": true
   },
   "outputs": [],
   "source": [
    "for i in range(2,n,1):\n",
    "    f[i] = f[i] + f[i-1]/d[i-1]"
   ]
  },
  {
   "cell_type": "code",
   "execution_count": 9,
   "metadata": {
    "collapsed": false
   },
   "outputs": [],
   "source": [
    "u[n-1] = f[n-1]/d[n-1]\n",
    "for i in range(n-2,0,-1):\n",
    "    u[i] = (f[i]+u[i+1])/d[i]"
   ]
  },
  {
   "cell_type": "code",
   "execution_count": 10,
   "metadata": {
    "collapsed": false
   },
   "outputs": [
    {
     "data": {
      "text/plain": [
       "array([ 0.        ,  0.48991353,  0.61194761,  0.59864642,  0.53555815,\n",
       "        0.45415425,  0.3660124 ,  0.27539179,  0.18385931,  0.09199136])"
      ]
     },
     "execution_count": 10,
     "metadata": {},
     "output_type": "execute_result"
    }
   ],
   "source": [
    "u"
   ]
  },
  {
   "cell_type": "code",
   "execution_count": 11,
   "metadata": {
    "collapsed": false
   },
   "outputs": [
    {
     "data": {
      "text/plain": [
       "array([ 1.        ,  0.36787944,  0.319275  ,  0.26263707,  0.21529344,\n",
       "        0.1789727 ,  0.15162267,  0.13087417,  0.11485036,  0.10221262])"
      ]
     },
     "execution_count": 11,
     "metadata": {},
     "output_type": "execute_result"
    }
   ],
   "source": [
    "f"
   ]
  },
  {
   "cell_type": "code",
   "execution_count": 12,
   "metadata": {
    "collapsed": true
   },
   "outputs": [],
   "source": [
    "exact_results = []\n",
    "for i in x:\n",
    "    exact_results.append(exact(i))"
   ]
  },
  {
   "cell_type": "code",
   "execution_count": 13,
   "metadata": {
    "collapsed": false
   },
   "outputs": [
    {
     "data": {
      "text/plain": [
       "[0.0,\n",
       " 0.53212509882153392,\n",
       " 0.6646737967493398,\n",
       " 0.65022655161106468,\n",
       " 0.58170252108317078,\n",
       " 0.49328475296579577,\n",
       " 0.39754848778119101,\n",
       " 0.2991198979852791,\n",
       " 0.19970085731590748,\n",
       " 0.099917450132699565]"
      ]
     },
     "execution_count": 13,
     "metadata": {},
     "output_type": "execute_result"
    }
   ],
   "source": [
    "exact_results"
   ]
  },
  {
   "cell_type": "code",
   "execution_count": 14,
   "metadata": {
    "collapsed": true
   },
   "outputs": [],
   "source": [
    "def RelativeError(a,b):\n",
    "    return math.log10(abs((a-b)/a))"
   ]
  },
  {
   "cell_type": "code",
   "execution_count": 15,
   "metadata": {
    "collapsed": false
   },
   "outputs": [
    {
     "data": {
      "text/plain": [
       "-1.1005822227587378"
      ]
     },
     "execution_count": 15,
     "metadata": {},
     "output_type": "execute_result"
    }
   ],
   "source": [
    "RelativeError(exact_results[1],u[1])"
   ]
  },
  {
   "cell_type": "code",
   "execution_count": 16,
   "metadata": {
    "collapsed": false
   },
   "outputs": [],
   "source": [
    "errors = []\n",
    "for i in range(1,n,1):\n",
    "    errors.append(RelativeError(exact_results[i],u[i]))"
   ]
  },
  {
   "cell_type": "code",
   "execution_count": 17,
   "metadata": {
    "collapsed": false
   },
   "outputs": [
    {
     "data": {
      "text/plain": [
       "[-1.1005822227587378,\n",
       " -1.1005822227587378,\n",
       " -1.1005822227587387,\n",
       " -1.100582222758738,\n",
       " -1.1005822227587374,\n",
       " -1.1005822227587385,\n",
       " -1.1005822227587398,\n",
       " -1.1005822227587376,\n",
       " -1.1005822227587372]"
      ]
     },
     "execution_count": 17,
     "metadata": {},
     "output_type": "execute_result"
    }
   ],
   "source": [
    "errors"
   ]
  },
  {
   "cell_type": "code",
   "execution_count": 18,
   "metadata": {
    "collapsed": false
   },
   "outputs": [
    {
     "name": "stdout",
     "output_type": "stream",
     "text": [
      "   Computed     Exact  Relative Error    x\n",
      "0  0.489914  0.532125       -1.100582  0.1\n",
      "1  0.611948  0.664674       -1.100582  0.2\n",
      "2  0.598646  0.650227       -1.100582  0.3\n",
      "3  0.535558  0.581703       -1.100582  0.4\n",
      "4  0.454154  0.493285       -1.100582  0.5\n",
      "5  0.366012  0.397548       -1.100582  0.6\n",
      "6  0.275392  0.299120       -1.100582  0.7\n",
      "7  0.183859  0.199701       -1.100582  0.8\n",
      "8  0.091991  0.099917       -1.100582  0.9\n"
     ]
    }
   ],
   "source": [
    "lst1 = x[1:]\n",
    "lst2 = u[1:]\n",
    "lst3 = exact_results[1:]\n",
    "lst4 = errors\n",
    "\n",
    "table = pandas.DataFrame({'x': lst1, 'Computed': lst2, 'Exact': lst3,'Relative Error': lst4})\n",
    "print(table)"
   ]
  },
  {
   "cell_type": "code",
   "execution_count": 19,
   "metadata": {
    "collapsed": true
   },
   "outputs": [],
   "source": [
    "import matplotlib.pyplot as plt\n",
    "#%matplotlib inline\n",
    "import math\n",
    "import numpy as np\n",
    "import sympy as sy\n",
    "import pandas\n",
    "\n",
    "def MultipleRuns(i):\n",
    "    def ff(x):\n",
    "        return 100*math.exp(-10*x)\n",
    "    def exact(x):\n",
    "        return 1.0-(1-math.exp(-10))*x-math.exp(-10*x)\n",
    "\n",
    "    #i = 5\n",
    "    n = 10**i\n",
    "    h = 1.0/(n)\n",
    "    hh = h*h\n",
    "\n",
    "    d = np.zeros(n)\n",
    "    e = np.zeros(n)\n",
    "    f = np.zeros(n)\n",
    "    x = np.zeros(n)\n",
    "    u = np.zeros(n)\n",
    "\n",
    "    u[0] = u[n-1] = 0\n",
    "    for i in range(0,n,1):\n",
    "        d[i] = 2\n",
    "\n",
    "    for i in range(0,n,1):\n",
    "        x[i] = i*h\n",
    "        f[i] = hh*ff(i*h)\n",
    "\n",
    "    for i in range(1,n,1):\n",
    "        d[i] = (i+1)/i\n",
    "\n",
    "    for i in range(2,n,1):\n",
    "        f[i] = f[i] + f[i-1]/d[i-1]\n",
    "\n",
    "    u[n-1] = f[n-1]/d[n-1]\n",
    "    for i in range(n-2,0,-1):\n",
    "        u[i] = (f[i]+u[i+1])/d[i]\n",
    "\n",
    "    exact_results = []\n",
    "    for i in x:\n",
    "        exact_results.append(exact(i))\n",
    "\n",
    "    def RelativeError(a,b):\n",
    "        return math.log10(abs((a-b)/a))\n",
    "\n",
    "    errors = []\n",
    "    for i in range(1,n,1):\n",
    "        errors.append(RelativeError(exact_results[i],u[i]))\n",
    "\n",
    "    lst1 = x[1:]\n",
    "    lst2 = u[1:]\n",
    "    lst3 = exact_results[1:]\n",
    "    lst4 = errors\n",
    "\n",
    "    table = pandas.DataFrame({'x': lst1, 'Computed': lst2, 'Exact': lst3,'Relative Error': lst4})\n",
    "\n",
    "    print(table)"
   ]
  },
  {
   "cell_type": "code",
   "execution_count": 20,
   "metadata": {
    "collapsed": false
   },
   "outputs": [
    {
     "name": "stdout",
     "output_type": "stream",
     "text": [
      "   Computed     Exact  Relative Error    x\n",
      "0  0.489914  0.532125       -1.100582  0.1\n",
      "1  0.611948  0.664674       -1.100582  0.2\n",
      "2  0.598646  0.650227       -1.100582  0.3\n",
      "3  0.535558  0.581703       -1.100582  0.4\n",
      "4  0.454154  0.493285       -1.100582  0.5\n",
      "5  0.366012  0.397548       -1.100582  0.6\n",
      "6  0.275392  0.299120       -1.100582  0.7\n",
      "7  0.183859  0.199701       -1.100582  0.8\n",
      "8  0.091991  0.099917       -1.100582  0.9\n"
     ]
    }
   ],
   "source": [
    "MultipleRuns(1)"
   ]
  },
  {
   "cell_type": "code",
   "execution_count": null,
   "metadata": {
    "collapsed": true
   },
   "outputs": [],
   "source": [
    "for i in range(3):\n",
    "    MultipleRuns(i)"
   ]
  }
 ],
 "metadata": {
  "anaconda-cloud": {},
  "kernelspec": {
   "display_name": "Python [default]",
   "language": "python",
   "name": "python3"
  },
  "language_info": {
   "codemirror_mode": {
    "name": "ipython",
    "version": 3
   },
   "file_extension": ".py",
   "mimetype": "text/x-python",
   "name": "python",
   "nbconvert_exporter": "python",
   "pygments_lexer": "ipython3",
   "version": "3.5.2"
  }
 },
 "nbformat": 4,
 "nbformat_minor": 1
}
